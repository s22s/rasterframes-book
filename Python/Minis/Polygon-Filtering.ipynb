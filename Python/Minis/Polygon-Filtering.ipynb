{
 "cells": [
  {
   "cell_type": "markdown",
   "metadata": {},
   "source": [
    "# Polygon Filtering\n",
    "\n",
    "The purpose of this section is to provide an exampe for the type of geospatial querying available in RasterFrames through geotrellis. "
   ]
  },
  {
   "cell_type": "code",
   "execution_count": 1,
   "metadata": {},
   "outputs": [],
   "source": [
    "# Initial imports\n",
    "\n",
    "import pyspark\n",
    "from pyspark.sql import SparkSession\n",
    "from pyrasterframes import *\n",
    "from pyrasterframes.rasterfunctions import *\n",
    "\n",
    "# Add other configuration options as needed\n",
    "\n",
    "spark = SparkSession.builder. \\\n",
    "    master(\"local[*]\"). \\\n",
    "    appName(\"RasterFrames\"). \\\n",
    "    config(\"spark.ui.enabled\", \"false\"). \\\n",
    "    getOrCreate(). \\\n",
    "    withRasterFrames()"
   ]
  },
  {
   "cell_type": "markdown",
   "metadata": {},
   "source": [
    "We read in our tif and examine its structure. "
   ]
  },
  {
   "cell_type": "code",
   "execution_count": 2,
   "metadata": {},
   "outputs": [
    {
     "name": "stdout",
     "output_type": "stream",
     "text": [
      "+-----------+\n",
      "|spatial_key|\n",
      "+-----------+\n",
      "|      [1,0]|\n",
      "|      [0,1]|\n",
      "|      [2,1]|\n",
      "|      [0,0]|\n",
      "|      [1,1]|\n",
      "|      [2,0]|\n",
      "+-----------+\n",
      "\n",
      "root\n",
      " |-- spatial_key: struct (nullable = false)\n",
      " |    |-- col: integer (nullable = false)\n",
      " |    |-- row: integer (nullable = false)\n",
      " |-- bounds: polygon (nullable = true)\n",
      " |-- metadata: map (nullable = true)\n",
      " |    |-- key: string\n",
      " |    |-- value: string (valueContainsNull = false)\n",
      " |-- tile_1: rf_tile (nullable = false)\n",
      " |-- tile_2: rf_tile (nullable = false)\n",
      " |-- tile_3: rf_tile (nullable = false)\n",
      " |-- tile_4: rf_tile (nullable = false)\n",
      "\n"
     ]
    }
   ],
   "source": [
    "RF = spark.read.geotiff(\"samples/construction.tif\").asRF()\n",
    "\n",
    "RF.select(\"spatial_key\").show()\n",
    "RF.printSchema()"
   ]
  },
  {
   "cell_type": "markdown",
   "metadata": {},
   "source": [
    "As we can see, this rasterframe consists of six tiles in a three column by two row configuration across four bands. For the sake of compute time we will only run computations on the green band."
   ]
  },
  {
   "cell_type": "code",
   "execution_count": 3,
   "metadata": {},
   "outputs": [],
   "source": [
    "RF = RF.select(\"spatial_key\", \"bounds\", \"tile_2\")"
   ]
  },
  {
   "cell_type": "markdown",
   "metadata": {},
   "source": [
    "In this example we have six tiles but we only are seeking to query the area around the houses in the middle of the scene. We are now going to filter tiles based on whether or not they intersect with the polygon in the picture.\n",
    "\n",
    "![-](pics/with_geom.png)"
   ]
  },
  {
   "cell_type": "markdown",
   "metadata": {},
   "source": [
    "Here we define our polygon with the help of QGIS according to the wkt (well-known text) format and the CRS corresponding to that of the scene."
   ]
  },
  {
   "cell_type": "code",
   "execution_count": 4,
   "metadata": {},
   "outputs": [],
   "source": [
    "wkt = 'POLYGON((724341.153356255497783 4213434.954353030771017, 724447.811390113900416 4213410.254597820341587, 724409.639041154878214 4213259.810634279623628, 724322.067181774647906 4213281.14224105514586, 724341.153356255497783 4213434.954353030771017))'"
   ]
  },
  {
   "cell_type": "markdown",
   "metadata": {},
   "source": [
    "We convert the wkt to geometry"
   ]
  },
  {
   "cell_type": "code",
   "execution_count": 5,
   "metadata": {},
   "outputs": [
    {
     "name": "stdout",
     "output_type": "stream",
     "text": [
      "root\n",
      " |-- spatial_key: struct (nullable = false)\n",
      " |    |-- col: integer (nullable = false)\n",
      " |    |-- row: integer (nullable = false)\n",
      " |-- bounds: polygon (nullable = true)\n",
      " |-- tile_2: rf_tile (nullable = false)\n",
      " |-- wkt: string (nullable = false)\n",
      " |-- polygon: geometry (nullable = true)\n",
      "\n"
     ]
    }
   ],
   "source": [
    "from pyspark.sql.functions import lit\n",
    "geomRF = RF.withColumn(\"wkt\", lit(wkt)) \\\n",
    ".withColumn(\"polygon\", st_geomFromWKT(\"wkt\"))\n",
    "\n",
    "geomRF.printSchema()"
   ]
  },
  {
   "cell_type": "markdown",
   "metadata": {},
   "source": [
    "Now that the geometry is in a column, we are ready to call our spatial functions on it."
   ]
  },
  {
   "cell_type": "code",
   "execution_count": 6,
   "metadata": {},
   "outputs": [
    {
     "name": "stdout",
     "output_type": "stream",
     "text": [
      "+-----------+--------------------+--------------------+--------------------+--------------------+\n",
      "|spatial_key|              bounds|              tile_2|                 wkt|             polygon|\n",
      "+-----------+--------------------+--------------------+--------------------+--------------------+\n",
      "|      [1,0]|POLYGON ((724282 ...|UByteRawArrayTile...|POLYGON((724341.1...|POLYGON ((724341....|\n",
      "|      [1,1]|POLYGON ((724282 ...|UByteRawArrayTile...|POLYGON((724341.1...|POLYGON ((724341....|\n",
      "+-----------+--------------------+--------------------+--------------------+--------------------+\n",
      "\n"
     ]
    }
   ],
   "source": [
    "intersectRF = geomRF.filter(st_intersects(\"bounds\", \"polygon\")).asRF()\n",
    "\n",
    "intersectRF.show()"
   ]
  },
  {
   "attachments": {},
   "cell_type": "markdown",
   "metadata": {},
   "source": [
    "As we can see, the result of this operation is that we are left with two tiles out of the original six, the two in the middle of the image. All other tiles were filtered out because they did not intersect the geometry. Note that the filtered image is black and white because only one band was used in this example. Because `filter` operates on rows, the example syntax wouldn't change to implement multiple bands.\n",
    "\n",
    "![](pics/poly_filter.png)"
   ]
  }
 ],
 "metadata": {
  "kernelspec": {
   "display_name": "Python 3",
   "language": "python",
   "name": "python3"
  },
  "language_info": {
   "codemirror_mode": {
    "name": "ipython",
    "version": 3
   },
   "file_extension": ".py",
   "mimetype": "text/x-python",
   "name": "python",
   "nbconvert_exporter": "python",
   "pygments_lexer": "ipython3",
   "version": "3.6.3"
  }
 },
 "nbformat": 4,
 "nbformat_minor": 2
}
