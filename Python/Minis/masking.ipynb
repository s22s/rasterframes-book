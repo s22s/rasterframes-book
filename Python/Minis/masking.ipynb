{
 "cells": [
  {
   "cell_type": "markdown",
   "metadata": {},
   "source": [
    "# Tile masking\n",
    "Masking is a common operation to use when performing analysis across tiles. Tile masking allows one to compare two tiles, a value tile and a masking tile. The masking tile can be thought of as being placed on top of the other tile, obscuring certain values. Masking cells set to NODATA are opaque, and cells that are anything else are transparent. In this way, value cells that correspond to masking cells that are NODATA become NODATA and value cells corresponding to other values are untouched.\n",
    "\n",
    "Initial setup:"
   ]
  },
  {
   "cell_type": "code",
   "execution_count": 2,
   "metadata": {},
   "outputs": [
    {
     "name": "stdout",
     "output_type": "stream",
     "text": [
      "+-----------+--------------------+--------------------+--------------------+--------------------+\n",
      "|spatial_key|              band_1|              band_2|              band_3|              band_4|\n",
      "+-----------+--------------------+--------------------+--------------------+--------------------+\n",
      "|      [0,0]|geotrellis.raster...|geotrellis.raster...|geotrellis.raster...|geotrellis.raster...|\n",
      "+-----------+--------------------+--------------------+--------------------+--------------------+\n",
      "\n"
     ]
    }
   ],
   "source": [
    "from pyrasterframes import *\n",
    "from pyrasterframes.rasterfunctions import *\n",
    "import pyspark\n",
    "from pyspark.sql import SparkSession\n",
    "from pathlib import Path\n",
    "import numpy as np\n",
    "\n",
    "spark = SparkSession.builder. \\\n",
    "    master(\"local[*]\"). \\\n",
    "    appName(\"RasterFrames\"). \\\n",
    "    config(\"spark.ui.enabled\", \"false\"). \\\n",
    "    getOrCreate(). \\\n",
    "    withRasterFrames()\n",
    "    \n",
    "sc = spark.sparkContext\n",
    "\n",
    "resource_dir = Path('./samples').resolve()\n",
    "# Utility for reading imagery from our test data set\n",
    "filenamePattern = \"L8-B{}-Elkton-VA.tiff\"\n",
    "bandNumbers = range(1, 5)\n",
    "bandColNames = list(map(lambda n: 'band_{}'.format(n), bandNumbers))\n",
    "\n",
    "def readTiff(band):\n",
    "    return spark.read.geotiff(resource_dir.joinpath(filenamePattern.format(band)).as_uri())\n",
    "\n",
    "# The literal column will be used to perform a join later\n",
    "from functools import reduce\n",
    "joinedRF = reduce(lambda rf1, rf2: rf1.asRF().spatialJoin(rf2),\n",
    "                  [readTiff(b).withColumnRenamed('tile', 'band_{}'.format(b)) for b in bandNumbers]) \\\n",
    "                  .drop('bounds', 'metadata').asRF()\n",
    "\n",
    "joinedRF.show()"
   ]
  },
  {
   "cell_type": "markdown",
   "metadata": {},
   "source": [
    "In order to create a mask array we are going to make an array out of the values of our tile and run it through a threshold function that will assign `NODATA` if the cell value is below a certain amount."
   ]
  },
  {
   "cell_type": "code",
   "execution_count": 3,
   "metadata": {},
   "outputs": [],
   "source": [
    "rastArray = joinedRF.toDoubleRaster(\"band_1\", 186, 169)\n",
    "\n",
    "thresholdArr = []\n",
    "for i in range(0, 31434):\n",
    "    if rastArray[i] > 10500:\n",
    "        thresholdArr.append(1.0)\n",
    "    else:\n",
    "        thresholdArr.append(np.NaN)"
   ]
  },
  {
   "cell_type": "markdown",
   "metadata": {},
   "source": [
    "We will turn this array into a dataframe to join it with our existing rasterframe."
   ]
  },
  {
   "cell_type": "code",
   "execution_count": 4,
   "metadata": {},
   "outputs": [],
   "source": [
    "df = sc.parallelize([list([thresholdArr])]).toDF()"
   ]
  },
  {
   "cell_type": "markdown",
   "metadata": {},
   "source": [
    "We create a tile in our dataframe as well as a column with nothing but the value 1 in it, for joining purposes."
   ]
  },
  {
   "cell_type": "code",
   "execution_count": 5,
   "metadata": {},
   "outputs": [
    {
     "name": "stdout",
     "output_type": "stream",
     "text": [
      "+--------------------+--------------------+-------+\n",
      "|                  _1|            maskTile|joinCol|\n",
      "+--------------------+--------------------+-------+\n",
      "|[NaN, NaN, NaN, N...|DoubleRawArrayTil...|      1|\n",
      "+--------------------+--------------------+-------+\n",
      "\n"
     ]
    }
   ],
   "source": [
    "from pyspark.sql.functions import lit\n",
    "tiledDF = df.withColumn(\"maskTile\", arrayToTile(\"_1\", 186, 169)).withColumn(\"joinCol\", lit(1))\n",
    "tiledDF.show()"
   ]
  },
  {
   "cell_type": "markdown",
   "metadata": {},
   "source": [
    "We create a similar column in `joinedRF`."
   ]
  },
  {
   "cell_type": "code",
   "execution_count": 6,
   "metadata": {},
   "outputs": [],
   "source": [
    "joinedRF = joinedRF.withColumn(\"joinCol\", lit(1))"
   ]
  },
  {
   "cell_type": "markdown",
   "metadata": {},
   "source": [
    "The cell type here is initially raw, which means that it does not support any NODATA value, which is a requirement for masking. We use `convertCellType` to change the type away from raw."
   ]
  },
  {
   "cell_type": "code",
   "execution_count": 7,
   "metadata": {},
   "outputs": [
    {
     "name": "stdout",
     "output_type": "stream",
     "text": [
      "+--------------------------+\n",
      "|celltypeexpression(band_2)|\n",
      "+--------------------------+\n",
      "|                 uint16raw|\n",
      "+--------------------------+\n",
      "\n",
      "+-----------------------------+\n",
      "|celltypeexpression(band_2_ND)|\n",
      "+-----------------------------+\n",
      "|                       uint16|\n",
      "+-----------------------------+\n",
      "\n"
     ]
    }
   ],
   "source": [
    "joinedRF.select(cellType(\"band_2\")).show()\n",
    "\n",
    "joinedRF = joinedRF.withColumn(\"band_2_ND\", convertCellType(\"band_2\", 'uint16'))\n",
    "\n",
    "joinedRF.select(cellType(\"band_2_ND\")).show()"
   ]
  },
  {
   "cell_type": "markdown",
   "metadata": {},
   "source": [
    "We now join the original RF together with the dataframe containing the mask tile."
   ]
  },
  {
   "cell_type": "code",
   "execution_count": 8,
   "metadata": {},
   "outputs": [],
   "source": [
    "withMaskedTile = joinedRF.join(tiledDF, joinedRF[\"joinCol\"] == tiledDF[\"joinCol\"], how=\"outer\")"
   ]
  },
  {
   "cell_type": "markdown",
   "metadata": {},
   "source": [
    "Like we did before, it's imporant to convert the `cellType` of our maskTile away from raw because we need `NODATA` values to properly mask."
   ]
  },
  {
   "cell_type": "code",
   "execution_count": 9,
   "metadata": {},
   "outputs": [],
   "source": [
    "withMaskedTile = withMaskedTile.withColumn(\"maskTileND\", convertCellType(\"maskTile\", 'uint16'))"
   ]
  },
  {
   "cell_type": "markdown",
   "metadata": {},
   "source": [
    "Clearly the conversion was successful because there are 28570 `noDataCells` in `maskTileND`."
   ]
  },
  {
   "cell_type": "code",
   "execution_count": 10,
   "metadata": {},
   "outputs": [
    {
     "name": "stdout",
     "output_type": "stream",
     "text": [
      "+-----------------------+\n",
      "|noDataCells(maskTileND)|\n",
      "+-----------------------+\n",
      "|                  28570|\n",
      "+-----------------------+\n",
      "\n"
     ]
    }
   ],
   "source": [
    "withMaskedTile.select(noDataCells(\"maskTileND\")).show()"
   ]
  },
  {
   "cell_type": "markdown",
   "metadata": {},
   "source": [
    "## Mask \n",
    "Mask is an operation that takes two tiles and eliminates data from one cell that corresponds to a value in the other. For instance, if a cell in the masking tile contains a `NODATA`, the corresponding cell in the other tile would be set to `NODATA`, like in the following diagram where the first tile is the masking tile, the second tile is the other tile, and the final tile is the output tile.\n",
    "\n",
    "![-](pics/mask.png)\n",
    "\n",
    "If the masking cell contained anything else, the corresponding cell would have its value untouched. The mean is thus high, since all cells with a low reflectance were masked over with `NODATA` and thus not calculated."
   ]
  },
  {
   "cell_type": "code",
   "execution_count": 11,
   "metadata": {},
   "outputs": [
    {
     "name": "stdout",
     "output_type": "stream",
     "text": [
      "+-------------------------------------------------------------+\n",
      "|tileStats(masked)                                            |\n",
      "+-------------------------------------------------------------+\n",
      "|[2864,-1,9630.0,22147.0,10648.890363128503,1494703.325270259]|\n",
      "+-------------------------------------------------------------+\n",
      "\n"
     ]
    }
   ],
   "source": [
    "masked = withMaskedTile \\\n",
    "  .withColumn(\"masked\", mask(joinedRF[\"band_2_ND\"], withMaskedTile[\"maskTileND\"])).asRF()\n",
    "masked.select(tileStats(\"masked\")).show(truncate=False)"
   ]
  },
  {
   "cell_type": "markdown",
   "metadata": {},
   "source": [
    "### Inverse Mask\n",
    "Inverse mask works in the opposite way; It doesn't touch the cells that are set to NODATA in the masking tile and all other cells become NODATA. The mean is low for the same reason that the masked mean is high: High values were reverse masked over."
   ]
  },
  {
   "cell_type": "code",
   "execution_count": 12,
   "metadata": {},
   "outputs": [
    {
     "name": "stdout",
     "output_type": "stream",
     "text": [
      "+------------------------------------------------------------+\n",
      "|tileStats(inversemasked)                                    |\n",
      "+------------------------------------------------------------+\n",
      "|[28570,-1,8275.0,9996.0,8756.359047952406,118202.5029361604]|\n",
      "+------------------------------------------------------------+\n",
      "\n"
     ]
    }
   ],
   "source": [
    "inversemasked = withMaskedTile \\\n",
    "  .withColumn(\"inversemasked\", inverseMask(joinedRF[\"band_2_ND\"], withMaskedTile[\"maskTileND\"])).asRF()\n",
    "inversemasked.select(tileStats(\"inversemasked\")).show(truncate=False)"
   ]
  },
  {
   "cell_type": "code",
   "execution_count": 13,
   "metadata": {},
   "outputs": [],
   "source": [
    "raster1 = np.asarray(list(masked.toIntRaster('masked', 186, 169)))\n",
    "pixels1 = np.reshape(raster1, (169, 186))\n",
    "raster2 = np.asarray(list(inversemasked.toIntRaster('inversemasked', 186, 169)))\n",
    "pixels2 = np.reshape(raster2, (169, 186))\n",
    "\n",
    "import matplotlib as mpl\n",
    "import matplotlib.pyplot as plt\n",
    "import matplotlib.image as mpimg\n",
    "\n",
    "fig = plt.figure(figsize=(16,16))\n",
    "fig.add_subplot(1, 2, 1).set_title(\"Masked\")\n",
    "imgplot = plt.imshow(pixels1)\n",
    "imgplot.set_cmap('magma')\n",
    "fig.add_subplot(1, 2, 2).set_title(\"Inverse Masked\")\n",
    "imgplot = plt.imshow(pixels2)\n",
    "imgplot.set_cmap('magma')"
   ]
  },
  {
   "cell_type": "code",
   "execution_count": null,
   "metadata": {},
   "outputs": [],
   "source": []
  }
 ],
 "metadata": {
  "kernelspec": {
   "display_name": "Python 3",
   "language": "python",
   "name": "python3"
  },
  "language_info": {
   "codemirror_mode": {
    "name": "ipython",
    "version": 3
   },
   "file_extension": ".py",
   "mimetype": "text/x-python",
   "name": "python",
   "nbconvert_exporter": "python",
   "pygments_lexer": "ipython3",
   "version": "3.6.3"
  }
 },
 "nbformat": 4,
 "nbformat_minor": 2
}
