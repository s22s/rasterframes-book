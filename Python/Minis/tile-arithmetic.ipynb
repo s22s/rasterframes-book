{
 "cells": [
  {
   "cell_type": "markdown",
   "metadata": {},
   "source": [
    "# Tile Arithmetic\n",
    "Rasterframes includes support for arithmetic operations across tiles, calling the function on the cells that correspond to each other and producing the result of these operations as a tile. For instance, given a tile with pixels that are all 1's and a tile whose pixels are all 2's, the result of a localAdd on those tiles would be a tile with pixel values all set to 3. This example uses `localAdd`, but `localSubtract`, `localDivide`, and `localMultiply` also exist. While not used in this example, `localAddScalar`, `localSubtractScalar`, etc can be uses to perform operations with a scalar, as opposed to the local values in another tile. If using an integer, `Int` must be appended to the function name, e.g. `localAddInt`, `localSubtractInt`, etc.\n",
    "\n",
    "Initial configs"
   ]
  },
  {
   "cell_type": "code",
   "execution_count": 1,
   "metadata": {},
   "outputs": [],
   "source": [
    "from pyrasterframes import *\n",
    "from pyrasterframes.rasterfunctions import *\n",
    "import pyspark\n",
    "from pyspark.sql import SparkSession\n",
    "from pathlib import Path\n",
    "\n",
    "spark = SparkSession.builder. \\\n",
    "    master(\"local[*]\"). \\\n",
    "    appName(\"RasterFrames\"). \\\n",
    "    config(\"spark.ui.enabled\", \"false\"). \\\n",
    "    getOrCreate(). \\\n",
    "    withRasterFrames()\n",
    "    \n",
    "resource_dir = Path('./samples').resolve()\n",
    "\n",
    "filenamePattern = \"L8-B{}-Elkton-VA.tiff\"\n",
    "\n",
    "def readTiff(name):\n",
    "    return spark.read.geotiff(resource_dir.joinpath(filenamePattern.format(name)).as_uri())\n",
    "\n",
    "bandNumbers = range(1, 5)\n",
    "bandColNames = ['band_{}'.format(n) for n in bandNumbers]"
   ]
  },
  {
   "cell_type": "markdown",
   "metadata": {},
   "source": [
    "Once imported, join the tiles together based on a `spatialKey`."
   ]
  },
  {
   "cell_type": "code",
   "execution_count": 2,
   "metadata": {},
   "outputs": [],
   "source": [
    "from functools import reduce\n",
    "joinedRF = reduce(lambda rf1, rf2: rf1.asRF().spatialJoin(rf2.drop('bounds').drop('metadata')),\n",
    "                  [readTiff(b).withColumnRenamed('tile', 'band_{}'.format(b)) for b in bandNumbers])"
   ]
  },
  {
   "cell_type": "markdown",
   "metadata": {},
   "source": [
    "New columns are added based on the results of these local functions. `localAdd` adds corresponding cells, `localDivide` divides them, `localSubtractScalar` subtracts a scalar from every cell in the input tile, and `localMultiplyScalar` multiplies each cell by a scalar value. There are also functions for comparison, such as `localEqualScalar`, which sets the new cell to one if it equals a scalar value, `localGreaterEqualScalar`, which sets a cell to one if it is greater than or equal to a scalar, `localLessScalar`, etc. The diagram below is an excellent example of local functions courtesy of Geotrellis. This demonstrates `localAdd` with cell values being added based on corresponding cells. \n",
    "![](pics/local-functions.gif)"
   ]
  },
  {
   "cell_type": "code",
   "execution_count": 3,
   "metadata": {},
   "outputs": [],
   "source": [
    "add_RF = joinedRF.withColumn(\"B1+B2\", localAdd(\"band_1\", \"band_2\")).asRF()\n",
    "\n",
    "divide_RF = joinedRF.withColumn(\"B1/B2\", localDivide(\"band_1\", \"band_2\")).asRF()\n",
    "\n",
    "sub_constant_RF = joinedRF.withColumn(\"B1=10000\", localEqualScalarInt(\"band_1\", 10000)).asRF()\n",
    "\n",
    "mult_scalar_RF = joinedRF.withColumn(\"B1*2\", localMultiplyScalarInt(\"band_1\", 2)).asRF()\n",
    "\n",
    "lesseq_scalar_RF = joinedRF.withColumn(\"B1<=10000\", localLessEqualScalar(\"band_1\", 10000.0)).asRF()"
   ]
  },
  {
   "cell_type": "markdown",
   "metadata": {},
   "source": [
    "`tileMax` computes the max values of the cells in a tile, `tileSum` computes the sum of all cells, `tileMean` finds the mean value, and `tileMin` finds the minimum value. "
   ]
  },
  {
   "cell_type": "code",
   "execution_count": 4,
   "metadata": {},
   "outputs": [
    {
     "name": "stdout",
     "output_type": "stream",
     "text": [
      "+--------------+---------------+---------------+\n",
      "|tileMax(B1+B2)|tileMax(band_1)|tileMax(band_2)|\n",
      "+--------------+---------------+---------------+\n",
      "|       42925.0|        20778.0|        22147.0|\n",
      "+--------------+---------------+---------------+\n",
      "\n"
     ]
    }
   ],
   "source": [
    "add_RF.select(tileMax(\"B1+B2\"), tileMax(\"band_1\"), tileMax(\"band_2\")).show()"
   ]
  },
  {
   "cell_type": "code",
   "execution_count": 5,
   "metadata": {
    "scrolled": false
   },
   "outputs": [
    {
     "name": "stdout",
     "output_type": "stream",
     "text": [
      "+--------------+---------------+---------------+\n",
      "|tileSum(B1/B2)|tileSum(band_1)|tileSum(band_2)|\n",
      "+--------------+---------------+---------------+\n",
      "|       31389.0|   3.09149454E8|     2.806676E8|\n",
      "+--------------+---------------+---------------+\n",
      "\n"
     ]
    }
   ],
   "source": [
    "divide_RF.select(tileSum(\"B1/B2\"), tileSum(\"band_1\"), tileSum(\"band_2\")).show(1)"
   ]
  },
  {
   "cell_type": "markdown",
   "metadata": {},
   "source": [
    "Here, instead of a tile containing a float, the result is a boolean tile where the values correspond to whether or not the input was equal to a certain value."
   ]
  },
  {
   "cell_type": "code",
   "execution_count": 6,
   "metadata": {},
   "outputs": [
    {
     "name": "stdout",
     "output_type": "stream",
     "text": [
      "+-----------------+\n",
      "|tileSum(B1=10000)|\n",
      "+-----------------+\n",
      "|             17.0|\n",
      "+-----------------+\n",
      "\n"
     ]
    }
   ],
   "source": [
    "sub_constant_RF.select(tileSum(\"B1=10000\")).show()"
   ]
  },
  {
   "cell_type": "code",
   "execution_count": 7,
   "metadata": {},
   "outputs": [
    {
     "name": "stdout",
     "output_type": "stream",
     "text": [
      "+-------------+---------------+\n",
      "|tileMin(B1*2)|tileMin(band_1)|\n",
      "+-------------+---------------+\n",
      "|      18522.0|         9261.0|\n",
      "+-------------+---------------+\n",
      "\n"
     ]
    }
   ],
   "source": [
    "mult_scalar_RF.select(tileMin(\"B1*2\"), tileMin(\"band_1\")).show()"
   ]
  },
  {
   "cell_type": "markdown",
   "metadata": {},
   "source": [
    "Since this is the mean of a tile, 78 percent of the tile contains values of 1, meaning that 78% met the condition."
   ]
  },
  {
   "cell_type": "code",
   "execution_count": 8,
   "metadata": {},
   "outputs": [
    {
     "name": "stdout",
     "output_type": "stream",
     "text": [
      "+-------------------+-----------------+\n",
      "|tileMean(B1<=10000)| tileMean(band_1)|\n",
      "+-------------------+-----------------+\n",
      "| 0.7824330342940765|9834.874785264363|\n",
      "+-------------------+-----------------+\n",
      "\n"
     ]
    }
   ],
   "source": [
    "lesseq_scalar_RF.select(tileMean(\"B1<=10000\"), tileMean(\"band_1\")).show()"
   ]
  }
 ],
 "metadata": {
  "kernelspec": {
   "display_name": "Python 3",
   "language": "python",
   "name": "python3"
  },
  "language_info": {
   "codemirror_mode": {
    "name": "ipython",
    "version": 3
   },
   "file_extension": ".py",
   "mimetype": "text/x-python",
   "name": "python",
   "nbconvert_exporter": "python",
   "pygments_lexer": "ipython3",
   "version": "3.6.3"
  }
 },
 "nbformat": 4,
 "nbformat_minor": 2
}
