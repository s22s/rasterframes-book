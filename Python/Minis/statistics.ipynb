{
 "cells": [
  {
   "cell_type": "markdown",
   "metadata": {},
   "source": [
    "# Raster Statistics\n",
    "\n",
    "RasterFrames has a number of extension methods and columnar functions for performing analysis on tiles."
   ]
  },
  {
   "cell_type": "code",
   "execution_count": 10,
   "metadata": {},
   "outputs": [],
   "source": [
    "from pyrasterframes import *\n",
    "from pyrasterframes.rasterfunctions import *\n",
    "import pyspark\n",
    "from pyspark.sql import SparkSession\n",
    "from pathlib import Path\n",
    "import matplotlib\n",
    "import matplotlib.pyplot as plt\n",
    "import numpy as np\n",
    "\n",
    "resource_dir = Path('./samples').resolve()\n",
    "\n",
    "spark = SparkSession.builder. \\\n",
    "    master(\"local[*]\"). \\\n",
    "    appName(\"RasterFrames\"). \\\n",
    "    config(\"spark.ui.enabled\", \"false\"). \\\n",
    "    getOrCreate(). \\\n",
    "    withRasterFrames()\n",
    "# spark.sparkContext.setLogLevel(\"ERROR\")\n",
    "\n",
    "rf = spark.read.geotiff(resource_dir.joinpath(\"L8-B8-Robinson-IL.tiff\").as_uri())"
   ]
  },
  {
   "cell_type": "markdown",
   "metadata": {},
   "source": [
    "## Tile Statistics \n",
    "\n",
    "### Tile Dimensions\n",
    "\n",
    "Get the nominal tile dimensions. Depending on the tiling there may be some tiles with different sizes on the edges."
   ]
  },
  {
   "cell_type": "code",
   "execution_count": 7,
   "metadata": {
    "scrolled": false
   },
   "outputs": [
    {
     "name": "stdout",
     "output_type": "stream",
     "text": [
      "+-----------+---------------+\n",
      "|spatial_key|dimension(tile)|\n",
      "+-----------+---------------+\n",
      "|      [2,1]|      [194,250]|\n",
      "|      [0,0]|      [194,250]|\n",
      "|      [3,1]|      [194,250]|\n",
      "|      [1,0]|      [194,250]|\n",
      "|      [3,0]|      [194,250]|\n",
      "|      [0,1]|      [194,250]|\n",
      "|      [1,1]|      [194,250]|\n",
      "|      [2,0]|      [194,250]|\n",
      "+-----------+---------------+\n",
      "\n"
     ]
    }
   ],
   "source": [
    "rf.select(rf.spatialKeyColumn(), tileDimensions(\"tile\")).show()"
   ]
  },
  {
   "cell_type": "markdown",
   "metadata": {},
   "source": [
    "### Descriptive Statistics\n",
    "\n",
    "#### NoData Counts\n",
    "\n",
    "Count the numer of `NoData` and non-`NoData` cells in each tile."
   ]
  },
  {
   "cell_type": "code",
   "execution_count": null,
   "metadata": {},
   "outputs": [],
   "source": [
    "rf.select(rf.spatialKeyColumn(), noDataCells(\"tile\"), dataCells(\"tile\")).show()"
   ]
  },
  {
   "cell_type": "markdown",
   "metadata": {},
   "source": [
    "#### Tile Mean\n",
    "\n",
    "Compute the mean value in each tile."
   ]
  },
  {
   "cell_type": "code",
   "execution_count": null,
   "metadata": {},
   "outputs": [],
   "source": [
    "rf.select(rf.spatialKeyColumn(), tileMean(\"tile\")).show(3)"
   ]
  },
  {
   "cell_type": "markdown",
   "metadata": {},
   "source": [
    "## Aggregate Statistics\n",
    "\n",
    "The `aggStats` function computes the same summary statistics as `tileStats`, but aggregates them over the whole \n",
    "RasterFrame."
   ]
  },
  {
   "cell_type": "code",
   "execution_count": 17,
   "metadata": {},
   "outputs": [
    {
     "name": "stdout",
     "output_type": "stream",
     "text": [
      "+-----------------------------------------------------------------+\n",
      "|aggStats(tile)                                                   |\n",
      "+-----------------------------------------------------------------+\n",
      "|[387000,1000,7209.0,39217.0,10160.48549870801,3315238.5311127007]|\n",
      "+-----------------------------------------------------------------+\n",
      "\n"
     ]
    }
   ],
   "source": [
    "rf.select(aggStats(\"tile\")).show(truncate=False)"
   ]
  },
  {
   "cell_type": "markdown",
   "metadata": {},
   "source": [
    "## Plotting \n",
    "Data can be extracted and plotted with matplotlib. "
   ]
  },
  {
   "cell_type": "code",
   "execution_count": 11,
   "metadata": {},
   "outputs": [
    {
     "data": {
      "image/png": "[encoded data removed]",
      "text/plain": [
       "<matplotlib.figure.Figure at 0x7f166cec6a58>"
      ]
     },
     "metadata": {},
     "output_type": "display_data"
    }
   ],
   "source": [
    "# Graph the mins, maxes, and means all at once\n",
    "mins = list(map(lambda x: x[0], \n",
    "         rf.withColumn(\"stats\", tileStats(\"tile\")).select(rf.spatialKeyColumn(), \"stats.*\").select(\"min\").collect()))\n",
    "maxes = list(map(lambda x: x[0], \n",
    "         rf.withColumn(\"stats\", tileStats(\"tile\")).select(rf.spatialKeyColumn(), \"stats.*\").select(\"max\").collect()))\n",
    "means = list(map(lambda x: x[0], \n",
    "         rf.withColumn(\"stats\", tileStats(\"tile\")).select(rf.spatialKeyColumn(), \"stats.*\").select(\"mean\").collect()))\n",
    "\n",
    "bands = range(1, 9)\n",
    "plt.xlabel(\"Bands\")\n",
    "plt.ylabel(\"Intensity\")\n",
    "plt.plot(bands, mins, 'ro', label='min')\n",
    "plt.plot(bands, means, 'go', label='mean')\n",
    "plt.plot(bands, maxes, 'bo', label='max')\n",
    "plt.legend()\n",
    "plt.show()"
   ]
  },
  {
   "cell_type": "code",
   "execution_count": null,
   "metadata": {},
   "outputs": [],
   "source": [
    "rf.withColumn(\"stats\", tileStats(\"tile\")).select(rf.spatialKeyColumn(), \"stats.*\").show(3)"
   ]
  },
  {
   "cell_type": "markdown",
   "metadata": {},
   "source": [
    "### Histogram\n",
    "\n",
    "The `tileHistogram` function computes a histogram over the data in each tile. See the \n",
    "[GeoTrellis Histogram](geotrellis.raster.histogram.Histogram) documentation for details on what's\n",
    "available in the resulting data structure."
   ]
  },
  {
   "cell_type": "code",
   "execution_count": 14,
   "metadata": {},
   "outputs": [],
   "source": [
    "hists = list(map(lambda x: (x[0].bins), rf.select(tileHistogram(\"tile\")).collect()))\n",
    "\n",
    "binList = []\n",
    "for hist in hists:\n",
    "    for bins in hist:\n",
    "        binList.append((bins[0], bins[1]))"
   ]
  },
  {
   "cell_type": "markdown",
   "metadata": {},
   "source": [
    "This is a plot of the histograms that were just computed across several of the tiles. "
   ]
  },
  {
   "cell_type": "code",
   "execution_count": 15,
   "metadata": {},
   "outputs": [
    {
     "data": {
      "image/png": "[encoded data removed]",
      "text/plain": [
       "<matplotlib.figure.Figure at 0x7f166ce256a0>"
      ]
     },
     "metadata": {},
     "output_type": "display_data"
    }
   ],
   "source": [
    "unzipped = list(zip(*binList))\n",
    "\n",
    "fig, ax = plt.subplots()\n",
    "plt.scatter(unzipped[0], unzipped[1], s=.75)\n",
    "plt.xlabel(\"Intensity\")\n",
    "plt.ylabel(\"Bin Counts\")\n",
    "plt.title('Histogram graph')\n",
    "plt.show()"
   ]
  }
 ],
 "metadata": {
  "kernelspec": {
   "display_name": "Python 3",
   "language": "python",
   "name": "python3"
  },
  "language_info": {
   "codemirror_mode": {
    "name": "ipython",
    "version": 3
   },
   "file_extension": ".py",
   "mimetype": "text/x-python",
   "name": "python",
   "nbconvert_exporter": "python",
   "pygments_lexer": "ipython3",
   "version": "3.6.3"
  }
 },
 "nbformat": 4,
 "nbformat_minor": 2
}
