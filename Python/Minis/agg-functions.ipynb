{
 "cells": [
  {
   "cell_type": "markdown",
   "metadata": {},
   "source": [
    "# Aggregate functions\n",
    "Aggregate functions operate on whole columns of tiles at once, typically returning a tile that is the result of the operation . An example of this type of function is finding the mean cell values of a column of tiles. Other statistical and diagnostic tasks can be performed on columns of tiles at a time."
   ]
  },
  {
   "cell_type": "code",
   "execution_count": 7,
   "metadata": {},
   "outputs": [],
   "source": [
    "from pyrasterframes import *\n",
    "from pyrasterframes.rasterfunctions import *\n",
    "import pyspark\n",
    "from pyspark.sql import SparkSession\n",
    "from pathlib import Path\n",
    "\n",
    "spark = SparkSession.builder. \\\n",
    "    master(\"local[*]\"). \\\n",
    "    appName(\"RasterFrames\"). \\\n",
    "    config(\"spark.ui.enabled\", \"false\"). \\\n",
    "    getOrCreate(). \\\n",
    "    withRasterFrames()\n",
    "\n",
    "sc = spark.sparkContext\n",
    "\n",
    "resource_dir = Path('../samples').resolve()\n",
    "filenamePattern = \"L8-B{}-Elkton-VA.tiff\"\n",
    "def readTiff(name):\n",
    "    return spark.read.geotiff(resource_dir.joinpath(filenamePattern.format(name)).as_uri())"
   ]
  },
  {
   "cell_type": "code",
   "execution_count": 5,
   "metadata": {},
   "outputs": [],
   "source": [
    "from functools import reduce\n",
    "# Start at the bottom\n",
    "def bandsToJoin(bands):\n",
    "    # Join all three columns together according to a spatial key\n",
    "    return(reduce(lambda rf1, rf2: rf1.asRF().spatialJoin(rf2), \n",
    "    # create a new column with the value assigned in the previous step\n",
    "    [x[1].withColumn((\"col_\" + str(x[0])), x[1][\"tile\"]) for x in\n",
    "    # Read bands 1-3 of the tiff and also assign one of three values to it\n",
    "    [((s - 1) % 3, readTiff(s)) for s in (1,2,3)]]) \\\n",
    "        # Get rid of columns we don't care about\n",
    "        .drop('bounds', 'metadata', 'tile'))"
   ]
  },
  {
   "cell_type": "markdown",
   "metadata": {},
   "source": [
    "Create a contrived example of columns with multiple tiles. Bands 1,4,7 are in col_0, 2,5,8 are in col_1, and 3,6,9 are in col_2."
   ]
  },
  {
   "cell_type": "code",
   "execution_count": 11,
   "metadata": {},
   "outputs": [],
   "source": [
    "bands1RF = bandsToJoin((1,2,3))\n",
    "bands2RF = bandsToJoin((4,5,6))\n",
    "bands3RF = bandsToJoin((7,8,9))"
   ]
  },
  {
   "cell_type": "code",
   "execution_count": 9,
   "metadata": {},
   "outputs": [
    {
     "name": "stdout",
     "output_type": "stream",
     "text": [
      "+-----------+--------------------+--------------------+--------------------+\n",
      "|spatial_key|               col_0|               col_1|               col_2|\n",
      "+-----------+--------------------+--------------------+--------------------+\n",
      "|      [0,0]|geotrellis.raster...|geotrellis.raster...|geotrellis.raster...|\n",
      "+-----------+--------------------+--------------------+--------------------+\n",
      "\n"
     ]
    }
   ],
   "source": [
    "# get a rasterframe with band_0, band_1, band_2\n",
    "bands3RF.show()"
   ]
  },
  {
   "cell_type": "markdown",
   "metadata": {},
   "source": [
    "Join the three rasterframes together vertically, stacking them based on the four common columns"
   ]
  },
  {
   "cell_type": "code",
   "execution_count": 12,
   "metadata": {},
   "outputs": [],
   "source": [
    "grouped = bands1RF.union(bands2RF).union(bands3RF)"
   ]
  },
  {
   "cell_type": "markdown",
   "metadata": {},
   "source": [
    "Compute statistics based on aggregates of tiles. These are all column-wise operations, so `aggMean` computes the average of all cells of all tiles in a certain column, returning a scalar. This is in contrast to local functions like `localAggMean`, which would return a tile where every cell is the mean of the corresponding input cells."
   ]
  },
  {
   "cell_type": "code",
   "execution_count": 13,
   "metadata": {},
   "outputs": [
    {
     "name": "stdout",
     "output_type": "stream",
     "text": [
      "+-----------------+\n",
      "|  agg_mean(col_0)|\n",
      "+-----------------+\n",
      "|9834.874785264363|\n",
      "+-----------------+\n",
      "\n"
     ]
    }
   ],
   "source": [
    "grouped.select(aggMean(\"col_0\")).show()"
   ]
  },
  {
   "cell_type": "markdown",
   "metadata": {},
   "source": [
    "`aggDataCells` returns the number of cells in a column of tiles that are not NODATA. `aggNoDataCells` does the exact opposite, returning the number of NODATA cells."
   ]
  },
  {
   "cell_type": "code",
   "execution_count": 14,
   "metadata": {},
   "outputs": [
    {
     "name": "stdout",
     "output_type": "stream",
     "text": [
      "+---------------------+\n",
      "|agg_data_cells(col_1)|\n",
      "+---------------------+\n",
      "|                94302|\n",
      "+---------------------+\n",
      "\n"
     ]
    }
   ],
   "source": [
    "grouped.select(aggDataCells(\"col_1\")).show()"
   ]
  },
  {
   "cell_type": "markdown",
   "metadata": {},
   "source": [
    "## Local aggregate functions\n",
    "Local functions operate on a cell-by-cell basis. For instance, `localAggMax` examines every tile in a column and the cells of the output tile are each the maximum of the number (in this case, three) of cell values that it sees."
   ]
  },
  {
   "cell_type": "code",
   "execution_count": 15,
   "metadata": {},
   "outputs": [],
   "source": [
    "from pyrasterframes.rasterfunctions import *"
   ]
  },
  {
   "cell_type": "code",
   "execution_count": 16,
   "metadata": {},
   "outputs": [],
   "source": [
    "array1 = [list([1.0,2.0,3.0,4.0,5.0,6.0,7.0,8.0,9.0])]\n",
    "array2 = [list([2.0,3.0,4.0,5.0,6.0,7.0,8.0,9.0,10.0])]\n",
    "array3 = [list([-1.0,-2.0,-3.0,-4.0,-5.0,-6.0,-7.0,-8.0,-9.0])]"
   ]
  },
  {
   "cell_type": "code",
   "execution_count": 17,
   "metadata": {},
   "outputs": [],
   "source": [
    "df = sc.parallelize((array1, array2, array3)).toDF()"
   ]
  },
  {
   "cell_type": "code",
   "execution_count": 18,
   "metadata": {},
   "outputs": [
    {
     "name": "stdout",
     "output_type": "stream",
     "text": [
      "+------------------------------------------------------+\n",
      "|_1                                                    |\n",
      "+------------------------------------------------------+\n",
      "|[1.0, 2.0, 3.0, 4.0, 5.0, 6.0, 7.0, 8.0, 9.0]         |\n",
      "|[2.0, 3.0, 4.0, 5.0, 6.0, 7.0, 8.0, 9.0, 10.0]        |\n",
      "|[-1.0, -2.0, -3.0, -4.0, -5.0, -6.0, -7.0, -8.0, -9.0]|\n",
      "+------------------------------------------------------+\n",
      "\n"
     ]
    }
   ],
   "source": [
    "df.show(truncate=False)\n",
    "tileddf = df.withColumn(\"tiles\", arrayToTile(\"_1\", 3, 3))"
   ]
  },
  {
   "cell_type": "code",
   "execution_count": 19,
   "metadata": {},
   "outputs": [
    {
     "name": "stdout",
     "output_type": "stream",
     "text": [
      "+--------------------+--------------------+\n",
      "|                  _1|               tiles|\n",
      "+--------------------+--------------------+\n",
      "|[1.0, 2.0, 3.0, 4...|DoubleRawArrayTil...|\n",
      "|[2.0, 3.0, 4.0, 5...|DoubleRawArrayTil...|\n",
      "|[-1.0, -2.0, -3.0...|DoubleRawArrayTil...|\n",
      "+--------------------+--------------------+\n",
      "\n"
     ]
    }
   ],
   "source": [
    "tileddf.show()"
   ]
  },
  {
   "cell_type": "markdown",
   "metadata": {},
   "source": [
    "For instance, since each tile is filled with data cells, the result of aggregating a count of them is that each cell contains three, one for each tile aggregated over. `localAggNoDataCells` works in the same way."
   ]
  },
  {
   "cell_type": "code",
   "execution_count": 20,
   "metadata": {
    "scrolled": true
   },
   "outputs": [
    {
     "name": "stdout",
     "output_type": "stream",
     "text": [
      "+----------------------------------------------+\n",
      "|tileHistogram(localCount(tiles))              |\n",
      "+----------------------------------------------+\n",
      "|[[9,-1,3.0,3.0,3.0,0.0],WrappedArray([3.0,9])]|\n",
      "+----------------------------------------------+\n",
      "\n"
     ]
    }
   ],
   "source": [
    "tileddf.select(tileHistogram(localAggDataCells(\"tiles\"))).show(truncate = False)"
   ]
  },
  {
   "cell_type": "markdown",
   "metadata": {},
   "source": [
    "Functions also exist for finding the aggregated max, mean, and min"
   ]
  },
  {
   "cell_type": "code",
   "execution_count": 21,
   "metadata": {},
   "outputs": [
    {
     "name": "stdout",
     "output_type": "stream",
     "text": [
      "+-----------------------------+\n",
      "|tileStats(localAggMax(tiles))|\n",
      "+-----------------------------+\n",
      "|         [9,-1,2.0,10.0,6....|\n",
      "+-----------------------------+\n",
      "\n"
     ]
    }
   ],
   "source": [
    "tileddf.select(tileStats(localAggMax(\"tiles\"))).show()"
   ]
  },
  {
   "cell_type": "markdown",
   "metadata": {},
   "source": [
    "`localAggStats` will return a structure with columns representing a variety of different tile-wise aggregate statistics."
   ]
  },
  {
   "cell_type": "code",
   "execution_count": 22,
   "metadata": {},
   "outputs": [
    {
     "name": "stdout",
     "output_type": "stream",
     "text": [
      "+-----------------------------+\n",
      "|tileStats(localAggMax(tiles))|\n",
      "+-----------------------------+\n",
      "|         [9,-1,2.0,10.0,6....|\n",
      "+-----------------------------+\n",
      "\n"
     ]
    }
   ],
   "source": [
    "tileddf.select(tileStats(localAggMax(\"tiles\"))).show()"
   ]
  }
 ],
 "metadata": {
  "kernelspec": {
   "display_name": "Python 3",
   "language": "python",
   "name": "python3"
  },
  "language_info": {
   "codemirror_mode": {
    "name": "ipython",
    "version": 3
   },
   "file_extension": ".py",
   "mimetype": "text/x-python",
   "name": "python",
   "nbconvert_exporter": "python",
   "pygments_lexer": "ipython3",
   "version": "3.6.3"
  }
 },
 "nbformat": 4,
 "nbformat_minor": 2
}
