{
 "cells": [
  {
   "cell_type": "markdown",
   "metadata": {},
   "source": [
    "# NDVI Case study\n",
    "\n",
    "## Introduction:\n",
    "\n",
    "Rasterframes is a powerful tool for combining geospatial data and spark dataframes. In this case study, we will walk through using rasterframes to conduct analysis of a forested region to determine the extent of deforestation using NDVI (Normalized Difference Vegetation Index) combined with basic machine learning techniques available through pysparkML. This tutorial assumes a basic knowledge of dataframes, more info can be found [here](https://spark.apache.org/docs/latest/sql-programming-guide.html#datasets-and-dataframes): \n",
    "\n",
    "## Background:\n",
    "\n",
    "As humans expand across the planet, land that was once forested is cleared for other activities such as farming or logging. Such land is often high in biodiversity, and our forests are an essential feature in our ecosystem, and the rate at which they are being destroyed is only increasing. Gathering data on the rate of destruction as well as the precise regions in which this destruction is occurring allows scientists and authorities combat deforestation. Satellite data can be utilized to track and prevent deforestation, as demonstrated by this tutorial, which uses an example from the Amazon rainforest.\n",
    "\n",
    "## Initializing the environment:\n",
    "\n",
    "First, some imports must be made. The rasterframes library must be imported as well as pyspark, which serves as the processing backbone of rasterframes. "
   ]
  },
  {
   "cell_type": "code",
   "execution_count": 26,
   "metadata": {},
   "outputs": [],
   "source": [
    "from pyrasterframes import *\n",
    "from pyrasterframes.rasterfunctions import *\n",
    "import pyspark\n",
    "from pyspark.sql import SparkSession"
   ]
  },
  {
   "cell_type": "markdown",
   "metadata": {},
   "source": [
    "Once the imports have been made, a `sparkSession` must be created. Note the `withRasterFrames()` method that is called which enables access to the rasterframes API."
   ]
  },
  {
   "cell_type": "code",
   "execution_count": 27,
   "metadata": {},
   "outputs": [],
   "source": [
    "spark = SparkSession.builder. \\\n",
    "    master(\"local[*]\"). \\\n",
    "    appName(\"RasterFrames\"). \\\n",
    "    config(\"spark.ui.enabled\", \"false\"). \\\n",
    "    getOrCreate(). \\\n",
    "    withRasterFrames()"
   ]
  },
  {
   "cell_type": "markdown",
   "metadata": {},
   "source": [
    "## Reading in a Rasterframe\n",
    "\n",
    "Once everything has been initialized, the next step is to read in our data. This example will use data in the form of a GeoTiff, but there are other ways to create a rasterframe, including from a geotrellis `Layer`, `ProjectedExtent`, or `tileLayerRDD` (see [creating-rasterframes] for more info). In the case of a geotiff, it's as simple as pointing spark.read.geotiff to the input file(s)."
   ]
  },
  {
   "cell_type": "code",
   "execution_count": 5,
   "metadata": {},
   "outputs": [],
   "source": [
    "# add multiple tiffs\n",
    "filePath = 'data/brazil_1/band2.tif'\n",
    "initRF = spark.read.geotiff(filePath)"
   ]
  },
  {
   "cell_type": "markdown",
   "metadata": {},
   "source": [
    "## Initial analysis\n",
    "\n",
    "Immediately, we can perform some basic functions on this rasterframe. A brief `rf.show()` will demonstrate that a rasterframe is very similar to a dataframe, with named columns corresponding to certain attributes. For instance, `tile` contains all the cell values of the image. `bounds` contains the bounds of the tiff's geometry, etc. In this way, a tiff raster can be represented as a rasterframe."
   ]
  },
  {
   "cell_type": "code",
   "execution_count": 10,
   "metadata": {},
   "outputs": [
    {
     "name": "stdout",
     "output_type": "stream",
     "text": [
      "+-----------+--------------------+--------------------+--------------------+\n",
      "|spatial_key|              bounds|            metadata|                tile|\n",
      "+-----------+--------------------+--------------------+--------------------+\n",
      "|      [0,0]|POLYGON ((746445 ...|Map(Band_1 -> ban...|ShortUserDefinedN...|\n",
      "+-----------+--------------------+--------------------+--------------------+\n",
      "\n"
     ]
    }
   ],
   "source": [
    "initRF.show()"
   ]
  },
  {
   "cell_type": "markdown",
   "metadata": {},
   "source": [
    "We can conduct some initial analysis on the tile by calling `tileStats` on the tile. This represents the number of cells, number of noDataCells, min, max, mean, and variance respectively. "
   ]
  },
  {
   "cell_type": "code",
   "execution_count": 16,
   "metadata": {},
   "outputs": [
    {
     "name": "stdout",
     "output_type": "stream",
     "text": [
      "+----------------------------------------------------------+\n",
      "|tileStats(tile)                                           |\n",
      "+----------------------------------------------------------+\n",
      "|[51525,-1,125.0,726.0,237.8598544395925,4944.952683336407]|\n",
      "+----------------------------------------------------------+\n",
      "\n"
     ]
    }
   ],
   "source": [
    "initRF.select(tileStats(\"tile\")).show(truncate = False)"
   ]
  },
  {
   "cell_type": "markdown",
   "metadata": {},
   "source": [
    "We can examine the cell type of a tile with the `cellType` command."
   ]
  },
  {
   "cell_type": "code",
   "execution_count": 14,
   "metadata": {},
   "outputs": [
    {
     "name": "stdout",
     "output_type": "stream",
     "text": [
      "+------------------------+\n",
      "|celltypeexpression(tile)|\n",
      "+------------------------+\n",
      "|int16ud-9999            |\n",
      "+------------------------+\n",
      "\n"
     ]
    }
   ],
   "source": [
    "initRF.select(cellType(\"tile\")).show()"
   ]
  },
  {
   "cell_type": "markdown",
   "metadata": {},
   "source": [
    "Individual stats about a tile can be obtained through the family of methods including `tileMean`, `tileSum`, `tileMin`, etc. You'll notice `tileMean` is consistent with the mean value found with `tileStats`."
   ]
  },
  {
   "cell_type": "code",
   "execution_count": 17,
   "metadata": {},
   "outputs": [
    {
     "name": "stdout",
     "output_type": "stream",
     "text": [
      "+------------------+\n",
      "|    tileMean(tile)|\n",
      "+------------------+\n",
      "|237.85985443959243|\n",
      "+------------------+\n",
      "\n"
     ]
    }
   ],
   "source": [
    "initRF.select(tileMean(\"tile\")).show()"
   ]
  },
  {
   "cell_type": "markdown",
   "metadata": {},
   "source": [
    "## Loading the rest of the bands\n",
    "\n",
    "This image is a multiband image, but we are going to load in each band individually and then perform a spatial join on the bands. This allows us to get all the bands in one rasterframe. For this demo, we are using visual and near infrared light to calculate NDVI and perform unsupervised clustering on the dataset. This means that we are loading in bands 2 through 5, which correspond to Blue, Green, Red, and NIR on the [Landsat 8 OLI](https://lta.cr.usgs.gov/L8). `spatialJoin` is a dataframe join that joins according to a spatial_key column. Bounds and metadata are discarded because they are no longer useful for the project."
   ]
  },
  {
   "cell_type": "code",
   "execution_count": 179,
   "metadata": {},
   "outputs": [],
   "source": [
    "# Three scenes\n",
    "sceneNums = range(1, 4)\n",
    "# Four bands per scene (2, 3, 4, and 5)\n",
    "bandNums = range(2, 6)\n",
    "\n",
    "filePattern = 'data/brazil_{0}/band{1}.tif'\n",
    "\n",
    "def readTiff(name):\n",
    "    return spark.read.geotiff(name)\n",
    "\n",
    "from functools import reduce\n",
    "\n",
    "#Start from the bottom\n",
    "\n",
    "# Join those singleband rasterframes together into a multiband RF\n",
    "fullRFs = list(map(lambda sn: reduce(lambda rf1, rf2: rf1.asRF().spatialJoin(rf2),\n",
    "                  # Map those tuples to the singleband rasterframe file with the default \"tile\" column renamed  \n",
    "                  map(lambda bf: readTiff(bf[1]) \\\n",
    "                      .withColumnRenamed('tile', 'band_{}'.format(bf[0])),\n",
    "                  # Map the bandNumbers to (bandNumber, formatted file name) tuples\n",
    "                  map(lambda bn: (bn, filePattern.format(sn, bn)), bandNums))) \\\n",
    "                      .drop('bounds').drop('metadata'), sceneNums))"
   ]
  },
  {
   "cell_type": "markdown",
   "metadata": {},
   "source": [
    "As you can see, all four bands of all three scenes are now in the same rasterframe."
   ]
  },
  {
   "cell_type": "code",
   "execution_count": 183,
   "metadata": {
    "scrolled": true
   },
   "outputs": [
    {
     "name": "stdout",
     "output_type": "stream",
     "text": [
      "+-----------+--------------------+--------------------+--------------------+--------------------+\n",
      "|spatial_key|              band_2|              band_3|              band_4|              band_5|\n",
      "+-----------+--------------------+--------------------+--------------------+--------------------+\n",
      "|      [0,0]|ShortUserDefinedN...|ShortUserDefinedN...|ShortUserDefinedN...|ShortUserDefinedN...|\n",
      "+-----------+--------------------+--------------------+--------------------+--------------------+\n",
      "\n",
      "+-----------+--------------------+--------------------+--------------------+--------------------+\n",
      "|spatial_key|              band_2|              band_3|              band_4|              band_5|\n",
      "+-----------+--------------------+--------------------+--------------------+--------------------+\n",
      "|      [0,0]|ShortUserDefinedN...|ShortUserDefinedN...|ShortUserDefinedN...|ShortUserDefinedN...|\n",
      "+-----------+--------------------+--------------------+--------------------+--------------------+\n",
      "\n",
      "+-----------+--------------------+--------------------+--------------------+--------------------+\n",
      "|spatial_key|              band_2|              band_3|              band_4|              band_5|\n",
      "+-----------+--------------------+--------------------+--------------------+--------------------+\n",
      "|      [0,0]|ShortUserDefinedN...|ShortUserDefinedN...|ShortUserDefinedN...|ShortUserDefinedN...|\n",
      "+-----------+--------------------+--------------------+--------------------+--------------------+\n",
      "\n"
     ]
    }
   ],
   "source": [
    "for rf in fullRFs:\n",
    "    rf.show()"
   ]
  },
  {
   "cell_type": "markdown",
   "metadata": {},
   "source": [
    "This project analyzes three seperate scenes, all captured in close proximity to each other near the brazilian rainforest. The background of this image is the green band, and it seems obvious from a brief look at this band that there is deforestation occurring at all three sites.\n",
    "\n",
    "![Pic](pics/site_locs.png)"
   ]
  },
  {
   "cell_type": "markdown",
   "metadata": {},
   "source": [
    "## Tile arithmetic\n",
    "\n",
    "This example uses [NDVI](https://earthobservatory.nasa.gov/Features/MeasuringVegetation/measuring_vegetation_2.php), which is a metric computed from the normalized difference between two of our bands, the NIR band (band 5), and the red band (band 4). We will add another column, this time with the tiles as the normalized difference between the NIR and red bands for each scene. In addition, it is sometimes useful to compute additional relationships between bands to use as features in a machine learning algorithm. Additionally, the cell types of the NIR and red bands are converted to floats for the purposes of stability."
   ]
  },
  {
   "cell_type": "code",
   "execution_count": 185,
   "metadata": {},
   "outputs": [],
   "source": [
    "ndviRFs = list(map(lambda rf: rf.withColumn(\"ndvi\", \\\n",
    "        normalizedDifference(convertCellType('band_5', 'float32'), convertCellType('band_4', 'float32'))), fullRFs))"
   ]
  },
  {
   "cell_type": "markdown",
   "metadata": {},
   "source": [
    "Normalized difference is a local function that is equivalent to $\\frac{NIR - Red}{NIR + Red}$. Local functions perform functions on a cellwise basis. Every cell in a band has corresponding cells in another band, and the output of these functions is a tile where the cell values are determined by some function with multiple cells as the input. We will find the sum of the green and near infrared bands to use in our clustering model."
   ]
  },
  {
   "cell_type": "code",
   "execution_count": 186,
   "metadata": {},
   "outputs": [],
   "source": [
    "completedRFs = list(map(lambda rf: rf.withColumn(\"green+NIR\", localAdd(\"band_3\", \"band_5\")), ndviRFs))"
   ]
  },
  {
   "cell_type": "code",
   "execution_count": 187,
   "metadata": {},
   "outputs": [
    {
     "name": "stdout",
     "output_type": "stream",
     "text": [
      "+----------------------------------------------------------------------------------------+\n",
      "|tileStats(ndvi)                                                                         |\n",
      "+----------------------------------------------------------------------------------------+\n",
      "|[51525,-1,0.2584196925163269,0.9273137450218201,0.8077649412792555,0.008396342462181239]|\n",
      "+----------------------------------------------------------------------------------------+\n",
      "\n",
      "+---------------------------------------------------------------------------------------+\n",
      "|tileStats(ndvi)                                                                        |\n",
      "+---------------------------------------------------------------------------------------+\n",
      "|[57072,-1,-0.5266343951225281,0.914093017578125,0.7854701653986633,0.01124415954480573]|\n",
      "+---------------------------------------------------------------------------------------+\n",
      "\n",
      "+-----------------------------------------------------------------------------------------+\n",
      "|tileStats(ndvi)                                                                          |\n",
      "+-----------------------------------------------------------------------------------------+\n",
      "|[54285,-1,-0.22884012758731842,0.918924868106842,0.7426226493763454,0.012297012799279415]|\n",
      "+-----------------------------------------------------------------------------------------+\n",
      "\n"
     ]
    }
   ],
   "source": [
    "for rf in completedRFs:\n",
    "    rf.select(tileStats(\"ndvi\")).show(truncate = False)"
   ]
  },
  {
   "cell_type": "markdown",
   "metadata": {},
   "source": [
    "## Machine learning\n",
    "\n",
    "The purpose of this demonstration is to determine the extent of deforestation in the selected areas in a procedural way. To this end, we will use a straightforward [k-means](https://en.wikipedia.org/wiki/K-means_clustering) clustering algorithm available to us through PySparkML.\n",
    "\n",
    "### Pipeline\n",
    "\n",
    "The algorithm works through assigning features to clusters. PySparkML requires that each feature be in its own row, and those features be packed into a single `Vector`. This means that all the information must be packed into a single feature vector. The first step is to \"explode\" the tiles into a single row per cell/pixel, so the top left cell is assigned its own row, with the cellwise values of every band as the values in that row."
   ]
  },
  {
   "cell_type": "code",
   "execution_count": 43,
   "metadata": {},
   "outputs": [],
   "source": [
    "exploder = TileExploder()"
   ]
  },
  {
   "cell_type": "code",
   "execution_count": 142,
   "metadata": {},
   "outputs": [],
   "source": [
    "bandColNames = list(map(lambda x: \"band_{}\".format(x), bandNums))"
   ]
  },
  {
   "cell_type": "markdown",
   "metadata": {},
   "source": [
    "The next step is for the cell values in their seperate columns to be assembled into a single feature vector. PySparkML has a tool for this called a `VectorAssembler` which has as inputs a certain number of columns of features and outputs a single column with the vectorized features in it."
   ]
  },
  {
   "cell_type": "code",
   "execution_count": 152,
   "metadata": {},
   "outputs": [],
   "source": [
    "from pyspark.ml.feature import VectorAssembler\n",
    "\n",
    "assembler = VectorAssembler() \\\n",
    "    .setInputCols(bandColNames + [(\"ndvi\")]) \\\n",
    "    .setOutputCol(\"features\")"
   ]
  },
  {
   "cell_type": "markdown",
   "metadata": {},
   "source": [
    "For our example we are setting the number of clusters to 2, because we seek simply to differentiate between forested area and non forested area."
   ]
  },
  {
   "cell_type": "code",
   "execution_count": 339,
   "metadata": {},
   "outputs": [],
   "source": [
    "from pyspark.ml.clustering import KMeans\n",
    "from pyspark.ml import Pipeline\n",
    "\n",
    "kmeans = KMeans().setK(3)\n",
    "\n",
    "# We establish our pipeline with our stages\n",
    "pipeline = Pipeline().setStages([exploder, assembler, kmeans])"
   ]
  },
  {
   "cell_type": "markdown",
   "metadata": {},
   "source": [
    "Finally, we fit our model and compute our clusters"
   ]
  },
  {
   "cell_type": "code",
   "execution_count": 342,
   "metadata": {},
   "outputs": [],
   "source": [
    "models = list(map(lambda rf: pipeline.fit(rf), completedRFs))"
   ]
  },
  {
   "cell_type": "markdown",
   "metadata": {},
   "source": [
    "Upon fitting the model and transforming the data, we see the exploded data. Instead of a tile, every entry in a band contain a single pixel value. In addition, there is a prediction column that contains the result of the model's clustering."
   ]
  },
  {
   "cell_type": "code",
   "execution_count": null,
   "metadata": {},
   "outputs": [],
   "source": [
    "rfModelZip = list(zip(completedRFs, models))"
   ]
  },
  {
   "cell_type": "code",
   "execution_count": 419,
   "metadata": {},
   "outputs": [
    {
     "name": "stdout",
     "output_type": "stream",
     "text": [
      "+-----------+------------+---------+------+------+------+------+------------------+---------+--------------------+----------+\n",
      "|spatial_key|column_index|row_index|band_2|band_3|band_4|band_5|              ndvi|green+NIR|            features|prediction|\n",
      "+-----------+------------+---------+------+------+------+------+------------------+---------+--------------------+----------+\n",
      "|      [0,0]|           0|        0| 188.0| 349.0| 206.0|2750.0|0.8606224656105042|   3099.0|[188.0,349.0,206....|         0|\n",
      "|      [0,0]|           1|        0| 184.0| 340.0| 207.0|2837.0|0.8639947175979614|   3177.0|[184.0,340.0,207....|         0|\n",
      "|      [0,0]|           2|        0| 196.0| 356.0| 227.0|2856.0|0.8527408242225647|   3212.0|[196.0,356.0,227....|         0|\n",
      "+-----------+------------+---------+------+------+------+------+------------------+---------+--------------------+----------+\n",
      "only showing top 3 rows\n",
      "\n"
     ]
    }
   ],
   "source": [
    "clusteredRFs = list(map(lambda rfmd: rfmd[1].transform(rfmd[0]), rfModelZip))\n",
    "clusteredRFs[0].show(3)"
   ]
  },
  {
   "cell_type": "markdown",
   "metadata": {},
   "source": [
    "In order to visualize the predictions of our model, we must first convert the exploded version of the tile back into an actual tile."
   ]
  },
  {
   "cell_type": "code",
   "execution_count": 344,
   "metadata": {},
   "outputs": [],
   "source": [
    "tiledRFs = list()\n",
    "for i in range(0, 3):\n",
    "    tlm = completedRFs[i].asRF().tileLayerMetadata()\n",
    "    layout = tlm['layoutDefinition']['tileLayout']\n",
    "\n",
    "    retiled = clusteredRFs[i].groupBy('spatial_key').agg(\n",
    "        assembleTile('column_index', 'row_index', 'prediction',\n",
    "        layout['tileCols'], layout['tileRows'], 'int16'))\n",
    "        \n",
    "    tiledRFs.append(retiled)"
   ]
  },
  {
   "cell_type": "code",
   "execution_count": 345,
   "metadata": {},
   "outputs": [
    {
     "name": "stdout",
     "output_type": "stream",
     "text": [
      "+-----------+--------------------+\n",
      "|spatial_key|          prediction|\n",
      "+-----------+--------------------+\n",
      "|      [0,0]|ShortConstantNoDa...|\n",
      "+-----------+--------------------+\n",
      "\n",
      "+-----------+--------------------+\n",
      "|spatial_key|          prediction|\n",
      "+-----------+--------------------+\n",
      "|      [0,0]|ShortConstantNoDa...|\n",
      "+-----------+--------------------+\n",
      "\n",
      "+-----------+--------------------+\n",
      "|spatial_key|          prediction|\n",
      "+-----------+--------------------+\n",
      "|      [0,0]|ShortConstantNoDa...|\n",
      "+-----------+--------------------+\n",
      "\n"
     ]
    }
   ],
   "source": [
    "predRFs = list(map(lambda rf: rf.asRF('spatial_key', tlm), tiledRFs))\n",
    "for rf in predRFs:\n",
    "    predRF.show()"
   ]
  },
  {
   "cell_type": "markdown",
   "metadata": {},
   "source": [
    "To render our visualization, we convert to a raster first, which gives us a 1-D array with all the cell values. We then reshape the raster into a 2d array and use an\n",
    "matplotlib colormap to assign each discrete cluster a different color."
   ]
  },
  {
   "cell_type": "code",
   "execution_count": 359,
   "metadata": {},
   "outputs": [],
   "source": [
    "resolutions = ((225, 229), (246, 232), (231, 235))\n",
    "# Zip the prediction RFs and their respective resolutions to prepare to render them\n",
    "zipPredsRes = list(zip(predRFs, resolutions))"
   ]
  },
  {
   "cell_type": "code",
   "execution_count": 347,
   "metadata": {},
   "outputs": [],
   "source": [
    "# Create a one dimensional array from the prediction data\n",
    "# toIntRaster takes so long\n",
    "rasters = list(map( \\\n",
    "    lambda PdsRes: np.asarray(list(PdsRes[0].toIntRaster('prediction', PdsRes[1][0], PdsRes[1][1]))), zipPredsRes))"
   ]
  },
  {
   "cell_type": "code",
   "execution_count": 360,
   "metadata": {},
   "outputs": [],
   "source": [
    "# Zip the prediction RFs and their respective resolutions to prepare to render them\n",
    "zipRasterResolution = list(zip(rasters, resolutions))"
   ]
  },
  {
   "cell_type": "code",
   "execution_count": 361,
   "metadata": {},
   "outputs": [],
   "source": [
    "# Create a 2D array from the resolution and the rasters\n",
    "pixels = list(map(lambda RasRes: np.reshape(RasRes[0], RasRes[1]), zipRasterResolution))"
   ]
  },
  {
   "cell_type": "code",
   "execution_count": 392,
   "metadata": {},
   "outputs": [
    {
     "data": {
      "image/png": "[encoded data removed]",
      "text/plain": [
       "<matplotlib.figure.Figure at 0x7f34ec69d4e0>"
      ]
     },
     "metadata": {},
     "output_type": "display_data"
    }
   ],
   "source": [
    "import matplotlib as mpl\n",
    "import matplotlib.pyplot as plt\n",
    "import matplotlib.image as mpimg\n",
    "\n",
    "# Plot the images\n",
    "cmap = \"YlGn_r\"\n",
    "fig = plt.figure(figsize=(16,16))\n",
    "fig.add_subplot(1, 3, 1)\n",
    "plt.imshow(pixels[0])\n",
    "plt.set_cmap(cmap)\n",
    "fig.add_subplot(1, 3, 2)\n",
    "plt.imshow(pixels[1])\n",
    "plt.set_cmap(cmap)\n",
    "fig.add_subplot(1, 3, 3)\n",
    "plt.imshow(pixels[2])\n",
    "plt.set_cmap(cmap)"
   ]
  },
  {
   "cell_type": "markdown",
   "metadata": {},
   "source": [
    "| Site 1 Green Band    | Site 2 Green Band | Site 3 Green Band |\n",
    "| ------------------ | ------------------- | ------------------- |\n",
    "| ![](pics/brazil3-green.png) | ![](pics/brazil1-green.png)  | ![](pics/brazil2-green.png)"
   ]
  },
  {
   "cell_type": "markdown",
   "metadata": {},
   "source": [
    "As you can see, the dark green represents forest, with the other two shades representing land that is cleared to some degree. Now let's access more precise statistics about this use."
   ]
  },
  {
   "cell_type": "code",
   "execution_count": 390,
   "metadata": {},
   "outputs": [
    {
     "name": "stdout",
     "output_type": "stream",
     "text": [
      "+-------------------------------------------------------------------------------------------------------------+\n",
      "|tileHistogram(prediction)                                                                                    |\n",
      "+-------------------------------------------------------------------------------------------------------------+\n",
      "|[[54285,-1,0.0,2.0,0.964262687666943,0.4668816360702562],WrappedArray([0.0,13677], [1.0,28871], [2.0,11737])]|\n",
      "+-------------------------------------------------------------------------------------------------------------+\n",
      "\n"
     ]
    }
   ],
   "source": [
    "predRFs[2].select(tileHistogram(\"prediction\")).show(truncate = False)"
   ]
  },
  {
   "cell_type": "code",
   "execution_count": 398,
   "metadata": {},
   "outputs": [
    {
     "name": "stdout",
     "output_type": "stream",
     "text": [
      "+-----------------------------------------------------------------------------------------------------------+\n",
      "|tileHistogram(prediction)                                                                                  |\n",
      "+-----------------------------------------------------------------------------------------------------------+\n",
      "|[[51525,-1,0.0,2.0,0.884463852498787,0.73997502792674],WrappedArray([0.0,22384], [1.0,12710], [2.0,16431])]|\n",
      "+-----------------------------------------------------------------------------------------------------------+\n",
      "\n"
     ]
    }
   ],
   "source": [
    "predRFs[0].select(tileHistogram(\"prediction\")).show(truncate = False)"
   ]
  },
  {
   "cell_type": "markdown",
   "metadata": {},
   "source": [
    "In these examples, a value of zero (Dark Green in the colormap) represents forest. Let's find the percentage of land covered by forest in these examples. Recall that rasters is the list of one dimensional arrays containing all the prediction values for the three scenes."
   ]
  },
  {
   "cell_type": "code",
   "execution_count": 417,
   "metadata": {},
   "outputs": [],
   "source": [
    "# Returns the number of cells that we believe the model marked similarly to forest\n",
    "forest1 = np.count_nonzero(rasters[0] == 0)\n",
    "forest2 = np.count_nonzero(rasters[1] == 0)\n",
    "forest3 = np.count_nonzero(rasters[2] == 0)"
   ]
  },
  {
   "cell_type": "code",
   "execution_count": 418,
   "metadata": {},
   "outputs": [
    {
     "data": {
      "text/plain": [
       "0.43417758369723436"
      ]
     },
     "execution_count": 418,
     "metadata": {},
     "output_type": "execute_result"
    }
   ],
   "source": [
    "# Number of forest divided by the total\n",
    "forest1 / len(rasters[0])"
   ]
  },
  {
   "cell_type": "code",
   "execution_count": 416,
   "metadata": {},
   "outputs": [
    {
     "data": {
      "text/plain": [
       "0.4001792708832161"
      ]
     },
     "execution_count": 416,
     "metadata": {},
     "output_type": "execute_result"
    }
   ],
   "source": [
    "# Total forest cells for all three scenes, divided by total cells\n",
    "(forest1 + forest2 + forest3) / (len(rasters[0]) + len(rasters[1]) + len(rasters[2]))"
   ]
  },
  {
   "cell_type": "markdown",
   "metadata": {},
   "source": [
    "In total, it appears that only approximately fourty percent of the area surveyed in these three scenes is forested. While there are improvements to be made, this algorithm could easily be adapted to survey land of any size. Landsat 8 has a temporal resolution of 16 days, and tracking these numbers over time could give an estimate of the rate of change of deforestation in a certain area, or with enough compute power, the entire Amazon Rainforest."
   ]
  },
  {
   "cell_type": "code",
   "execution_count": null,
   "metadata": {},
   "outputs": [],
   "source": []
  }
 ],
 "metadata": {
  "kernelspec": {
   "display_name": "Python 3",
   "language": "python",
   "name": "python3"
  },
  "language_info": {
   "codemirror_mode": {
    "name": "ipython",
    "version": 3
   },
   "file_extension": ".py",
   "mimetype": "text/x-python",
   "name": "python",
   "nbconvert_exporter": "python",
   "pygments_lexer": "ipython3",
   "version": "3.6.3"
  }
 },
 "nbformat": 4,
 "nbformat_minor": 2
}
