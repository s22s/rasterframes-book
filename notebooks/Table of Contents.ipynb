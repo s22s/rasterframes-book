{
 "cells": [
  {
   "cell_type": "markdown",
   "metadata": {},
   "source": [
    "# Table of Contents\n",
    "\n",
    "## Python\n",
    "\n",
    "* ### Getting Started with RasterFrames [X]\n",
    "* ### creating-rasterframes [Create Directory]\n",
    "* ### exporting-rasterframes [Issues with the equalize function]\n",
    "* ### statistics [Value error: Quantile breaks not in list]\n",
    "* ### NDVI [X]\n",
    "* ### clustering [X]\n",
    "* ### classification [Trainer won't fit]\n",
    "\n",
    "## Scala\n",
    "\n",
    "* ### Tile Arithmetic [X]\n",
    "* ### LocalSpatFunctions [X]\n",
    "* ### Agg-Functions [X]\n",
    "* ### Masking [X]"
   ]
  },
  {
   "cell_type": "code",
   "execution_count": null,
   "metadata": {},
   "outputs": [],
   "source": []
  }
 ],
 "metadata": {
  "kernelspec": {
   "display_name": "Python 3",
   "language": "python",
   "name": "python3"
  },
  "language_info": {
   "codemirror_mode": {
    "name": "ipython",
    "version": 3
   },
   "file_extension": ".py",
   "mimetype": "text/x-python",
   "name": "python",
   "nbconvert_exporter": "python",
   "pygments_lexer": "ipython3",
   "version": "3.6.3"
  }
 },
 "nbformat": 4,
 "nbformat_minor": 2
}
