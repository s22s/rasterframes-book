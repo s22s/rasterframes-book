{
 "cells": [
  {
   "cell_type": "markdown",
   "metadata": {},
   "source": [
    "# Tile masking\n",
    "Masking is a common operation to use when performing analysis across tiles. Tile masking allows one to compare two tiles, a value tile and a masking tile. The masking tile is often a binary tile, and can be thought of as being placed on top of the other tile. Masking cells set to 0 are opaque, and cells that are 1 are transparent. In this way, value cells that correspond to masking cells that are 0 become nullified and value cells corresponding to 1 are untouched."
   ]
  },
  {
   "cell_type": "markdown",
   "metadata": {},
   "source": [
    "Initial configs"
   ]
  },
  {
   "cell_type": "code",
   "execution_count": 9,
   "metadata": {},
   "outputs": [
    {
     "data": {
      "text/plain": [
       "import astraea.spark.rasterframes._\n",
       "import geotrellis.raster.io.geotiff.SinglebandGeoTiff\n",
       "import org.apache.spark.sql._\n",
       "import geotrellis.raster.{Tile, NODATA}\n",
       "import geotrellis.raster.render._\n",
       "spark: org.apache.spark.sql.SparkSession = org.apache.spark.sql.SparkSession@4d8d925d\n",
       "readTiff: (name: String)geotrellis.raster.io.geotiff.SinglebandGeoTiff\n"
      ]
     },
     "execution_count": 9,
     "metadata": {},
     "output_type": "execute_result"
    }
   ],
   "source": [
    "import astraea.spark.rasterframes._\n",
    "import geotrellis.raster.io.geotiff.SinglebandGeoTiff\n",
    "import org.apache.spark.sql._\n",
    "import geotrellis.raster.{Tile, NODATA}\n",
    "// import geotrellis.raster.summary._\n",
    "import geotrellis.raster.render._\n",
    "\n",
    "implicit val spark = SparkSession.builder().\n",
    "  master(\"local\").appName(\"RasterFrames\").\n",
    "  config(\"spark.ui.enabled\", \"false\").\n",
    "  getOrCreate().\n",
    "  withRasterFrames\n",
    "\n",
    "def readTiff(name: String): SinglebandGeoTiff = SinglebandGeoTiff(s\"../samples/$name\")"
   ]
  },
  {
   "cell_type": "code",
   "execution_count": 10,
   "metadata": {},
   "outputs": [
    {
     "data": {
      "text/plain": [
       "filenamePattern: String = L8-B%d-Elkton-VA.tiff\n",
       "bandNumbers: scala.collection.immutable.Range.Inclusive = Range(1, 2, 3, 4)\n",
       "bandColNames: Array[String] = Array(band_1, band_2, band_3, band_4)\n"
      ]
     },
     "execution_count": 10,
     "metadata": {},
     "output_type": "execute_result"
    }
   ],
   "source": [
    "val filenamePattern = \"L8-B%d-Elkton-VA.tiff\"\n",
    "val bandNumbers = 1 to 4\n",
    "val bandColNames = bandNumbers.map(b ⇒ s\"band_$b\").toArray"
   ]
  },
  {
   "cell_type": "code",
   "execution_count": 11,
   "metadata": {},
   "outputs": [
    {
     "data": {
      "text/plain": [
       "joinedRF: astraea.spark.rasterframes.RasterFrame = [spatial_key: struct<col: int, row: int>, band_1: rf_tile ... 3 more fields]\n"
      ]
     },
     "execution_count": 11,
     "metadata": {},
     "output_type": "execute_result"
    }
   ],
   "source": [
    "val joinedRF = bandNumbers.\n",
    "  map { b ⇒ (b, filenamePattern.format(b)) }.\n",
    "  map { case (b, f) ⇒ (b, readTiff(f)) }.\n",
    "  map { case (b, t) ⇒ t.projectedRaster.toRF(s\"band_$b\") }.\n",
    "  reduce(_ spatialJoin _)"
   ]
  },
  {
   "cell_type": "markdown",
   "metadata": {},
   "source": [
    "First, we create a masking tile based on a previous one. This tile is full of either 1's or 0's corresponsing to whether the value in that cell is greater than a threshold. "
   ]
  },
  {
   "cell_type": "code",
   "execution_count": 17,
   "metadata": {},
   "outputs": [
    {
     "data": {
      "text/plain": [
       "threshold: org.apache.spark.sql.expressions.UserDefinedFunction = UserDefinedFunction(<function1>,org.apache.spark.sql.gt.types.TileUDT@12598ca2,Some(List(org.apache.spark.sql.gt.types.TileUDT@12598ca2)))\n",
       "res7: org.apache.spark.sql.Column = UDF(band_1)\n"
      ]
     },
     "execution_count": 17,
     "metadata": {},
     "output_type": "execute_result"
    }
   ],
   "source": [
    "val threshold = udf((t: Tile) => {t.map(x => if (false) x else NODATA)})\n",
    "threshold(joinedRF(\"band_1\"))"
   ]
  },
  {
   "cell_type": "code",
   "execution_count": 18,
   "metadata": {},
   "outputs": [
    {
     "name": "stdout",
     "output_type": "stream",
     "text": [
      "+---------------------+---------------------+\n",
      "|noDataCells(scalaudf)|noDataCells(maskTile)|\n",
      "+---------------------+---------------------+\n",
      "|                    0|                    0|\n",
      "+---------------------+---------------------+\n",
      "\n"
     ]
    },
    {
     "data": {
      "text/plain": [
       "withMaskedTile: astraea.spark.rasterframes.RasterFrame = [spatial_key: struct<col: int, row: int>, band_1: rf_tile ... 4 more fields]\n"
      ]
     },
     "execution_count": 18,
     "metadata": {},
     "output_type": "execute_result"
    }
   ],
   "source": [
    "val withMaskedTile = joinedRF.withColumn(\"maskTile\", threshold($\"band_1\")).asRF\n",
    "withMaskedTile.select(noDataCells(threshold(joinedRF(\"band_1\"))), noDataCells($\"maskTile\")).show()"
   ]
  },
  {
   "cell_type": "markdown",
   "metadata": {},
   "source": [
    "Mask is an operation that takes two tiles and eliminates data from one cell that corresponds to a value in the other. For instance, if a cell in the masking tile contains a 0, the corresponding cell in the other tile would be set to NoData. If the masking cell contained a 1, the corresponding cell would have had its value untouched."
   ]
  },
  {
   "cell_type": "code",
   "execution_count": null,
   "metadata": {},
   "outputs": [],
   "source": [
    "val masked = withMaskedTile.withColumn(\"masked\", mask($\"band_2\", $\"maskTile\")).asRF"
   ]
  },
  {
   "cell_type": "code",
   "execution_count": null,
   "metadata": {},
   "outputs": [],
   "source": [
    "val maskRaster = masked.toRaster($\"masked\", 466, 428)\n",
    "val b2 = masked.toRaster($\"band_2\", 466, 428)\n",
    "\n",
    "val brownToGreen = ColorRamp(\n",
    "  RGBA(166,97,26,255),\n",
    "  RGBA(223,194,125,255),\n",
    "  RGBA(245,245,245,255),\n",
    "  RGBA(128,205,193,255),\n",
    "  RGBA(1,133,113,255)\n",
    ").stops(128)\n",
    "\n",
    "val colors = ColorMap.fromQuantileBreaks(maskRaster.tile.histogramDouble(), brownToGreen)\n",
    "\n",
    "maskRaster.tile.color(colors).renderPng().write(\"mask.png\")\n",
    "b2.tile.color(colors).renderPng().write(\"b2.png\")"
   ]
  },
  {
   "cell_type": "code",
   "execution_count": null,
   "metadata": {},
   "outputs": [],
   "source": [
    "masked.select(tileStats($\"masked\")).show()\n",
    "masked.select(tileStats($\"band_2\")).show()"
   ]
  },
  {
   "cell_type": "code",
   "execution_count": null,
   "metadata": {},
   "outputs": [],
   "source": []
  }
 ],
 "metadata": {
  "kernelspec": {
   "display_name": "spylon-kernel",
   "language": "scala",
   "name": "spylon-kernel"
  },
  "language_info": {
   "codemirror_mode": "text/x-scala",
   "file_extension": ".scala",
   "help_links": [
    {
     "text": "MetaKernel Magics",
     "url": "https://github.com/calysto/metakernel/blob/master/metakernel/magics/README.md"
    }
   ],
   "mimetype": "text/x-scala",
   "name": "scala",
   "pygments_lexer": "scala",
   "version": "0.4.1"
  }
 },
 "nbformat": 4,
 "nbformat_minor": 2
}
