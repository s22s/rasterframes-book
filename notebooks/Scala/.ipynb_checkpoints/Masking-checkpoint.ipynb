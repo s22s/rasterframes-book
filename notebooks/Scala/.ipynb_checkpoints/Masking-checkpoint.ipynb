{
 "cells": [
  {
   "cell_type": "code",
   "execution_count": null,
   "metadata": {},
   "outputs": [],
   "source": [
    "import astraea.spark.rasterframes._\n",
    "import geotrellis.raster.io.geotiff.SinglebandGeoTiff\n",
    "import org.apache.spark.sql._\n",
    "import geotrellis.raster.{mask => _, _}\n",
    "import geotrellis.raster.render._\n",
    "import org.apache.spark.sql.functions._  \n",
    "import astraea.spark.rasterframes.stats.{CellHistogram=>CH}\n",
    "\n",
    "implicit val spark = SparkSession.builder().\n",
    "    master(\"local\").appName(\"RasterFrames\").\n",
    "    config(\"spark.ui.enabled\", \"false\").\n",
    "    getOrCreate().\n",
    "    withRasterFrames\n",
    "\n",
    "def readTiff(name: String): SinglebandGeoTiff = SinglebandGeoTiff(s\"../samples/$name\")\n",
    "\n",
    "val filenamePattern = \"L8-B%d-Elkton-VA.tiff\"\n",
    "val bandNumbers = 1 to 4\n",
    "val bandColNames = bandNumbers.map(b ⇒ s\"band_$b\").toArray"
   ]
  },
  {
   "cell_type": "code",
   "execution_count": null,
   "metadata": {},
   "outputs": [],
   "source": [
    "val joinedRF = bandNumbers.\n",
    "  map { b ⇒ (b, filenamePattern.format(b)) }.\n",
    "  map { case (b, f) ⇒ (b, readTiff(f)) }.\n",
    "  map { case (b, t) ⇒ t.projectedRaster.toRF(s\"band_$b\") }.\n",
    "  reduce(_ spatialJoin _)\n",
    "\n",
    "val threshold = udf((t: Tile) => {\n",
    "  t.convert(IntConstantNoDataCellType).map(x => if (x > 10500) x else NODATA)\n",
    "  } )"
   ]
  },
  {
   "cell_type": "code",
   "execution_count": null,
   "metadata": {},
   "outputs": [],
   "source": [
    "val withMaskedTile = joinedRF.withColumn(\"maskTile\", threshold(joinedRF(\"band_1\"))).asRF\n",
    "\n",
    "val withMaskedTile = joinedRF.withColumn(\"maskTile\", threshold(joinedRF(\"band_1\"))).asRF"
   ]
  },
  {
   "cell_type": "code",
   "execution_count": 95,
   "metadata": {},
   "outputs": [
    {
     "name": "stdout",
     "output_type": "stream",
     "text": [
      "+---------------------+\n",
      "|noDataCells(maskTile)|\n",
      "+---------------------+\n",
      "|                28570|\n",
      "+---------------------+\n",
      "\n"
     ]
    }
   ],
   "source": [
    "withMaskedTile.select(noDataCells($\"maskTile\")).show()"
   ]
  },
  {
   "cell_type": "code",
   "execution_count": null,
   "metadata": {},
   "outputs": [],
   "source": [
    "val masked = withMaskedTile.withColumn(\"masked\", mask(joinedRF(\"band_2\"), withMaskedTile(\"maskTile\"))).asRF\n",
    "\n",
    "val maskRF = masked.toRaster(masked(\"masked\"), 466, 428)\n",
    "val b2 = masked.toRaster(masked(\"band_2\"), 466, 428)\n",
    "\n",
    "val brownToGreen = ColorRamp(\n",
    "  RGBA(166,97,26,255),\n",
    "  RGBA(223,194,125,255),\n",
    "  RGBA(245,245,245,255),\n",
    "  RGBA(128,205,193,255),\n",
    "  RGBA(1,133,113,255)\n",
    ").stops(128)\n",
    "\n",
    "val colors = ColorMap.fromQuantileBreaks(maskRF.tile.histogramDouble(), brownToGreen)\n",
    "\n",
    "maskRF.tile.color(colors).renderPng().write(\"mask.png\")\n",
    "  b2.tile.color(colors).renderPng().write(\"b2.png\")\n",
    "  "
   ]
  },
  {
   "cell_type": "code",
   "execution_count": null,
   "metadata": {},
   "outputs": [],
   "source": []
  }
 ],
 "metadata": {
  "kernelspec": {
   "display_name": "spylon-kernel",
   "language": "scala",
   "name": "spylon-kernel"
  },
  "language_info": {
   "codemirror_mode": "text/x-scala",
   "file_extension": ".scala",
   "help_links": [
    {
     "text": "MetaKernel Magics",
     "url": "https://github.com/calysto/metakernel/blob/master/metakernel/magics/README.md"
    }
   ],
   "mimetype": "text/x-scala",
   "name": "scala",
   "pygments_lexer": "scala",
   "version": "0.4.1"
  }
 },
 "nbformat": 4,
 "nbformat_minor": 2
}
