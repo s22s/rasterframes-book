{
 "cells": [
  {
   "cell_type": "markdown",
   "metadata": {},
   "source": [
    "# Tile masking\n",
    "Masking is a common operation to use when performing analysis across tiles. Tile masking allows one to compare two tiles, a value tile and a masking tile. The masking tile is often a binary tile, and can be thought of as being placed on top of the other tile. Masking cells set to 0 are opaque, and cells that are 1 are transparent. In this way, value cells that correspond to masking cells that are 0 become nullified and value cells corresponding to 1 are untouched."
   ]
  },
  {
   "cell_type": "markdown",
   "metadata": {},
   "source": [
    "Initial configs"
   ]
  },
  {
   "cell_type": "code",
   "execution_count": 23,
   "metadata": {},
   "outputs": [
    {
     "data": {
      "text/plain": [
       "import astraea.spark.rasterframes._\n",
       "import geotrellis.raster.io.geotiff.SinglebandGeoTiff\n",
       "import org.apache.spark.sql._\n",
       "import geotrellis.raster.Tile\n",
       "import geotrellis.raster.NODATA\n",
       "import geotrellis.raster.render._\n",
       "spark: org.apache.spark.sql.SparkSession = org.apache.spark.sql.SparkSession@37b4606d\n",
       "readTiff: (name: String)geotrellis.raster.io.geotiff.SinglebandGeoTiff\n"
      ]
     },
     "execution_count": 23,
     "metadata": {},
     "output_type": "execute_result"
    }
   ],
   "source": [
    "import astraea.spark.rasterframes._\n",
    "import geotrellis.raster.io.geotiff.SinglebandGeoTiff\n",
    "import org.apache.spark.sql._\n",
    "import geotrellis.raster.Tile\n",
    "// import geotrellis.raster.summary._\n",
    "import geotrellis.raster.render._\n",
    "\n",
    "implicit val spark = SparkSession.builder().\n",
    "  master(\"local\").appName(\"RasterFrames\").\n",
    "  config(\"spark.ui.enabled\", \"false\").\n",
    "  getOrCreate().\n",
    "  withRasterFrames\n",
    "\n",
    "def readTiff(name: String): SinglebandGeoTiff = SinglebandGeoTiff(s\"../samples/$name\")"
   ]
  },
  {
   "cell_type": "code",
   "execution_count": 2,
   "metadata": {},
   "outputs": [
    {
     "data": {
      "text/plain": [
       "filenamePattern: String = L8-B%d-Elkton-VA.tiff\n",
       "bandNumbers: scala.collection.immutable.Range.Inclusive = Range(1, 2, 3, 4)\n",
       "bandColNames: Array[String] = Array(band_1, band_2, band_3, band_4)\n"
      ]
     },
     "execution_count": 2,
     "metadata": {},
     "output_type": "execute_result"
    }
   ],
   "source": [
    "val filenamePattern = \"L8-B%d-Elkton-VA.tiff\"\n",
    "val bandNumbers = 1 to 4\n",
    "val bandColNames = bandNumbers.map(b ⇒ s\"band_$b\").toArray"
   ]
  },
  {
   "cell_type": "code",
   "execution_count": 3,
   "metadata": {},
   "outputs": [
    {
     "data": {
      "text/plain": [
       "joinedRF: astraea.spark.rasterframes.RasterFrame = [spatial_key: struct<col: int, row: int>, band_1: rf_tile ... 3 more fields]\n"
      ]
     },
     "execution_count": 3,
     "metadata": {},
     "output_type": "execute_result"
    }
   ],
   "source": [
    "val joinedRF = bandNumbers.\n",
    "  map { b ⇒ (b, filenamePattern.format(b)) }.\n",
    "  map { case (b, f) ⇒ (b, readTiff(f)) }.\n",
    "  map { case (b, t) ⇒ t.projectedRaster.toRF(s\"band_$b\") }.\n",
    "  reduce(_ spatialJoin _)"
   ]
  },
  {
   "cell_type": "markdown",
   "metadata": {},
   "source": [
    "First, we create a masking tile based on a previous one. This tile is full of either 1's or 0's corresponsing to whether the value in that cell is greater than a threshold. "
   ]
  },
  {
   "cell_type": "code",
   "execution_count": 26,
   "metadata": {},
   "outputs": [
    {
     "data": {
      "text/plain": [
       "threshold: org.apache.spark.sql.expressions.UserDefinedFunction = UserDefinedFunction(<function1>,org.apache.spark.sql.gt.types.TileUDT@1372212e,Some(List(org.apache.spark.sql.gt.types.TileUDT@1372212e)))\n",
       "withMaskedTile: astraea.spark.rasterframes.RasterFrame = [spatial_key: struct<col: int, row: int>, band_1: rf_tile ... 4 more fields]\n"
      ]
     },
     "execution_count": 26,
     "metadata": {},
     "output_type": "execute_result"
    }
   ],
   "source": [
    "val threshold = udf((t: Tile) => {\n",
    "    t.map(x => if (x > 94000) x else Int.MinValue)\n",
    "} )\n",
    "\n",
    "val withMaskedTile = joinedRF.withColumn(\"maskTile\", threshold($\"band_1\")).asRF"
   ]
  },
  {
   "cell_type": "markdown",
   "metadata": {},
   "source": [
    "Mask is an operation that takes two tiles and eliminates data from one cell that corresponds to a value in the other. For instance, if a cell in the masking tile contains a 0, the corresponding cell in the other tile would be set to NoData. If the masking cell contained a 1, the corresponding cell would have had its value untouched."
   ]
  },
  {
   "cell_type": "code",
   "execution_count": 27,
   "metadata": {},
   "outputs": [
    {
     "ename": "<console>",
     "evalue": "77: error: reference to mask is ambiguous;",
     "output_type": "error",
     "traceback": [
      "<console>:77: error: reference to mask is ambiguous;",
      "it is imported twice in the same scope by",
      "import astraea.spark.rasterframes._",
      "and import $line20$read.mask",
      "       val masked = withMaskedTile.withColumn(\"masked\", mask($\"band_2\", $\"maskTile\")).asRF",
      "                                                        ^",
      ""
     ]
    }
   ],
   "source": [
    "val masked = withMaskedTile.withColumn(\"masked\", mask($\"band_2\", $\"maskTile\")).asRF"
   ]
  },
  {
   "cell_type": "code",
   "execution_count": 16,
   "metadata": {},
   "outputs": [
    {
     "data": {
      "text/plain": [
       "mask: geotrellis.raster.ProjectedRaster[geotrellis.raster.Tile] = ProjectedRaster(Raster(CroppedTile(geotrellis.raster.UShortRawArrayTile@440af036,GridBounds(0,0,465,427)),Extent(703986.502389, 4249551.61978, 709549.093643, 4254601.8671)),utm-CS)\n",
       "b2: geotrellis.raster.ProjectedRaster[geotrellis.raster.Tile] = ProjectedRaster(Raster(CroppedTile(geotrellis.raster.UShortRawArrayTile@157d307f,GridBounds(0,0,465,427)),Extent(703986.502389, 4249551.61978, 709549.093643, 4254601.8671)),utm-CS)\n",
       "brownToGreen: geotrellis.raster.render.ColorRamp = geotrellis.raster.render.ColorRamp@5471618a\n",
       "colors: geotrellis.raster.render.ColorMap = geotrellis.raster.render.DoubleColorMap@12f33b91\n"
      ]
     },
     "execution_count": 16,
     "metadata": {},
     "output_type": "execute_result"
    }
   ],
   "source": [
    "val mask = masked.toRaster($\"masked\", 466, 428)\n",
    "val b2 = masked.toRaster($\"band_2\", 466, 428)\n",
    "\n",
    "val brownToGreen = ColorRamp(\n",
    "  RGBA(166,97,26,255),\n",
    "  RGBA(223,194,125,255),\n",
    "  RGBA(245,245,245,255),\n",
    "  RGBA(128,205,193,255),\n",
    "  RGBA(1,133,113,255)\n",
    ").stops(128)\n",
    "\n",
    "val colors = ColorMap.fromQuantileBreaks(mask.tile.histogramDouble(), brownToGreen)\n",
    "\n",
    "mask.tile.color(colors).renderPng().write(\"mask.png\")\n",
    "b2.tile.color(colors).renderPng().write(\"b2.png\")"
   ]
  },
  {
   "cell_type": "code",
   "execution_count": 21,
   "metadata": {},
   "outputs": [
    {
     "name": "stdout",
     "output_type": "stream",
     "text": [
      "+-------------------------------------------------------+-------------------------+\n",
      "|stats                                                  |bins                     |\n",
      "+-------------------------------------------------------+-------------------------+\n",
      "|[31434,0.0,1.0,0.21756696570592352,0.17023158113944098]|[[0.0,24595], [1.0,6839]]|\n",
      "+-------------------------------------------------------+-------------------------+\n",
      "\n",
      "+---------+------+-------+-----------------+-----------------+\n",
      "|dataCells|   min|    max|             mean|         variance|\n",
      "+---------+------+-------+-----------------+-----------------+\n",
      "|    31434|8275.0|22147.0|8928.790481644088|540216.8948308238|\n",
      "+---------+------+-------+-----------------+-----------------+\n",
      "\n"
     ]
    }
   ],
   "source": [
    "masked.select(tileHistogram($\"maskTile\")).show(false)\n",
    "masked.select(tileStats($\"band_2\")).show()"
   ]
  },
  {
   "cell_type": "code",
   "execution_count": null,
   "metadata": {},
   "outputs": [],
   "source": []
  }
 ],
 "metadata": {
  "kernelspec": {
   "display_name": "spylon-kernel",
   "language": "scala",
   "name": "spylon-kernel"
  },
  "language_info": {
   "codemirror_mode": "text/x-scala",
   "file_extension": ".scala",
   "help_links": [
    {
     "text": "MetaKernel Magics",
     "url": "https://github.com/calysto/metakernel/blob/master/metakernel/magics/README.md"
    }
   ],
   "mimetype": "text/x-scala",
   "name": "scala",
   "pygments_lexer": "scala",
   "version": "0.4.1"
  }
 },
 "nbformat": 4,
 "nbformat_minor": 2
}
