{
 "cells": [
  {
   "cell_type": "markdown",
   "metadata": {},
   "source": [
    "# Aggregate functions\n",
    "Aggregate functions operate on groups of tiles at once. An example of this type of function is finding the mean cell values of a column of tiles. Other statistical and diagnostic tasks can be performed on columns at a time."
   ]
  },
  {
   "cell_type": "code",
   "execution_count": 97,
   "metadata": {},
   "outputs": [
    {
     "data": {
      "text/plain": [
       "import astraea.spark.rasterframes._\n",
       "import geotrellis.raster.io.geotiff.SinglebandGeoTiff\n",
       "import org.apache.spark.sql.functions._\n",
       "import geotrellis.spark.SpatialKey._\n",
       "spark: org.apache.spark.sql.SparkSession = org.apache.spark.sql.SparkSession@de25f71\n",
       "sc: org.apache.spark.SparkContext = org.apache.spark.SparkContext@7922d202\n",
       "readTiff: (name: String)geotrellis.raster.io.geotiff.SinglebandGeoTiff\n",
       "filenamePattern: String = L8-B%d-Elkton-VA.tiff\n"
      ]
     },
     "execution_count": 97,
     "metadata": {},
     "output_type": "execute_result"
    }
   ],
   "source": [
    "import astraea.spark.rasterframes._\n",
    "import geotrellis.raster.io.geotiff.SinglebandGeoTiff\n",
    "import org.apache.spark.sql.functions._\n",
    "import geotrellis.spark.SpatialKey._\n",
    "\n",
    "\n",
    "implicit val spark = SparkSession.builder().\n",
    "  master(\"local\").appName(\"RasterFrames\").\n",
    "  config(\"spark.ui.enabled\", \"false\").\n",
    "  getOrCreate().\n",
    "  withRasterFrames\n",
    "\n",
    "val sc = spark.sparkContext\n",
    "\n",
    "def readTiff(name: String): SinglebandGeoTiff = SinglebandGeoTiff(s\"../samples/$name\")\n",
    "val filenamePattern = \"L8-B%d-Elkton-VA.tiff\""
   ]
  },
  {
   "cell_type": "code",
   "execution_count": 34,
   "metadata": {},
   "outputs": [
    {
     "data": {
      "text/plain": [
       "bandsToJoin: (bands: Seq[Int])astraea.spark.rasterframes.RasterFrame\n"
      ]
     },
     "execution_count": 34,
     "metadata": {},
     "output_type": "execute_result"
    }
   ],
   "source": [
    "def bandsToJoin(bands: Seq[Int]) = bands.\n",
    "  map { b ⇒ (b, filenamePattern.format(b)) }.\n",
    "  map { case (b, f) ⇒ ((b - 1) % 3, readTiff(f)) }.\n",
    "  map { case (b, t) ⇒ t.projectedRaster.toRF(s\"col_$b\") }.\n",
    "  reduce(_ spatialJoin _)"
   ]
  },
  {
   "cell_type": "markdown",
   "metadata": {},
   "source": [
    "Create a contrived example of columns with multiple tiles. Bands 1,4,7 are in col_0, 2,5,8 are in col_1, and 3,6,9 are in col_2."
   ]
  },
  {
   "cell_type": "code",
   "execution_count": 35,
   "metadata": {},
   "outputs": [
    {
     "data": {
      "text/plain": [
       "bands1: astraea.spark.rasterframes.RasterFrame = [spatial_key: struct<col: int, row: int>, col_0: rf_tile ... 2 more fields]\n",
       "bands2: astraea.spark.rasterframes.RasterFrame = [spatial_key: struct<col: int, row: int>, col_0: rf_tile ... 2 more fields]\n",
       "bands3: astraea.spark.rasterframes.RasterFrame = [spatial_key: struct<col: int, row: int>, col_0: rf_tile ... 2 more fields]\n",
       "grouped: org.apache.spark.sql.Dataset[org.apache.spark.sql.Row] = [spatial_key: struct<col: int, row: int>, col_0: rf_tile ... 2 more fields]\n"
      ]
     },
     "execution_count": 35,
     "metadata": {},
     "output_type": "execute_result"
    }
   ],
   "source": [
    "val bands1 = bandsToJoin(Seq(1,2,3))\n",
    "val bands2 = bandsToJoin(Seq(4,5,6))\n",
    "val bands3 = bandsToJoin(Seq(7,8,9))\n",
    "val grouped = bands1.union(bands2).union(bands3)"
   ]
  },
  {
   "cell_type": "markdown",
   "metadata": {},
   "source": [
    "Compute statistics based on aggregates of tiles. These are all column-wise operations, so `aggMean` computes the average of all cells of all tiles in the first column."
   ]
  },
  {
   "cell_type": "code",
   "execution_count": 37,
   "metadata": {},
   "outputs": [
    {
     "name": "stdout",
     "output_type": "stream",
     "text": [
      "+-----------------+\n",
      "|  agg_mean(col_0)|\n",
      "+-----------------+\n",
      "|8549.990636465822|\n",
      "+-----------------+\n",
      "\n"
     ]
    }
   ],
   "source": [
    "grouped.select(aggMean($\"col_0\")).show()"
   ]
  },
  {
   "cell_type": "markdown",
   "metadata": {},
   "source": [
    "`aggDataCells` returns the number of cells in a column that are no NODATA. `aggNoDataCells` does the exact opposite, returning the numbers of NODATA cells."
   ]
  },
  {
   "cell_type": "code",
   "execution_count": 39,
   "metadata": {},
   "outputs": [
    {
     "name": "stdout",
     "output_type": "stream",
     "text": [
      "+---------------------+\n",
      "|agg_data_cells(col_1)|\n",
      "+---------------------+\n",
      "|               187895|\n",
      "+---------------------+\n",
      "\n"
     ]
    }
   ],
   "source": [
    "grouped.select(aggDataCells($\"col_1\")).show()"
   ]
  },
  {
   "cell_type": "markdown",
   "metadata": {},
   "source": [
    "## Local aggregate functions\n",
    "Local functions operate on a cell-by-cell basis. For instance, `localAggMax` examines every tile in a column and the output cells are each the maximum of the number (in this case, three) of values that it sees. The output is a tile with every cell as the maximum of the corresponding cells "
   ]
  },
  {
   "cell_type": "code",
   "execution_count": 121,
   "metadata": {},
   "outputs": [
    {
     "data": {
      "text/plain": [
       "import geotrellis.raster._\n",
       "array1: Array[Int] = Array(1, 2, 3, 4, 5, 6, 7, 8, 9)\n",
       "tile1: geotrellis.raster.Tile = IntConstantNoDataArrayTile([I@61b1ec22,3,3)\n",
       "array2: Array[Int] = Array(9, 8, 7, 6, 5, 4, 3, 2, 1)\n",
       "tile2: geotrellis.raster.Tile = IntConstantNoDataArrayTile([I@61b1ec22,3,3)\n",
       "array3: Array[Int] = Array(6, 6, 6, 6, 6, 6, 6, 6, 6)\n",
       "tile3: geotrellis.raster.Tile = IntConstantNoDataArrayTile([I@61b1ec22,3,3)\n"
      ]
     },
     "execution_count": 121,
     "metadata": {},
     "output_type": "execute_result"
    }
   ],
   "source": [
    "import geotrellis.raster._\n",
    "val array1: Array[Int] = (1 to 9).toArray\n",
    "val tile1: Tile = IntArrayTile(array1, 3, 3)\n",
    "val array2: Array[Int] = (9 to 1 by -1).toArray\n",
    "val tile2: Tile = IntArrayTile(array1, 3, 3)\n",
    "val array3: Array[Int] = Array.fill(9)(6)\n",
    "val tile3: Tile = IntArrayTile(array1, 3, 3)"
   ]
  },
  {
   "cell_type": "code",
   "execution_count": 123,
   "metadata": {},
   "outputs": [
    {
     "ename": "<console>",
     "evalue": "139: error: value withColumns is not a member of org.apache.spark.sql.DataFrame",
     "output_type": "error",
     "traceback": [
      "<console>:139: error: value withColumns is not a member of org.apache.spark.sql.DataFrame",
      "possible cause: maybe a semicolon is missing before `value withColumns'?",
      "           .withColumns(\"newTile\", makeConstantTile(7, 3, 3, Int))",
      "            ^",
      "<console>:139: error: type mismatch;",
      " found   : Int.type",
      " required: String",
      "           .withColumns(\"newTile\", makeConstantTile(7, 3, 3, Int))",
      "                                                             ^",
      ""
     ]
    }
   ],
   "source": [
    "val df = sc.parallelize(Seq(((0,0), tile1), ((0,0), tile2), ((0,0), tile3))).toDF(\"spatial_key\",\"tiles\").show()"
   ]
  },
  {
   "cell_type": "code",
   "execution_count": null,
   "metadata": {},
   "outputs": [],
   "source": []
  }
 ],
 "metadata": {
  "kernelspec": {
   "display_name": "spylon-kernel",
   "language": "scala",
   "name": "spylon-kernel"
  },
  "language_info": {
   "codemirror_mode": "text/x-scala",
   "file_extension": ".scala",
   "help_links": [
    {
     "text": "MetaKernel Magics",
     "url": "https://github.com/calysto/metakernel/blob/master/metakernel/magics/README.md"
    }
   ],
   "mimetype": "text/x-scala",
   "name": "scala",
   "pygments_lexer": "scala",
   "version": "0.4.1"
  }
 },
 "nbformat": 4,
 "nbformat_minor": 2
}
