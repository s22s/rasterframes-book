{
 "cells": [
  {
   "cell_type": "markdown",
   "metadata": {},
   "source": [
    "# Tile arithmetic\n",
    "Rasterframes includes support for arithmetic operations across tiles, calling the function on the two cells that correspond to each other in tiles of the same size. This example uses localAdd, but localSubtract, localDivide, and localMultiply also exist. While not used in this example, localAddScalar, localSubtractScalar, etc can be uses to perform operations with a scalar, as opposed to the local values in another tile. "
   ]
  },
  {
   "cell_type": "markdown",
   "metadata": {},
   "source": [
    "Initial configs"
   ]
  },
  {
   "cell_type": "code",
   "execution_count": null,
   "metadata": {},
   "outputs": [],
   "source": [
    "import astraea.spark.rasterframes._\n",
    "import geotrellis.raster.io.geotiff.SinglebandGeoTiff\n",
    "import org.apache.spark.sql._\n",
    "\n",
    "\n",
    "implicit val spark = SparkSession.builder().\n",
    "  master(\"local\").appName(\"RasterFrames\").\n",
    "  config(\"spark.ui.enabled\", \"false\").\n",
    "  getOrCreate().\n",
    "  withRasterFrames\n",
    "\n",
    "def readTiff(name: String): SinglebandGeoTiff = SinglebandGeoTiff(s\"../samples/$name\")"
   ]
  },
  {
   "cell_type": "code",
   "execution_count": null,
   "metadata": {},
   "outputs": [],
   "source": [
    "val filenamePattern = \"L8-B%d-Elkton-VA.tiff\"\n",
    "val bandNumbers = 1 to 4\n",
    "val bandColNames = bandNumbers.map(b ⇒ s\"band_$b\").toArray"
   ]
  },
  {
   "cell_type": "markdown",
   "metadata": {},
   "source": [
    "Once imported, join the tiles together based on a `spatialKey`."
   ]
  },
  {
   "cell_type": "code",
   "execution_count": null,
   "metadata": {},
   "outputs": [],
   "source": [
    "val joinedRF = bandNumbers.\n",
    "  map { b ⇒ (b, filenamePattern.format(b)) }.\n",
    "  map { case (b, f) ⇒ (b, readTiff(f)) }.\n",
    "  map { case (b, t) ⇒ t.projectedRaster.toRF(s\"band_$b\") }.\n",
    "  reduce(_ spatialJoin _)"
   ]
  },
  {
   "cell_type": "markdown",
   "metadata": {},
   "source": [
    "New columns are added based on the results of these local functions. `localAdd` adds corresponding cells, `localDivide` divides them, `localSubtractScalar` subtracts a scalar from every cell in the input tile, and `localMultiplyScalar` multiplies each cell by a certain value."
   ]
  },
  {
   "cell_type": "code",
   "execution_count": null,
   "metadata": {},
   "outputs": [],
   "source": [
    "val addRF = joinedRF.withColumn(\"B1+B2\", localAdd($\"band_1\", $\"band_2\")).asRF\n",
    "val divideRF = joinedRF.withColumn(\"B1/B2\", localDivide($\"band_1\", $\"band_2\")).asRF\n",
    "val subScalarRF = joinedRF.withColumn(\"B1-100\", localSubtractScalar($\"band_1\", 100)).asRF\n",
    "val multScalarRF = joinedRF.withColumn(\"B1*2\", localMultiplyScalar($\"band_1\", 2)).asRF"
   ]
  },
  {
   "cell_type": "markdown",
   "metadata": {},
   "source": [
    "`tileMax` computes the max values of the cells in a tile, `tileSum` computes the sum of all cells, `tileMean` finds the mean value, and `tileMin` finds the minimum value."
   ]
  },
  {
   "cell_type": "code",
   "execution_count": 50,
   "metadata": {},
   "outputs": [
    {
     "name": "stdout",
     "output_type": "stream",
     "text": [
      "+--------------+---------------+---------------+\n",
      "|tileMax(B1+B2)|tileMax(band_1)|tileMax(band_2)|\n",
      "+--------------+---------------+---------------+\n",
      "|       42925.0|        20778.0|        22147.0|\n",
      "+--------------+---------------+---------------+\n",
      "\n"
     ]
    }
   ],
   "source": [
    "addRF.select(tileMax($\"B1+B2\"), tileMax($\"band_1\"), tileMax($\"band_2\")).show()"
   ]
  },
  {
   "cell_type": "code",
   "execution_count": 51,
   "metadata": {},
   "outputs": [
    {
     "name": "stdout",
     "output_type": "stream",
     "text": [
      "+--------------+---------------+---------------+\n",
      "|tileSum(B1/B2)|tileSum(band_1)|tileSum(band_2)|\n",
      "+--------------+---------------+---------------+\n",
      "|       31389.0|   3.09149454E8|     2.806676E8|\n",
      "+--------------+---------------+---------------+\n",
      "\n"
     ]
    }
   ],
   "source": [
    "divideRF.select(tileSum($\"B1/B2\"), tileSum($\"band_1\"), tileSum($\"band_2\")).show(1)"
   ]
  },
  {
   "cell_type": "code",
   "execution_count": 52,
   "metadata": {},
   "outputs": [
    {
     "name": "stdout",
     "output_type": "stream",
     "text": [
      "+-----------------+-----------------+\n",
      "| tileMean(B1-100)| tileMean(band_1)|\n",
      "+-----------------+-----------------+\n",
      "|9734.874785264363|9834.874785264363|\n",
      "+-----------------+-----------------+\n",
      "\n"
     ]
    }
   ],
   "source": [
    "subScalarRF.select(tileMean($\"B1-100\"), tileMean($\"band_1\")).show()"
   ]
  },
  {
   "cell_type": "code",
   "execution_count": 53,
   "metadata": {},
   "outputs": [
    {
     "name": "stdout",
     "output_type": "stream",
     "text": [
      "+-------------+---------------+\n",
      "|tileMin(B1*2)|tileMin(band_1)|\n",
      "+-------------+---------------+\n",
      "|      18522.0|         9261.0|\n",
      "+-------------+---------------+\n",
      "\n"
     ]
    }
   ],
   "source": [
    "multScalarRF.select(tileMin($\"B1*2\"), tileMin($\"band_1\")).show()"
   ]
  }
 ],
 "metadata": {
  "kernelspec": {
   "display_name": "spylon-kernel",
   "language": "scala",
   "name": "spylon-kernel"
  },
  "language_info": {
   "codemirror_mode": "text/x-scala",
   "file_extension": ".scala",
   "help_links": [
    {
     "text": "MetaKernel Magics",
     "url": "https://github.com/calysto/metakernel/blob/master/metakernel/magics/README.md"
    }
   ],
   "mimetype": "text/x-scala",
   "name": "scala",
   "pygments_lexer": "scala",
   "version": "0.4.1"
  }
 },
 "nbformat": 4,
 "nbformat_minor": 2
}
