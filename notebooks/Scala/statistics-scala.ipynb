{
 "cells": [
  {
   "cell_type": "markdown",
   "metadata": {},
   "source": [
    "# Raster Statistics"
   ]
  },
  {
   "cell_type": "code",
   "execution_count": 2,
   "metadata": {},
   "outputs": [
    {
     "data": {
      "text/plain": [
       "import astraea.spark.rasterframes._\n",
       "import geotrellis.raster._\n",
       "import geotrellis.raster.render._\n",
       "import geotrellis.raster.io.geotiff.SinglebandGeoTiff\n",
       "import geotrellis.spark._\n",
       "import geotrellis.spark.io._\n",
       "import org.apache.spark.sql._\n",
       "import org.apache.spark.sql.functions._\n",
       "spark: org.apache.spark.sql.SparkSession = org.apache.spark.sql.SparkSession@1ff12bec\n",
       "import spark.implicits._\n",
       "scene: geotrellis.raster.io.geotiff.SinglebandGeoTiff = SinglebandGeoTiff(geotrellis.raster.UShortConstantNoDataArrayTile@4119ea0a,Extent(431902.5, 4313647.5, 443512.5, 4321147.5),EPSG:32616,Tags(Map(AREA_OR_POINT -> POINT),List(Map())),GeoTiffOptions(geotrellis.raster.io.geotiff.Striped@a58661f,geotrellis.raster.io.geotiff.compression.DeflateCompression$@41f94e4,1,None))\n",
       "rf: org.apache.spark.sql.DataFrame ..."
      ]
     },
     "execution_count": 2,
     "metadata": {},
     "output_type": "execute_result"
    }
   ],
   "source": [
    "import astraea.spark.rasterframes._\n",
    "import geotrellis.raster._\n",
    "import geotrellis.raster.render._\n",
    "import geotrellis.raster.io.geotiff.SinglebandGeoTiff\n",
    "import geotrellis.spark._\n",
    "import geotrellis.spark.io._\n",
    "import org.apache.spark.sql._\n",
    "import org.apache.spark.sql.functions._\n",
    "\n",
    "implicit val spark = SparkSession.builder().\n",
    "   master(\"local[*]\").appName(\"RasterFrames\").getOrCreate().withRasterFrames\n",
    "spark.sparkContext.setLogLevel(\"ERROR\")\n",
    "import spark.implicits._\n",
    "val scene = SinglebandGeoTiff(\"../samples/L8-B8-Robinson-IL.tiff\")\n",
    "val rf = scene.projectedRaster.toRF(128, 128).cache()"
   ]
  },
  {
   "cell_type": "markdown",
   "metadata": {},
   "source": [
    "RasterFrames has a number of extension methods and columnar functions for performing analysis on tiles.\n",
    "\n",
    "## Tile Statistics \n",
    "\n",
    "### Tile Dimensions\n",
    "\n",
    "Get the nominal tile dimensions. Depending on the tiling there may be some tiles with different sizes on the edges."
   ]
  },
  {
   "cell_type": "code",
   "execution_count": 3,
   "metadata": {},
   "outputs": [
    {
     "name": "stdout",
     "output_type": "stream",
     "text": [
      "+-----------+---------------+\n",
      "|spatial_key|dimension(tile)|\n",
      "+-----------+---------------+\n",
      "|      [6,3]|      [128,128]|\n",
      "|      [4,0]|      [128,128]|\n",
      "|      [2,1]|      [128,128]|\n",
      "+-----------+---------------+\n",
      "only showing top 3 rows\n",
      "\n"
     ]
    }
   ],
   "source": [
    "rf.select(rf.spatialKeyColumn, tileDimensions($\"tile\")).show(3)"
   ]
  },
  {
   "cell_type": "markdown",
   "metadata": {},
   "source": [
    "### Descriptive Statistics\n",
    "\n",
    "#### NoData Counts\n",
    "\n",
    "Count the numer of `NoData` and non-`NoData` cells in each tile."
   ]
  },
  {
   "cell_type": "code",
   "execution_count": 4,
   "metadata": {},
   "outputs": [
    {
     "name": "stdout",
     "output_type": "stream",
     "text": [
      "+-----------+-----------------+---------------+\n",
      "|spatial_key|noDataCells(tile)|dataCells(tile)|\n",
      "+-----------+-----------------+---------------+\n",
      "|      [6,3]|            15688|            696|\n",
      "|      [4,0]|                0|          16384|\n",
      "|      [2,1]|                0|          16384|\n",
      "+-----------+-----------------+---------------+\n",
      "only showing top 3 rows\n",
      "\n"
     ]
    }
   ],
   "source": [
    "rf.select(rf.spatialKeyColumn, noDataCells($\"tile\"), dataCells($\"tile\")).show(3)"
   ]
  },
  {
   "cell_type": "markdown",
   "metadata": {},
   "source": [
    "#### Tile Mean\n",
    "\n",
    "Compute the mean value in each tile. Use `tileMean` for integral cell types, and `tileMeanDouble` for floating point\n",
    "cell types.\n",
    " "
   ]
  },
  {
   "cell_type": "code",
   "execution_count": 5,
   "metadata": {},
   "outputs": [
    {
     "name": "stdout",
     "output_type": "stream",
     "text": [
      "+-----------+------------------+\n",
      "|spatial_key|    tileMean(tile)|\n",
      "+-----------+------------------+\n",
      "|      [6,3]|10757.254310344828|\n",
      "|      [4,0]| 9883.589050292969|\n",
      "|      [2,1]| 9966.188293457031|\n",
      "+-----------+------------------+\n",
      "only showing top 3 rows\n",
      "\n"
     ]
    }
   ],
   "source": [
    "rf.select(rf.spatialKeyColumn, tileMean($\"tile\")).show(3)"
   ]
  },
  {
   "cell_type": "markdown",
   "metadata": {},
   "source": [
    "#### Tile Summary Statistics\n",
    "\n",
    "Compute a suite of summary statistics for each tile. Use `tileStats` for integral cells types, and `tileStatsDouble`\n",
    "for floating point cell types."
   ]
  },
  {
   "cell_type": "code",
   "execution_count": 6,
   "metadata": {},
   "outputs": [
    {
     "name": "stdout",
     "output_type": "stream",
     "text": [
      "+-----------+---------+------+-------+------------------+------------------+\n",
      "|spatial_key|dataCells|   min|    max|              mean|          variance|\n",
      "+-----------+---------+------+-------+------------------+------------------+\n",
      "|      [6,3]|      696|7604.0|16143.0|10757.254310344822| 3271125.902280271|\n",
      "|      [4,0]|    16384|7678.0|16464.0| 9883.589050292961|2163148.3790329304|\n",
      "|      [2,1]|    16384|7209.0|31489.0| 9966.188293457051| 5606533.298102704|\n",
      "+-----------+---------+------+-------+------------------+------------------+\n",
      "only showing top 3 rows\n",
      "\n"
     ]
    }
   ],
   "source": [
    "rf.withColumn(\"stats\", tileStats($\"tile\")).select(rf.spatialKeyColumn, $\"stats.*\").show(3)"
   ]
  },
  {
   "cell_type": "markdown",
   "metadata": {},
   "source": [
    "### Histogram\n",
    "\n",
    "The `tileHistogram` function computes a histogram over the data in each tile. See the \n",
    "@scaladoc[GeoTrellis `Histogram`](geotrellis.raster.histogram.Histogram) documentation for details on what's\n",
    "available in the resulting data structure. Use this version for integral cell types, and `tileHistorgramDouble` for\n",
    "floating  point cells types. \n",
    "\n",
    "In this example we compute quantile breaks."
   ]
  },
  {
   "cell_type": "code",
   "execution_count": 7,
   "metadata": {},
   "outputs": [
    {
     "name": "stdout",
     "output_type": "stream",
     "text": [
      "+--------------------------------------------------------------------------------------------------+\n",
      "|value                                                                                             |\n",
      "+--------------------------------------------------------------------------------------------------+\n",
      "|[8809.728925619835, 9867.17899408284, 10610.464285714286, 11537.7625, 12449.983431952664]         |\n",
      "|[8092.536291685227, 8799.830256846086, 9883.927927555094, 10663.851206181313, 11410.889115337006] |\n",
      "|[7968.26240877842, 8562.230214398447, 9197.04438927365, 10051.879083058071, 11392.528575516666]   |\n",
      "|[7779.22924835041, 8571.834631513755, 10178.87875199173, 10846.649480361679, 11391.22742857556]   |\n",
      "|[7873.758444506966, 8966.896173598834, 10637.314862591527, 11377.284237089707, 12150.871174122809]|\n",
      "+--------------------------------------------------------------------------------------------------+\n",
      "only showing top 5 rows\n",
      "\n"
     ]
    }
   ],
   "source": [
    "rf.select(tileHistogram($\"tile\")).map(_.quantileBreaks(5)).show(5, false)"
   ]
  },
  {
   "cell_type": "markdown",
   "metadata": {},
   "source": [
    "## Aggregate Statistics\n",
    "\n",
    "The `aggStats` function computes the same summary statistics as `tileStats`, but aggregates them over the whole \n",
    "RasterFrame."
   ]
  },
  {
   "cell_type": "code",
   "execution_count": 8,
   "metadata": {},
   "outputs": [
    {
     "name": "stdout",
     "output_type": "stream",
     "text": [
      "+---------+------+-------+-----------------+------------------+\n",
      "|dataCells|   min|    max|             mean|          variance|\n",
      "+---------+------+-------+-----------------+------------------+\n",
      "|   387000|7209.0|39217.0|10160.48549870801|3315238.5311127007|\n",
      "+---------+------+-------+-----------------+------------------+\n",
      "\n"
     ]
    }
   ],
   "source": [
    "rf.select(aggStats($\"tile\")).show()"
   ]
  },
  {
   "cell_type": "markdown",
   "metadata": {},
   "source": [
    "A more involved example: extract bin counts from a computed `Histogram`."
   ]
  },
  {
   "cell_type": "code",
   "execution_count": 9,
   "metadata": {},
   "outputs": [
    {
     "name": "stdout",
     "output_type": "stream",
     "text": [
      "+------------------+-----+\n",
      "|             value|count|\n",
      "+------------------+-----+\n",
      "| 7912.160422482329|61257|\n",
      "| 9693.363186541315|38399|\n",
      "|10442.785040368732|32327|\n",
      "| 8720.579789348172|30192|\n",
      "| 10078.11093862406|26411|\n",
      "| 11622.43037347561|26240|\n",
      "| 11054.25987914447|25154|\n",
      "| 8342.309765285427|20706|\n",
      "|10768.925962006819|20530|\n",
      "|11333.802580318747|19765|\n",
      "+------------------+-----+\n",
      "only showing top 10 rows\n",
      "\n"
     ]
    }
   ],
   "source": [
    "rf.select(aggHistogram($\"tile\")).\n",
    "  map(h => for(v <- h.labels) yield(v, h.itemCount(v))).\n",
    "  select(explode($\"value\") as \"counts\").\n",
    "  select(\"counts._1\", \"counts._2\").\n",
    "  toDF(\"value\", \"count\").\n",
    "  orderBy(desc(\"count\")).\n",
    "  show(10)"
   ]
  },
  {
   "cell_type": "code",
   "execution_count": null,
   "metadata": {},
   "outputs": [],
   "source": []
  }
 ],
 "metadata": {
  "kernelspec": {
   "display_name": "spylon-kernel",
   "language": "scala",
   "name": "spylon-kernel"
  },
  "language_info": {
   "codemirror_mode": "text/x-scala",
   "file_extension": ".scala",
   "help_links": [
    {
     "text": "MetaKernel Magics",
     "url": "https://github.com/calysto/metakernel/blob/master/metakernel/magics/README.md"
    }
   ],
   "mimetype": "text/x-scala",
   "name": "scala",
   "pygments_lexer": "scala",
   "version": "0.4.1"
  }
 },
 "nbformat": 4,
 "nbformat_minor": 2
}
