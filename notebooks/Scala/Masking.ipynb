{
 "cells": [
  {
   "cell_type": "markdown",
   "metadata": {},
   "source": [
    "# Tile masking\n",
    "Masking is a common operation to use when performing analysis across tiles. Tile masking allows one to compare two tiles, a value tile and a masking tile. The masking tile can be thought of as being placed on top of the other tile, obscuring certain values. Masking cells set to NODATA are opaque, and cells that are anything else are transparent. In this way, value cells that correspond to masking cells that are NODATA become NODATA and value cells corresponding to other values are untouched."
   ]
  },
  {
   "cell_type": "markdown",
   "metadata": {},
   "source": [
    "Initial setup:"
   ]
  },
  {
   "cell_type": "code",
   "execution_count": 3,
   "metadata": {},
   "outputs": [
    {
     "data": {
      "text/plain": [
       "import astraea.spark.rasterframes._\n",
       "import geotrellis.raster.io.geotiff.SinglebandGeoTiff\n",
       "import org.apache.spark.sql._\n",
       "import geotrellis.raster.{mask=>_, _}\n",
       "import geotrellis.raster.render._\n",
       "import org.apache.spark.sql.functions._\n",
       "import astraea.spark.rasterframes.stats.{CellHistogram=>CH}\n",
       "spark: org.apache.spark.sql.SparkSession = org.apache.spark.sql.SparkSession@80dfe0\n",
       "readTiff: (name: String)geotrellis.raster.io.geotiff.SinglebandGeoTiff\n",
       "filenamePattern: String = L8-B%d-Elkton-VA.tiff\n",
       "bandNumbers: scala.collection.immutable.Range.Inclusive = Range(1, 2, 3, 4)\n",
       "bandColNames: Array[String] = Array(band_1, band_2, band_3, band_4)\n"
      ]
     },
     "execution_count": 3,
     "metadata": {},
     "output_type": "execute_result"
    }
   ],
   "source": [
    "import astraea.spark.rasterframes._\n",
    "import geotrellis.raster.io.geotiff.SinglebandGeoTiff\n",
    "import org.apache.spark.sql._\n",
    "import geotrellis.raster.{mask => _, _}\n",
    "import geotrellis.raster.render._\n",
    "import org.apache.spark.sql.functions._  \n",
    "import astraea.spark.rasterframes.stats.{CellHistogram=>CH}\n",
    "\n",
    "implicit val spark = SparkSession.builder().\n",
    "    master(\"local\").appName(\"RasterFrames\").\n",
    "    config(\"spark.ui.enabled\", \"false\").\n",
    "    getOrCreate().\n",
    "    withRasterFrames\n",
    "\n",
    "def readTiff(name: String): SinglebandGeoTiff = SinglebandGeoTiff(s\"../samples/$name\")\n",
    "\n",
    "val filenamePattern = \"L8-B%d-Elkton-VA.tiff\"\n",
    "val bandNumbers = 1 to 4\n",
    "val bandColNames = bandNumbers.map(b ⇒ s\"band_$b\").toArray"
   ]
  },
  {
   "cell_type": "code",
   "execution_count": 4,
   "metadata": {},
   "outputs": [
    {
     "data": {
      "text/plain": [
       "joinedRF: astraea.spark.rasterframes.RasterFrame = [spatial_key: struct<col: int, row: int>, band_1: rf_tile ... 3 more fields]\n"
      ]
     },
     "execution_count": 4,
     "metadata": {},
     "output_type": "execute_result"
    }
   ],
   "source": [
    "val joinedRF = bandNumbers.\n",
    "  map { b ⇒ (b, filenamePattern.format(b)) }.\n",
    "  map { case (b, f) ⇒ (b, readTiff(f)) }.\n",
    "  map { case (b, t) ⇒ t.projectedRaster.toRF(s\"band_$b\") }.\n",
    "  reduce(_ spatialJoin _)"
   ]
  },
  {
   "cell_type": "code",
   "execution_count": 25,
   "metadata": {},
   "outputs": [
    {
     "name": "stdout",
     "output_type": "stream",
     "text": [
      "+--------------------------+\n",
      "|celltypeexpression(band_1)|\n",
      "+--------------------------+\n",
      "|                 uint16raw|\n",
      "+--------------------------+\n",
      "\n"
     ]
    }
   ],
   "source": [
    "joinedRF.select(cellType($\"band_1\")).show()\n",
    "joinedRF = joinedRF.withColumn()"
   ]
  },
  {
   "cell_type": "markdown",
   "metadata": {},
   "source": [
    "Because the tile has a cellType of raw, there is not a NODATA value. One possible solution is to convert the CellType to something that does support NODATA values. This transformation is wrapped into a threshold function that creates a new tile based on whether the cell values in a tile are higher than a certain number."
   ]
  },
  {
   "cell_type": "code",
   "execution_count": null,
   "metadata": {},
   "outputs": [],
   "source": [
    "val threshold = udf((t: Tile) => {\n",
    "  t.convert(IntConstantNoDataCellType).map(x => if (x > 10500) x else NODATA)\n",
    "  } )"
   ]
  },
  {
   "cell_type": "markdown",
   "metadata": {},
   "source": [
    "First, we create a masking tile based on a previous one (in this case, band_1 of the original tiff). This tile is full of either NODATA or the unchanged values corresponsing to whether the value in that cell is greater than a threshold."
   ]
  },
  {
   "cell_type": "code",
   "execution_count": null,
   "metadata": {},
   "outputs": [],
   "source": [
    "val withMaskedTile = joinedRF.withColumn(\"maskTile\", threshold(joinedRF(\"band_1\"))).asRF"
   ]
  },
  {
   "cell_type": "code",
   "execution_count": 23,
   "metadata": {},
   "outputs": [
    {
     "name": "stdout",
     "output_type": "stream",
     "text": [
      "+---------------------+\n",
      "|noDataCells(maskTile)|\n",
      "+---------------------+\n",
      "|                28570|\n",
      "+---------------------+\n",
      "\n"
     ]
    }
   ],
   "source": [
    "withMaskedTile.select(noDataCells($\"maskTile\")).show()"
   ]
  },
  {
   "cell_type": "markdown",
   "metadata": {},
   "source": [
    "## Mask \n",
    "Mask is an operation that takes two tiles and eliminates data from one cell that corresponds to a value in the other. For instance, if a cell in the masking tile contains a NODATA, the corresponding cell in the other tile would be set to NODATA. If the masking cell contained anything else, the corresponding cell would have had its value untouched.\n",
    "### Inverse Mask\n",
    "Inverse mask works in the opposite way. It sets the values of all cells that correspond to masking cells that are not NODATA to NODATA and doesn't touch those that have corresponding NODATA masking cells."
   ]
  },
  {
   "cell_type": "code",
   "execution_count": null,
   "metadata": {},
   "outputs": [],
   "source": [
    "val masked = withMaskedTile\n",
    "  .withColumn(\"masked\", mask(joinedRF(\"band_2\"), withMaskedTile(\"maskTile\"))).asRF\n",
    "val inversemasked = withMaskedTile\n",
    "  .withColumn(\"inversemasked\", inverseMask(joinedRF(\"band_2\"), withMaskedTile(\"maskTile\"))).asRF"
   ]
  },
  {
   "cell_type": "code",
   "execution_count": null,
   "metadata": {},
   "outputs": [],
   "source": [
    "val maskRaster = masked.toRaster(masked(\"masked\"), 466, 428)\n",
    "val inverseMaskRaster = inversemasked.toRaster(inversemasked(\"inversemasked\"), 466, 428)\n",
    "\n",
    "val brownToGreen = ColorRamp(\n",
    "  RGBA(166,97,26,255),\n",
    "  RGBA(223,194,125,255),\n",
    "  RGBA(245,245,245,255),\n",
    "  RGBA(128,205,193,255),\n",
    "  RGBA(1,133,113,255)\n",
    ").stops(128)\n",
    "\n",
    "val colors = ColorMap.fromQuantileBreaks(maskRaster.tile.histogramDouble(), brownToGreen)\n",
    "\n",
    "maskRaster.tile.color(colors).renderPng().write(\"mask.png\")\n",
    "inverseMaskRaster.tile.color(colors).renderPng().write(\"inverseMask.png\")"
   ]
  },
  {
   "cell_type": "markdown",
   "metadata": {},
   "source": [
    "Pictures go here"
   ]
  },
  {
   "cell_type": "code",
   "execution_count": 6,
   "metadata": {},
   "outputs": [
    {
     "name": "stdout",
     "output_type": "stream",
     "text": [
      "+-----------+--------------------+--------------------+--------------------+--------------------+\n",
      "|spatial_key|              band_1|              band_2|              band_3|              band_4|\n",
      "+-----------+--------------------+--------------------+--------------------+--------------------+\n",
      "|      [0,0]|geotrellis.raster...|geotrellis.raster...|geotrellis.raster...|geotrellis.raster...|\n",
      "+-----------+--------------------+--------------------+--------------------+--------------------+\n",
      "\n"
     ]
    }
   ],
   "source": [
    "joinedRF.show()"
   ]
  },
  {
   "cell_type": "code",
   "execution_count": null,
   "metadata": {},
   "outputs": [],
   "source": []
  }
 ],
 "metadata": {
  "kernelspec": {
   "display_name": "spylon-kernel",
   "language": "scala",
   "name": "spylon-kernel"
  },
  "language_info": {
   "codemirror_mode": "text/x-scala",
   "file_extension": ".scala",
   "help_links": [
    {
     "text": "MetaKernel Magics",
     "url": "https://github.com/calysto/metakernel/blob/master/metakernel/magics/README.md"
    }
   ],
   "mimetype": "text/x-scala",
   "name": "scala",
   "pygments_lexer": "scala",
   "version": "0.4.1"
  }
 },
 "nbformat": 4,
 "nbformat_minor": 2
}
