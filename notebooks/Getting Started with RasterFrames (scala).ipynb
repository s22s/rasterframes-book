{
 "cells": [
  {
   "cell_type": "markdown",
   "metadata": {},
   "source": [
    "# Getting Started\n",
    "## Initialize the SparkSession with RasterFrames support"
   ]
  },
  {
   "cell_type": "code",
   "execution_count": null,
   "metadata": {},
   "outputs": [],
   "source": [
    "import astraea.spark.rasterframes._\n",
    "import geotrellis.raster._\n",
    "import geotrellis.spark.io.kryo.KryoRegistrator\n",
    "import org.apache.spark.serializer.KryoSerializer\n",
    "import org.apache.spark.sql._\n",
    "import org.apache.spark.sql.functions._\n",
    "import astraea.spark.rasterframes.datasource.geotrellis._\n",
    "import astraea.spark.rasterframes.datasource.geotiff._\n",
    "implicit val spark = SparkSession.builder()\n",
    "    .master(\"local\")\n",
    "    .appName(\"rasterframes-skylon\")\n",
    "    .config(\"spark.executor.memory\", \"8g\") \n",
    "    .config(\"spark.executor.cores\", 3) \n",
    "    .config(\"spark.driver.memory\",\"8g\") \n",
    "    .config(\"spark.serializer\", classOf[KryoSerializer].getName)\n",
    "    .config(\"spark.kryoserializer.buffer.max\", \"500m\")\n",
    "    .config(\"spark.kryo.registrationRequired\", \"false\")\n",
    "    .config(\"spark.kryo.registrator\", classOf[KryoRegistrator].getName)\n",
    "    .getOrCreate()\n",
    "    .withRasterFrames\n",
    "spark.sparkContext.setLogLevel(\"ERROR\")\n",
    "import spark.implicits._"
   ]
  },
  {
   "cell_type": "markdown",
   "metadata": {},
   "source": [
    "## Play with Sample Data"
   ]
  },
  {
   "cell_type": "code",
   "execution_count": null,
   "metadata": {},
   "outputs": [],
   "source": [
    "val rf = spark.read.geotiff.loadRF(new java.net.URI(\"samples/L8-B4-Elkton-VA.tiff\"))\n",
    "rf.show"
   ]
  },
  {
   "cell_type": "code",
   "execution_count": null,
   "metadata": {},
   "outputs": [],
   "source": [
    "val agg = rf.agg(aggMean($\"tile\"))\n",
    "agg.show"
   ]
  },
  {
   "cell_type": "code",
   "execution_count": null,
   "metadata": {},
   "outputs": [],
   "source": [
    "val tm = rf.withColumn(\"mean\", tileMean($\"tile\"))\n",
    "tm.show"
   ]
  },
  {
   "cell_type": "code",
   "execution_count": null,
   "metadata": {},
   "outputs": [],
   "source": []
  }
 ],
 "metadata": {
  "kernelspec": {
   "display_name": "spylon-kernel",
   "language": "scala",
   "name": "spylon-kernel"
  },
  "language_info": {
   "codemirror_mode": "text/x-scala",
   "file_extension": ".scala",
   "help_links": [
    {
     "text": "MetaKernel Magics",
     "url": "https://github.com/calysto/metakernel/blob/master/metakernel/magics/README.md"
    }
   ],
   "mimetype": "text/x-scala",
   "name": "scala",
   "pygments_lexer": "scala",
   "version": "0.4.1"
  }
 },
 "nbformat": 4,
 "nbformat_minor": 2
}
