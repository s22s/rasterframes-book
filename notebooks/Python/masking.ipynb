{
 "cells": [
  {
   "cell_type": "markdown",
   "metadata": {},
   "source": [
    "# Tile masking\n",
    "Masking is a common operation to use when performing analysis across tiles. Tile masking allows one to compare two tiles, a value tile and a masking tile. The masking tile can be thought of as being placed on top of the other tile, obscuring certain values. Masking cells set to NODATA are opaque, and cells that are anything else are transparent. In this way, value cells that correspond to masking cells that are NODATA become NODATA and value cells corresponding to other values are untouched."
   ]
  },
  {
   "cell_type": "markdown",
   "metadata": {},
   "source": [
    "Initial setup:"
   ]
  },
  {
   "cell_type": "code",
   "execution_count": 192,
   "metadata": {},
   "outputs": [],
   "source": [
    "from pyrasterframes import *\n",
    "from pyrasterframes.rasterfunctions import *\n",
    "import pyspark\n",
    "from pyspark.sql import SparkSession\n",
    "from pathlib import Path\n",
    "import numpy as np\n",
    "\n",
    "spark = SparkSession.builder. \\\n",
    "    master(\"local[*]\"). \\\n",
    "    appName(\"RasterFrames\"). \\\n",
    "    config(\"spark.ui.enabled\", \"false\"). \\\n",
    "    getOrCreate(). \\\n",
    "    withRasterFrames()\n",
    "    \n",
    "sc = spark.sparkContext\n",
    "\n",
    "resource_dir = Path('./samples').resolve()\n",
    "\n",
    "def readTiff(name):\n",
    "    return resource_dir.joinpath(filenamePattern.format(name)).as_uri()\n",
    "\n",
    "filenamePattern = \"L8-B{}-Elkton-VA.tiff\"\n",
    "bandNumbers = range(1, 5)\n",
    "bandColNames = list(map(lambda n: 'band_{}'.format(n), bandNumbers))"
   ]
  },
  {
   "cell_type": "code",
   "execution_count": 205,
   "metadata": {},
   "outputs": [],
   "source": [
    "# The literal column will be used to perform a join later\n",
    "from functools import reduce\n",
    "joinedRF = reduce(lambda rf1, rf2: rf1.asRF().spatialJoin(rf2.drop('bounds').drop('metadata')),\n",
    "                  map(lambda bf: spark.read.geotiff(bf[1]) \\\n",
    "                      .withColumnRenamed('tile', 'band_{}'.format(bf[0])),\n",
    "                  map(lambda b: (b, readTiff(b)), bandNumbers))).withColumn(\"joinCol\", lit(1)).asRF()"
   ]
  },
  {
   "cell_type": "code",
   "execution_count": 194,
   "metadata": {},
   "outputs": [
    {
     "name": "stdout",
     "output_type": "stream",
     "text": [
      "+-----------+--------------------+--------------------+--------------------+--------------------+--------------------+--------------------+-------+\n",
      "|spatial_key|              bounds|            metadata|              band_1|              band_2|              band_3|              band_4|joinCol|\n",
      "+-----------+--------------------+--------------------+--------------------+--------------------+--------------------+--------------------+-------+\n",
      "|      [0,0]|POLYGON ((703986....|Map(AREA_OR_POINT...|geotrellis.raster...|geotrellis.raster...|geotrellis.raster...|geotrellis.raster...|      1|\n",
      "+-----------+--------------------+--------------------+--------------------+--------------------+--------------------+--------------------+-------+\n",
      "\n"
     ]
    }
   ],
   "source": [
    "joinedRF.show()"
   ]
  },
  {
   "cell_type": "code",
   "execution_count": 195,
   "metadata": {},
   "outputs": [
    {
     "name": "stdout",
     "output_type": "stream",
     "text": [
      "+--------------------------+\n",
      "|celltypeexpression(band_1)|\n",
      "+--------------------------+\n",
      "|                 uint16raw|\n",
      "+--------------------------+\n",
      "\n"
     ]
    }
   ],
   "source": [
    "rastArray = joinedRF.toDoubleRaster(\"band_1\", 186, 169)"
   ]
  },
  {
   "cell_type": "markdown",
   "metadata": {},
   "source": [
    "We take the values from our raster array and run them through a threshold, returning one if they are high enough and NaN if they are too low."
   ]
  },
  {
   "cell_type": "code",
   "execution_count": 196,
   "metadata": {},
   "outputs": [],
   "source": [
    "threshold = []\n",
    "for i in range(0, 31434):\n",
    "    if rastArray[i] > 10500:\n",
    "        threshold.append(1.0)\n",
    "    else:\n",
    "        threshold.append(np.NaN)"
   ]
  },
  {
   "cell_type": "code",
   "execution_count": 197,
   "metadata": {},
   "outputs": [],
   "source": [
    "df = sc.parallelize([list([threshold])]).toDF()"
   ]
  },
  {
   "cell_type": "code",
   "execution_count": 223,
   "metadata": {},
   "outputs": [],
   "source": [
    "from pyspark.sql.functions import lit\n",
    "tiledDF = df.withColumn(\"maskTile\", arrayToTile(\"_1\", 186, 169)).withColumn(\"joinCol\", lit(1))"
   ]
  },
  {
   "cell_type": "markdown",
   "metadata": {},
   "source": [
    "The cell type here is initially raw, which means that it does not support any NODATA value, which is a requirement for masking. We use `convertCellType` to change the type away from raw."
   ]
  },
  {
   "cell_type": "code",
   "execution_count": 264,
   "metadata": {},
   "outputs": [
    {
     "name": "stdout",
     "output_type": "stream",
     "text": [
      "+--------------------------+\n",
      "|celltypeexpression(band_2)|\n",
      "+--------------------------+\n",
      "|                 uint16raw|\n",
      "+--------------------------+\n",
      "\n",
      "+-----------------------------+\n",
      "|celltypeexpression(band_2_ND)|\n",
      "+-----------------------------+\n",
      "|                       uint16|\n",
      "+-----------------------------+\n",
      "\n"
     ]
    }
   ],
   "source": [
    "joinedRF.select(cellType(\"band_2\")).show()\n",
    "\n",
    "joinedRF = joinedRF.withColumn(\"band_2_ND\", convertCellType(\"band_2\", 'uint16'))\n",
    "\n",
    "joinedRF.select(cellType(\"band_2_ND\")).show()"
   ]
  },
  {
   "cell_type": "code",
   "execution_count": 226,
   "metadata": {},
   "outputs": [
    {
     "name": "stdout",
     "output_type": "stream",
     "text": [
      "root\n",
      " |-- spatial_key: struct (nullable = false)\n",
      " |    |-- col: integer (nullable = false)\n",
      " |    |-- row: integer (nullable = false)\n",
      " |-- bounds: polygon (nullable = true)\n",
      " |-- metadata: map (nullable = true)\n",
      " |    |-- key: string\n",
      " |    |-- value: string (valueContainsNull = false)\n",
      " |-- band_1: rf_tile (nullable = false)\n",
      " |-- band_2: rf_tile (nullable = false)\n",
      " |-- band_3: rf_tile (nullable = false)\n",
      " |-- band_4: rf_tile (nullable = false)\n",
      " |-- joinCol: integer (nullable = false)\n",
      " |-- band_2_ND: rf_tile (nullable = true)\n",
      "\n"
     ]
    }
   ],
   "source": [
    "joinedRF.printSchema()"
   ]
  },
  {
   "cell_type": "markdown",
   "metadata": {},
   "source": [
    "Because the tile has a cellType of raw, there is not a NODATA value. One possible solution is to convert the CellType to something that does support NODATA values. This transformation is wrapped into a threshold function that creates a new tile based on whether the cell values in an input tile are higher than a certain number."
   ]
  },
  {
   "cell_type": "markdown",
   "metadata": {},
   "source": [
    "First, must create a masking tile based on some criteria, in this case, whether a cell value is past a threshold. This tile is full of either NODATA cells or the unchanged cell values corresponsing to whether the value in the input cell is greater than a threshold."
   ]
  },
  {
   "cell_type": "code",
   "execution_count": 227,
   "metadata": {},
   "outputs": [],
   "source": [
    "withMaskedTile = joinedRF.join(tiledDF, joinedRF[\"joinCol\"] == tiledDF[\"joinCol\"], how=\"outer\")"
   ]
  },
  {
   "cell_type": "code",
   "execution_count": 237,
   "metadata": {},
   "outputs": [],
   "source": [
    "withMaskedTile = withMaskedTile.withColumn(\"maskTileND\", convertCellType(\"maskTile\", 'uint16'))"
   ]
  },
  {
   "cell_type": "code",
   "execution_count": 238,
   "metadata": {},
   "outputs": [
    {
     "name": "stdout",
     "output_type": "stream",
     "text": [
      "+-----------------------+\n",
      "|noDataCells(maskTileND)|\n",
      "+-----------------------+\n",
      "|                  28570|\n",
      "+-----------------------+\n",
      "\n"
     ]
    }
   ],
   "source": [
    "withMaskedTile.select(noDataCells(\"maskTileND\")).show()"
   ]
  },
  {
   "cell_type": "markdown",
   "metadata": {},
   "source": [
    "## Mask \n",
    "Mask is an operation that takes two tiles and eliminates data from one cell that corresponds to a value in the other. For instance, if a cell in the masking tile contains a NODATA, the corresponding cell in the other tile would be set to NODATA. If the masking cell contained anything else, the corresponding cell would have its value untouched. The mean is thus high, since all cells with a low reflectance were masked over."
   ]
  },
  {
   "cell_type": "code",
   "execution_count": 262,
   "metadata": {},
   "outputs": [
    {
     "name": "stdout",
     "output_type": "stream",
     "text": [
      "+-------------------------------------------------------------+\n",
      "|tileStats(masked)                                            |\n",
      "+-------------------------------------------------------------+\n",
      "|[2864,-1,9630.0,22147.0,10648.890363128503,1494703.325270259]|\n",
      "+-------------------------------------------------------------+\n",
      "\n"
     ]
    }
   ],
   "source": [
    "masked = withMaskedTile \\\n",
    "  .withColumn(\"masked\", mask(joinedRF[\"band_2_ND\"], withMaskedTile[\"maskTileND\"])).asRF()\n",
    "masked.select(tileStats(\"masked\")).show(truncate=False)"
   ]
  },
  {
   "cell_type": "markdown",
   "metadata": {},
   "source": [
    "### Inverse Mask\n",
    "Inverse mask works in the opposite way; It doesn't touch the cells that are set to NODATA in the masking tile and all other cells become NODATA. The mean is low for the same reason that the masked mean is high: High values were reverse masked over."
   ]
  },
  {
   "cell_type": "code",
   "execution_count": 263,
   "metadata": {},
   "outputs": [
    {
     "name": "stdout",
     "output_type": "stream",
     "text": [
      "+------------------------------------------------------------+\n",
      "|tileStats(inversemasked)                                    |\n",
      "+------------------------------------------------------------+\n",
      "|[28570,-1,8275.0,9996.0,8756.359047952406,118202.5029361604]|\n",
      "+------------------------------------------------------------+\n",
      "\n"
     ]
    }
   ],
   "source": [
    "inversemasked = withMaskedTile \\\n",
    "  .withColumn(\"inversemasked\", inverseMask(joinedRF[\"band_2_ND\"], withMaskedTile[\"maskTileND\"])).asRF()\n",
    "inversemasked.select(tileStats(\"inversemasked\")).show(truncate=False)"
   ]
  },
  {
   "cell_type": "code",
   "execution_count": null,
   "metadata": {},
   "outputs": [],
   "source": [
    "raster1 = np.asarray(list(masked.toIntRaster('masked', 186, 169)))\n",
    "pixels1 = np.reshape(raster1, (169, 186))\n",
    "raster2 = np.asarray(list(inversemasked.toIntRaster('inversemasked', 186, 169)))\n",
    "pixels2 = np.reshape(raster2, (169, 186))"
   ]
  },
  {
   "cell_type": "code",
   "execution_count": 259,
   "metadata": {},
   "outputs": [
    {
     "data": {
      "image/png": "[encoded data removed]",
      "text/plain": [
       "<matplotlib.figure.Figure at 0x7efe54bca668>"
      ]
     },
     "metadata": {},
     "output_type": "display_data"
    }
   ],
   "source": [
    "import matplotlib as mpl\n",
    "import matplotlib.pyplot as plt\n",
    "import matplotlib.image as mpimg\n",
    "\n",
    "fig = plt.figure(figsize=(16,16))\n",
    "fig.add_subplot(1, 2, 1).set_title(\"Masked\")\n",
    "imgplot = plt.imshow(pixels1)\n",
    "imgplot.set_cmap('Accent_r')\n",
    "fig.add_subplot(1, 2, 2).set_title(\"Inverse Masked\")\n",
    "imgplot = plt.imshow(pixels2)\n",
    "imgplot.set_cmap('Accent_r')"
   ]
  }
 ],
 "metadata": {
  "kernelspec": {
   "display_name": "Python 3",
   "language": "python",
   "name": "python3"
  },
  "language_info": {
   "codemirror_mode": {
    "name": "ipython",
    "version": 3
   },
   "file_extension": ".py",
   "mimetype": "text/x-python",
   "name": "python",
   "nbconvert_exporter": "python",
   "pygments_lexer": "ipython3",
   "version": "3.6.3"
  }
 },
 "nbformat": 4,
 "nbformat_minor": 2
}
