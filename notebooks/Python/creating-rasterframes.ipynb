{
 "cells": [
  {
   "cell_type": "markdown",
   "metadata": {},
   "source": [
    "\n",
    "# Creating&nbsp;RasterFrames\n",
    "\n",
    "## Initialization\n",
    "\n",
    "There are a couple of setup steps necessary anytime you want to work with RasterFrames in python. The first is to import pyspark and create a session.\n",
    "    "
   ]
  },
  {
   "cell_type": "code",
   "execution_count": 2,
   "metadata": {},
   "outputs": [],
   "source": [
    "import pyspark\n",
    "from pyspark.sql import SparkSession\n",
    "from pyrasterframes import *\n",
    "from pyrasterframes.rasterfunctions import *\n",
    "\n",
    "# Add other configuration options as needed\n",
    "\n",
    "spark = SparkSession.builder. \\\n",
    "    master(\"local[*]\"). \\\n",
    "    appName(\"RasterFrames\"). \\\n",
    "    config(\"spark.ui.enabled\", \"false\"). \\\n",
    "    getOrCreate(). \\\n",
    "    withRasterFrames()"
   ]
  },
  {
   "cell_type": "markdown",
   "metadata": {},
   "source": [
    "Next, call the `withRasterFrames` method on it:"
   ]
  },
  {
   "cell_type": "markdown",
   "metadata": {},
   "source": [
    "Now we are ready to create a RasterFrame. The most straightforward way to create a `RasterFrame` is to read a [GeoTIFF](https://en.wikipedia.org/wiki/GeoTIFF)\n",
    "file."
   ]
  },
  {
   "cell_type": "code",
   "execution_count": 2,
   "metadata": {},
   "outputs": [],
   "source": [
    "samplePath = 'samples/L8-B4-Elkton-VA.tiff'\n",
    "rf = spark.read.geotiff(samplePath)"
   ]
  },
  {
   "cell_type": "markdown",
   "metadata": {},
   "source": [
    "Let's inspect the structure of what we get back:"
   ]
  },
  {
   "cell_type": "code",
   "execution_count": 3,
   "metadata": {},
   "outputs": [
    {
     "name": "stdout",
     "output_type": "stream",
     "text": [
      "root\n",
      " |-- spatial_key: struct (nullable = false)\n",
      " |    |-- col: integer (nullable = false)\n",
      " |    |-- row: integer (nullable = false)\n",
      " |-- bounds: polygon (nullable = true)\n",
      " |-- metadata: map (nullable = true)\n",
      " |    |-- key: string\n",
      " |    |-- value: string (valueContainsNull = false)\n",
      " |-- tile: rf_tile (nullable = false)\n",
      "\n"
     ]
    }
   ],
   "source": [
    "rf.printSchema()"
   ]
  },
  {
   "cell_type": "markdown",
   "metadata": {},
   "source": [
    "As reported by Spark, RasterFrames extracts 6 columns from the GeoTIFF we selected. Some of these columns are dependent\n",
    "on the contents of the source data, and some are are always available. Let's take a look at these in more detail.\n",
    "\n",
    "* `spatial_key`: GeoTrellis assigns a `SpatialKey` or a `SpaceTimeKey` to each tile, mapping it to the layer grid from\n",
    "which it came. If it has a `SpaceTimeKey`, RasterFrames will split it into a `SpatialKey` and a `TemporalKey` (the\n",
    "latter with column name `temporal_key`).\n",
    "* `bounds`: The bounding box of the tile in the tile's native CRS.\n",
    "* `metadata`: The TIFF format header tags found in the file.\n",
    "* `tile` or `tile_n` (where `n` is a band number): For singleband GeoTIFF files, the `tile` column contains the cell\n",
    "data split into tiles. For multiband tiles, each column with `tile_` prefix contains each of the sources bands,\n",
    "in the order they were stored.\n",
    "\n",
    "See the section [Inspecting a `RasterFrame`](#inspecting-a--code-rasterframe--code-) (below) for more details on accessing the RasterFrame's metadata."
   ]
  },
  {
   "cell_type": "markdown",
   "metadata": {},
   "source": [
    "## Reading a GeoTrellis Layer\n",
    "\n",
    "If your imagery is already ingested into a [GeoTrellis layer](https://docs.geotrellis.io/en/latest/guide/spark.html#writing-layers),\n",
    "you can use the RasterFrames GeoTrellis DataSource. There are two parts to this GeoTrellis Layer support. The first\n",
    "is the GeoTrellis Catalog DataSource, which lists the GeoTrellis layers available at a URI. The second part is the actual\n",
    "RasterFrame reader for pulling a layer into a RasterFrame.\n",
    "\n",
    "Before we show how all of this works we need to have a GeoTrellis layer to work with. We can create one with the RasterFrame we constructed above."
   ]
  },
  {
   "cell_type": "code",
   "execution_count": 5,
   "metadata": {},
   "outputs": [],
   "source": [
    "# how to overwrite a file\n",
    "base = 'file:///tmp/gtrf'\n",
    "rf.write.format('geotrellis').mode('overwrite').option('layer', 'sample').option('zoom', 0).save(base)"
   ]
  },
  {
   "cell_type": "markdown",
   "metadata": {},
   "source": [
    "Now we can point our catalog reader at the base directory and see what was saved:"
   ]
  },
  {
   "cell_type": "code",
   "execution_count": 6,
   "metadata": {},
   "outputs": [
    {
     "name": "stdout",
     "output_type": "stream",
     "text": [
      "root\n",
      " |-- index: integer (nullable = false)\n",
      " |-- layer: struct (nullable = true)\n",
      " |    |-- base: struct (nullable = false)\n",
      " |    |    |-- uri: string (nullable = false)\n",
      " |    |-- id: struct (nullable = false)\n",
      " |    |    |-- name: string (nullable = true)\n",
      " |    |    |-- zoom: integer (nullable = false)\n",
      " |-- format: string (nullable = true)\n",
      " |-- keyClass: string (nullable = true)\n",
      " |-- path: string (nullable = true)\n",
      " |-- valueClass: string (nullable = true)\n",
      " |-- bounds: struct (nullable = true)\n",
      " |    |-- maxKey: struct (nullable = true)\n",
      " |    |    |-- col: long (nullable = true)\n",
      " |    |    |-- row: long (nullable = true)\n",
      " |    |-- minKey: struct (nullable = true)\n",
      " |    |    |-- col: long (nullable = true)\n",
      " |    |    |-- row: long (nullable = true)\n",
      " |-- cellType: string (nullable = true)\n",
      " |-- crs: string (nullable = true)\n",
      " |-- extent: struct (nullable = true)\n",
      " |    |-- xmax: double (nullable = true)\n",
      " |    |-- xmin: double (nullable = true)\n",
      " |    |-- ymax: double (nullable = true)\n",
      " |    |-- ymin: double (nullable = true)\n",
      " |-- layoutDefinition: struct (nullable = true)\n",
      " |    |-- extent: struct (nullable = true)\n",
      " |    |    |-- xmax: double (nullable = true)\n",
      " |    |    |-- xmin: double (nullable = true)\n",
      " |    |    |-- ymax: double (nullable = true)\n",
      " |    |    |-- ymin: double (nullable = true)\n",
      " |    |-- tileLayout: struct (nullable = true)\n",
      " |    |    |-- layoutCols: long (nullable = true)\n",
      " |    |    |-- layoutRows: long (nullable = true)\n",
      " |    |    |-- tileCols: long (nullable = true)\n",
      " |    |    |-- tileRows: long (nullable = true)\n",
      "\n",
      "+-----+--------------------+------+--------------------+--------+--------------------+-------------+---------+--------------------+--------------------+--------------------+\n",
      "|index|               layer|format|            keyClass|    path|          valueClass|       bounds| cellType|                 crs|              extent|    layoutDefinition|\n",
      "+-----+--------------------+------+--------------------+--------+--------------------+-------------+---------+--------------------+--------------------+--------------------+\n",
      "|    0|[[file:///tmp/gtr...|  file|geotrellis.spark....|sample/0|geotrellis.raster...|[[0,0],[0,0]]|uint16raw|+proj=utm +zone=1...|[709549.093643,70...|[[709549.093643,7...|\n",
      "+-----+--------------------+------+--------------------+--------+--------------------+-------------+---------+--------------------+--------------------+--------------------+\n",
      "\n"
     ]
    }
   ],
   "source": [
    "cat = spark.read.format('geotrellis-catalog').load(base)\n",
    "cat.printSchema()\n",
    "cat.show()"
   ]
  },
  {
   "cell_type": "markdown",
   "metadata": {},
   "source": [
    "As you can see, there's a lot of information stored in each row of the catalog. Most of this is associated with how the\n",
    "layer is discretized. However, there may be other application specific metadata serialized with a layer that can be use\n",
    "to filter the catalog entries or select a specific one. But for now, we're just going to load a RasterFrame in from the\n",
    "catalog using a convenience function."
   ]
  },
  {
   "cell_type": "code",
   "execution_count": 7,
   "metadata": {},
   "outputs": [],
   "source": [
    "first = cat.select('layer').first()\n",
    "u = first['layer']['base']['uri']\n",
    "l = first['layer']['id']['name']\n",
    "z = first['layer']['id']['zoom']"
   ]
  },
  {
   "cell_type": "code",
   "execution_count": 8,
   "metadata": {},
   "outputs": [
    {
     "name": "stdout",
     "output_type": "stream",
     "text": [
      "+-----------+--------------------+--------------------+\n",
      "|spatial_key|              bounds|                tile|\n",
      "+-----------+--------------------+--------------------+\n",
      "|      [0,0]|POLYGON ((703986....|geotrellis.raster...|\n",
      "+-----------+--------------------+--------------------+\n",
      "\n"
     ]
    }
   ],
   "source": [
    "rfAgain = spark.read.format('geotrellis').option('layer', l).option('zoom', z).load(u)\n",
    "rfAgain.show()"
   ]
  },
  {
   "cell_type": "markdown",
   "metadata": {},
   "source": [
    "## Writing a GeoTrellis Layer\n",
    "\n",
    "**TODO**"
   ]
  },
  {
   "cell_type": "markdown",
   "metadata": {},
   "source": [
    "## Using GeoTrellis APIs\n",
    "\n",
    "If you are used to working directly with the GeoTrellis APIs, there are a number of additional ways to create a `RasterFrame`, as enumerated in the sections below."
   ]
  },
  {
   "cell_type": "markdown",
   "metadata": {},
   "source": [
    "### From `ProjectedExtent`\n",
    "\n",
    "The simplest mechanism for getting a RasterFrame is to use the `toRF(tileCols, tileRows)` extension method on `ProjectedRaster`."
   ]
  },
  {
   "cell_type": "code",
   "execution_count": 3,
   "metadata": {},
   "outputs": [
    {
     "ename": "NameError",
     "evalue": "name 'SinglebandGeoTiff' is not defined",
     "output_type": "error",
     "traceback": [
      "\u001b[0;31m---------------------------------------------------------------------------\u001b[0m",
      "\u001b[0;31mNameError\u001b[0m                                 Traceback (most recent call last)",
      "\u001b[0;32m<ipython-input-3-9479bc86b8b8>\u001b[0m in \u001b[0;36m<module>\u001b[0;34m()\u001b[0m\n\u001b[0;32m----> 1\u001b[0;31m \u001b[0mscene\u001b[0m \u001b[0;34m=\u001b[0m \u001b[0mSinglebandGeoTiff\u001b[0m\u001b[0;34m(\u001b[0m\u001b[0;34m\"../samples/L8-B8-Robinson-IL.tiff\"\u001b[0m\u001b[0;34m)\u001b[0m\u001b[0;34m\u001b[0m\u001b[0m\n\u001b[0m\u001b[1;32m      2\u001b[0m \u001b[0mrf\u001b[0m \u001b[0;34m=\u001b[0m \u001b[0mscene\u001b[0m\u001b[0;34m.\u001b[0m\u001b[0mprojectedRaster\u001b[0m\u001b[0;34m.\u001b[0m\u001b[0mtoRF\u001b[0m\u001b[0;34m(\u001b[0m\u001b[0;36m128\u001b[0m\u001b[0;34m,\u001b[0m \u001b[0;36m128\u001b[0m\u001b[0;34m)\u001b[0m\u001b[0;34m\u001b[0m\u001b[0m\n\u001b[1;32m      3\u001b[0m \u001b[0mrf\u001b[0m\u001b[0;34m.\u001b[0m\u001b[0mshow\u001b[0m\u001b[0;34m(\u001b[0m\u001b[0;36m5\u001b[0m\u001b[0;34m,\u001b[0m \u001b[0mfalse\u001b[0m\u001b[0;34m)\u001b[0m\u001b[0;34m\u001b[0m\u001b[0m\n",
      "\u001b[0;31mNameError\u001b[0m: name 'SinglebandGeoTiff' is not defined"
     ]
    }
   ],
   "source": [
    "scene = SinglebandGeoTiff(\"../samples/L8-B8-Robinson-IL.tiff\")\n",
    "rf = scene.projectedRaster.toRF(128, 128)\n",
    "rf.show(5, false)"
   ]
  },
  {
   "cell_type": "markdown",
   "metadata": {},
   "source": [
    "### From `TileLayerRDD`\n",
    "\n",
    "Another option is to use a GeoTrellis [`LayerReader`](https://docs.geotrellis.io/en/latest/guide/tile-backends.html),\n",
    "to get a `TileLayerRDD` for which there's also a `toRF` extension method."
   ]
  },
  {
   "cell_type": "code",
   "execution_count": null,
   "metadata": {},
   "outputs": [],
   "source": [
    "tiledLayer: TileLayerRDD[SpatialKey] = ???\n",
    "rf = tiledLayer.toRF"
   ]
  },
  {
   "cell_type": "markdown",
   "metadata": {},
   "source": [
    "## Inspecting a `RasterFrame`\n",
    "\n",
    "`RasterFrame` has a number of methods providing access to metadata about the contents of the RasterFrame."
   ]
  },
  {
   "cell_type": "markdown",
   "metadata": {},
   "source": [
    "### Tile Column Names"
   ]
  },
  {
   "cell_type": "code",
   "execution_count": null,
   "metadata": {},
   "outputs": [],
   "source": [
    "map(rf.tileColumns, lambda x: str(x))"
   ]
  },
  {
   "cell_type": "markdown",
   "metadata": {},
   "source": [
    "### Spatial Key Column Name"
   ]
  },
  {
   "cell_type": "code",
   "execution_count": null,
   "metadata": {},
   "outputs": [],
   "source": [
    "str(rf.spatialKeyColumn)"
   ]
  },
  {
   "cell_type": "markdown",
   "metadata": {},
   "source": [
    "### Temporal Key Column\n",
    "\n",
    "Returns an `Option[Column]` since not all RasterFrames have an explicit temporal dimension."
   ]
  },
  {
   "cell_type": "code",
   "execution_count": null,
   "metadata": {},
   "outputs": [],
   "source": [
    "map(rf.temporalKeyColumn, lambda x: str(x))"
   ]
  },
  {
   "cell_type": "markdown",
   "metadata": {},
   "source": [
    "### Tile Layer Metadata\n",
    "\n",
    "The Tile Layer Metadata defines how the spatial/spatiotemporal domain is discretized into tiles, and what the key bounds are."
   ]
  },
  {
   "cell_type": "code",
   "execution_count": null,
   "metadata": {},
   "outputs": [],
   "source": [
    "// NB: The `fold` is required because an `Either` is returned, depending on the key type.\n",
    "rf.tileLayerMetadata.fold(_.toJson, _.toJson).prettyPrint"
   ]
  }
 ],
 "metadata": {
  "kernelspec": {
   "display_name": "Python 3",
   "language": "python",
   "name": "python3"
  },
  "language_info": {
   "codemirror_mode": {
    "name": "ipython",
    "version": 3
   },
   "file_extension": ".py",
   "mimetype": "text/x-python",
   "name": "python",
   "nbconvert_exporter": "python",
   "pygments_lexer": "ipython3",
   "version": "3.6.3"
  }
 },
 "nbformat": 4,
 "nbformat_minor": 2
}
