{
 "cells": [
  {
   "cell_type": "markdown",
   "metadata": {},
   "source": [
    "# Raster Statistics"
   ]
  },
  {
   "cell_type": "code",
   "execution_count": 1,
   "metadata": {},
   "outputs": [],
   "source": [
    "from pyrasterframes import *\n",
    "from pyrasterframes.rasterfunctions import *\n",
    "import pyspark\n",
    "from pyspark.sql import SparkSession\n",
    "from pathlib import Path\n",
    "\n",
    "resource_dir = Path('./samples').resolve()\n",
    "\n",
    "spark = SparkSession.builder. \\\n",
    "    master(\"local[*]\"). \\\n",
    "    appName(\"RasterFrames\"). \\\n",
    "    config(\"spark.ui.enabled\", \"false\"). \\\n",
    "    getOrCreate(). \\\n",
    "    withRasterFrames()\n",
    "# spark.sparkContext.setLogLevel(\"ERROR\")\n",
    "\n",
    "rf = spark.read.geotiff(resource_dir.joinpath(\"L8-B8-Robinson-IL.tiff\").as_uri())"
   ]
  },
  {
   "cell_type": "markdown",
   "metadata": {},
   "source": [
    "RasterFrames has a number of extension methods and columnar functions for performing analysis on tiles.\n",
    "\n",
    "## Tile Statistics \n",
    "\n",
    "### Tile Dimensions\n",
    "\n",
    "Get the nominal tile dimensions. Depending on the tiling there may be some tiles with different sizes on the edges."
   ]
  },
  {
   "cell_type": "code",
   "execution_count": 2,
   "metadata": {
    "scrolled": false
   },
   "outputs": [
    {
     "name": "stdout",
     "output_type": "stream",
     "text": [
      "+-----------+---------------+\n",
      "|spatial_key|dimension(tile)|\n",
      "+-----------+---------------+\n",
      "|      [0,0]|      [250,250]|\n",
      "|      [1,0]|      [250,250]|\n",
      "|      [0,1]|      [250,250]|\n",
      "|      [1,1]|      [250,250]|\n",
      "+-----------+---------------+\n",
      "\n"
     ]
    }
   ],
   "source": [
    "rf.select(rf.spatialKeyColumn(), tileDimensions(\"tile\")).show()"
   ]
  },
  {
   "cell_type": "markdown",
   "metadata": {},
   "source": [
    "### Descriptive Statistics\n",
    "\n",
    "#### NoData Counts\n",
    "\n",
    "Count the numer of `NoData` and non-`NoData` cells in each tile."
   ]
  },
  {
   "cell_type": "code",
   "execution_count": 3,
   "metadata": {},
   "outputs": [
    {
     "name": "stdout",
     "output_type": "stream",
     "text": [
      "+-----------+-----------------+---------------+\n",
      "|spatial_key|noDataCells(tile)|dataCells(tile)|\n",
      "+-----------+-----------------+---------------+\n",
      "|      [0,0]|                0|          62500|\n",
      "|      [1,0]|                0|          62500|\n",
      "|      [0,1]|                0|          62500|\n",
      "|      [1,1]|                0|          62500|\n",
      "+-----------+-----------------+---------------+\n",
      "\n"
     ]
    }
   ],
   "source": [
    "rf.select(rf.spatialKeyColumn(), noDataCells(\"tile\"), dataCells(\"tile\")).show()"
   ]
  },
  {
   "cell_type": "markdown",
   "metadata": {},
   "source": [
    "#### Tile Mean\n",
    "\n",
    "Compute the mean value in each tile. Use `tileMean` for integral cell types, and `tileMeanDouble` for floating point\n",
    "cell types."
   ]
  },
  {
   "cell_type": "code",
   "execution_count": 4,
   "metadata": {},
   "outputs": [
    {
     "name": "stdout",
     "output_type": "stream",
     "text": [
      "+-----------+--------------+\n",
      "|spatial_key|tileMean(tile)|\n",
      "+-----------+--------------+\n",
      "|      [0,0]|  10083.360304|\n",
      "|      [1,0]|   9860.046272|\n",
      "|      [0,1]|   10106.30968|\n",
      "+-----------+--------------+\n",
      "only showing top 3 rows\n",
      "\n"
     ]
    }
   ],
   "source": [
    "rf.select(rf.spatialKeyColumn(), tileMean(\"tile\")).show(3)"
   ]
  },
  {
   "cell_type": "markdown",
   "metadata": {},
   "source": [
    "#### Tile Summary Statistics\n",
    "\n",
    "Compute a suite of summary statistics for each tile. Use `tileStats` for integral cells types, and `tileStatsDouble`\n",
    "for floating point cell types."
   ]
  },
  {
   "cell_type": "code",
   "execution_count": 5,
   "metadata": {},
   "outputs": [
    {
     "name": "stdout",
     "output_type": "stream",
     "text": [
      "+-----------+---------+------+-------+------------------+------------------+\n",
      "|spatial_key|dataCells|   min|    max|              mean|          variance|\n",
      "+-----------+---------+------+-------+------------------+------------------+\n",
      "|      [0,0]|    62500|7254.0|31887.0|10083.360304000025| 3232555.629237034|\n",
      "|      [1,0]|    62500|7470.0|29722.0| 9860.046272000003|  2811384.49990689|\n",
      "|      [0,1]|    62500|7249.0|35647.0|10106.309679999991|3441403.8590902924|\n",
      "+-----------+---------+------+-------+------------------+------------------+\n",
      "only showing top 3 rows\n",
      "\n"
     ]
    }
   ],
   "source": [
    "rf.withColumn(\"stats\", tileStats(\"tile\")).select(rf.spatialKeyColumn(), \"stats.*\").show(3)"
   ]
  },
  {
   "cell_type": "markdown",
   "metadata": {},
   "source": [
    "### Histogram\n",
    "\n",
    "The `tileHistogram` function computes a histogram over the data in each tile. See the \n",
    "@scaladoc[GeoTrellis `Histogram`](geotrellis.raster.histogram.Histogram) documentation for details on what's\n",
    "available in the resulting data structure. Use this version for integral cell types, and `tileHistorgramDouble` for\n",
    "floating  point cells types. \n",
    "\n",
    "In this example we compute quantile breaks."
   ]
  },
  {
   "cell_type": "code",
   "execution_count": null,
   "metadata": {},
   "outputs": [],
   "source": [
    "hist = rf.select(tileHistogram(\"tile\")).rdd.flatMap(lambda x: x).toLocalIterator()\n",
    "hists = [x for x in hist]"
   ]
  },
  {
   "cell_type": "code",
   "execution_count": 5,
   "metadata": {},
   "outputs": [
    {
     "name": "stdout",
     "output_type": "stream",
     "text": [
      "+-----------+--------------------+--------------------+--------------------+-------------------+\n",
      "|spatial_key|              bounds|            metadata|                tile|      spatial_index|\n",
      "+-----------+--------------------+--------------------+--------------------+-------------------+\n",
      "|      [0,1]|POLYGON ((431902....|Map(AREA_OR_POINT...|geotrellis.raster...|2777272716961181063|\n",
      "|      [0,0]|POLYGON ((431902....|Map(AREA_OR_POINT...|geotrellis.raster...|2777272889250452463|\n",
      "|      [1,1]|POLYGON ((437707....|Map(AREA_OR_POINT...|geotrellis.raster...|2777273490489613465|\n",
      "|      [1,0]|POLYGON ((437707....|Map(AREA_OR_POINT...|geotrellis.raster...|2777273662401083501|\n",
      "+-----------+--------------------+--------------------+--------------------+-------------------+\n",
      "\n"
     ]
    }
   ],
   "source": [
    "rf.withSpatialIndex().show()"
   ]
  },
  {
   "cell_type": "code",
   "execution_count": null,
   "metadata": {},
   "outputs": [],
   "source": [
    "rf.select(map(lambda x: x.quantileBreaks(5), hists)).show(5, false)"
   ]
  },
  {
   "cell_type": "markdown",
   "metadata": {},
   "source": [
    "## Aggregate Statistics\n",
    "\n",
    "The `aggStats` function computes the same summary statistics as `tileStats`, but aggregates them over the whole \n",
    "RasterFrame."
   ]
  },
  {
   "cell_type": "code",
   "execution_count": 17,
   "metadata": {},
   "outputs": [
    {
     "name": "stdout",
     "output_type": "stream",
     "text": [
      "+--------------------+\n",
      "|      aggStats(tile)|\n",
      "+--------------------+\n",
      "|[250000,7249.0,39...|\n",
      "+--------------------+\n",
      "\n"
     ]
    }
   ],
   "source": [
    "rf.select(aggStats(\"tile\")).show()"
   ]
  },
  {
   "cell_type": "markdown",
   "metadata": {},
   "source": [
    "A more involved example: extract bin counts from a computed `Histogram`."
   ]
  },
  {
   "cell_type": "code",
   "execution_count": null,
   "metadata": {},
   "outputs": [],
   "source": [
    "rf.select(aggHistogram(\"tile\")).\n",
    "  map(h => for(v in h.labels) yield(v, h.itemCount(v))).\n",
    "  select(explode(\"value\") as \"counts\").\n",
    "  select(\"counts._1\", \"counts._2\").\n",
    "  toDF(\"value\", \"count\").\n",
    "  orderBy(desc(\"count\")).\n",
    "  show(10)\n"
   ]
  },
  {
   "cell_type": "code",
   "execution_count": null,
   "metadata": {},
   "outputs": [],
   "source": [
    "spark.stop()"
   ]
  },
  {
   "cell_type": "code",
   "execution_count": 7,
   "metadata": {},
   "outputs": [
    {
     "name": "stdout",
     "output_type": "stream",
     "text": [
      "+-----------+--------------------+--------------------+--------------------+-------------------+\n",
      "|spatial_key|              bounds|            metadata|                tile|      spatial_index|\n",
      "+-----------+--------------------+--------------------+--------------------+-------------------+\n",
      "|      [0,1]|POLYGON ((431902....|Map(AREA_OR_POINT...|geotrellis.raster...|2777272716961181063|\n",
      "|      [0,0]|POLYGON ((431902....|Map(AREA_OR_POINT...|geotrellis.raster...|2777272889250452463|\n",
      "|      [1,1]|POLYGON ((437707....|Map(AREA_OR_POINT...|geotrellis.raster...|2777273490489613465|\n",
      "|      [1,0]|POLYGON ((437707....|Map(AREA_OR_POINT...|geotrellis.raster...|2777273662401083501|\n",
      "+-----------+--------------------+--------------------+--------------------+-------------------+\n",
      "\n"
     ]
    }
   ],
   "source": [
    "rf.withSpatialIndex().show()"
   ]
  },
  {
   "cell_type": "code",
   "execution_count": null,
   "metadata": {},
   "outputs": [],
   "source": []
  }
 ],
 "metadata": {
  "kernelspec": {
   "display_name": "Python 3",
   "language": "python",
   "name": "python3"
  },
  "language_info": {
   "codemirror_mode": {
    "name": "ipython",
    "version": 3
   },
   "file_extension": ".py",
   "mimetype": "text/x-python",
   "name": "python",
   "nbconvert_exporter": "python",
   "pygments_lexer": "ipython3",
   "version": "3.6.3"
  }
 },
 "nbformat": 4,
 "nbformat_minor": 2
}
