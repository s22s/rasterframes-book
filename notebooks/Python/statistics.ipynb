{
 "cells": [
  {
   "cell_type": "markdown",
   "metadata": {},
   "source": [
    "# Raster Statistics"
   ]
  },
  {
   "cell_type": "code",
   "execution_count": 2,
   "metadata": {},
   "outputs": [],
   "source": [
    "from pyrasterframes import *\n",
    "from pyrasterframes.rasterfunctions import *\n",
    "import pyspark\n",
    "from pyspark.sql import SparkSession\n",
    "from pathlib import Path\n",
    "\n",
    "resource_dir = Path('./samples').resolve()\n",
    "\n",
    "spark = SparkSession.builder. \\\n",
    "    master(\"local[*]\"). \\\n",
    "    appName(\"RasterFrames\"). \\\n",
    "    config(\"spark.ui.enabled\", \"false\"). \\\n",
    "    getOrCreate(). \\\n",
    "    withRasterFrames()\n",
    "# spark.sparkContext.setLogLevel(\"ERROR\")\n",
    "\n",
    "rf = spark.read.geotiff(resource_dir.joinpath(\"L8-B8-Robinson-IL.tiff\").as_uri())"
   ]
  },
  {
   "cell_type": "markdown",
   "metadata": {},
   "source": [
    "RasterFrames has a number of extension methods and columnar functions for performing analysis on tiles.\n",
    "\n",
    "## Tile Statistics \n",
    "\n",
    "### Tile Dimensions\n",
    "\n",
    "Get the nominal tile dimensions. Depending on the tiling there may be some tiles with different sizes on the edges."
   ]
  },
  {
   "cell_type": "code",
   "execution_count": 3,
   "metadata": {
    "scrolled": false
   },
   "outputs": [
    {
     "name": "stdout",
     "output_type": "stream",
     "text": [
      "+-----------+---------------+\n",
      "|spatial_key|dimension(tile)|\n",
      "+-----------+---------------+\n",
      "|      [2,1]|      [194,250]|\n",
      "|      [0,0]|      [194,250]|\n",
      "|      [3,1]|      [194,250]|\n",
      "|      [1,0]|      [194,250]|\n",
      "|      [3,0]|      [194,250]|\n",
      "|      [0,1]|      [194,250]|\n",
      "|      [1,1]|      [194,250]|\n",
      "|      [2,0]|      [194,250]|\n",
      "+-----------+---------------+\n",
      "\n"
     ]
    }
   ],
   "source": [
    "rf.select(rf.spatialKeyColumn(), tileDimensions(\"tile\")).show()"
   ]
  },
  {
   "cell_type": "markdown",
   "metadata": {},
   "source": [
    "### Descriptive Statistics\n",
    "\n",
    "#### NoData Counts\n",
    "\n",
    "Count the numer of `NoData` and non-`NoData` cells in each tile."
   ]
  },
  {
   "cell_type": "code",
   "execution_count": 4,
   "metadata": {},
   "outputs": [
    {
     "name": "stdout",
     "output_type": "stream",
     "text": [
      "+-----------+-----------------+---------------+\n",
      "|spatial_key|noDataCells(tile)|dataCells(tile)|\n",
      "+-----------+-----------------+---------------+\n",
      "|      [2,1]|                0|          48500|\n",
      "|      [0,0]|                0|          48500|\n",
      "|      [3,1]|                0|          48500|\n",
      "|      [1,0]|                0|          48500|\n",
      "|      [3,0]|                0|          48500|\n",
      "|      [0,1]|                0|          48500|\n",
      "|      [1,1]|                0|          48500|\n",
      "|      [2,0]|                0|          48500|\n",
      "+-----------+-----------------+---------------+\n",
      "\n"
     ]
    }
   ],
   "source": [
    "rf.select(rf.spatialKeyColumn(), noDataCells(\"tile\"), dataCells(\"tile\")).show()"
   ]
  },
  {
   "cell_type": "markdown",
   "metadata": {},
   "source": [
    "#### Tile Mean\n",
    "\n",
    "Compute the mean value in each tile. Use `tileMean` for integral cell types, and `tileMeanDouble` for floating point\n",
    "cell types."
   ]
  },
  {
   "cell_type": "code",
   "execution_count": 5,
   "metadata": {},
   "outputs": [
    {
     "name": "stdout",
     "output_type": "stream",
     "text": [
      "+-----------+------------------+\n",
      "|spatial_key|    tileMean(tile)|\n",
      "+-----------+------------------+\n",
      "|      [2,1]|10607.318082474227|\n",
      "|      [0,0]|10488.786144329897|\n",
      "|      [3,1]|10579.939030927835|\n",
      "+-----------+------------------+\n",
      "only showing top 3 rows\n",
      "\n"
     ]
    }
   ],
   "source": [
    "rf.select(rf.spatialKeyColumn(), tileMean(\"tile\")).show(3)"
   ]
  },
  {
   "cell_type": "markdown",
   "metadata": {},
   "source": [
    "#### Tile Summary Statistics\n",
    "\n",
    "Compute a suite of summary statistics for each tile. Use `tileStats` for integral cells types, and `tileStatsDouble`\n",
    "for floating point cell types."
   ]
  },
  {
   "cell_type": "markdown",
   "metadata": {},
   "source": [
    "## Plotting \n",
    "Data can be extracted and plotted with matplotlib. "
   ]
  },
  {
   "cell_type": "code",
   "execution_count": null,
   "metadata": {},
   "outputs": [],
   "source": [
    "# Graph the mins, maxes, and means all at once\n",
    "mins = list(map(lambda x: x[0], \n",
    "         rf.withColumn(\"stats\", tileStats(\"tile\")).select(rf.spatialKeyColumn(), \"stats.*\").select(\"min\").collect()))\n",
    "maxes = list(map(lambda x: x[0], \n",
    "         rf.withColumn(\"stats\", tileStats(\"tile\")).select(rf.spatialKeyColumn(), \"stats.*\").select(\"max\").collect()))\n",
    "means = list(map(lambda x: x[0], \n",
    "         rf.withColumn(\"stats\", tileStats(\"tile\")).select(rf.spatialKeyColumn(), \"stats.*\").select(\"mean\").collect()))"
   ]
  },
  {
   "cell_type": "code",
   "execution_count": 64,
   "metadata": {},
   "outputs": [
    {
     "data": {
      "image/png": "[encoded data removed]",
      "text/plain": [
       "<matplotlib.figure.Figure at 0x7f2571e6af98>"
      ]
     },
     "metadata": {},
     "output_type": "display_data"
    }
   ],
   "source": [
    "import matplotlib\n",
    "import matplotlib.pyplot as plt\n",
    "import numpy as np\n",
    "\n",
    "bands = range(1, 9)\n",
    "plt.xlabel(\"Bands\")\n",
    "plt.ylabel(\"Intensity\")\n",
    "plt.plot(bands, mins, 'ro', label='min')\n",
    "plt.plot(bands, means, 'go', label='mean')\n",
    "plt.plot(bands, maxes, 'bo', label='max')\n",
    "plt.legend()\n",
    "plt.show()"
   ]
  },
  {
   "cell_type": "code",
   "execution_count": 6,
   "metadata": {},
   "outputs": [
    {
     "name": "stdout",
     "output_type": "stream",
     "text": [
      "+-----------+---------+-----------+------+-------+------------------+------------------+\n",
      "|spatial_key|dataCells|noDataCells|   min|    max|              mean|          variance|\n",
      "+-----------+---------+-----------+------+-------+------------------+------------------+\n",
      "|      [2,1]|    48500|         -1|7485.0|39217.0|10607.318082474267| 4232526.804534888|\n",
      "|      [0,0]|    48500|         -1|7291.0|28869.0|10488.786144329813| 2590842.233358533|\n",
      "|      [3,1]|    48500|         -1|7393.0|23590.0|10579.939030927824|2855749.7320972127|\n",
      "+-----------+---------+-----------+------+-------+------------------+------------------+\n",
      "only showing top 3 rows\n",
      "\n"
     ]
    }
   ],
   "source": [
    "rf.withColumn(\"stats\", tileStats(\"tile\")).select(rf.spatialKeyColumn(), \"stats.*\").show(3)"
   ]
  },
  {
   "cell_type": "markdown",
   "metadata": {},
   "source": [
    "### Histogram\n",
    "\n",
    "The `tileHistogram` function computes a histogram over the data in each tile. See the \n",
    "@scaladoc[GeoTrellis `Histogram`](geotrellis.raster.histogram.Histogram) documentation for details on what's\n",
    "available in the resulting data structure. Use this version for integral cell types, and `tileHistorgramDouble` for\n",
    "floating  point cells types. \n",
    "\n",
    "In this example we compute quantile breaks."
   ]
  },
  {
   "cell_type": "code",
   "execution_count": 21,
   "metadata": {},
   "outputs": [],
   "source": [
    "hists = list(map(lambda x: (x[0].bins), rf.select(tileHistogram(\"tile\")).collect()))"
   ]
  },
  {
   "cell_type": "code",
   "execution_count": 23,
   "metadata": {},
   "outputs": [],
   "source": [
    "binList = []\n",
    "for hist in hists:\n",
    "    for bins in hist:\n",
    "        binList.append((bins[0], bins[1]))"
   ]
  },
  {
   "cell_type": "code",
   "execution_count": 20,
   "metadata": {},
   "outputs": [
    {
     "name": "stdout",
     "output_type": "stream",
     "text": [
      "+-----------+--------------------+--------------------+--------------------+-------------------+\n",
      "|spatial_key|              bounds|            metadata|                tile|      spatial_index|\n",
      "+-----------+--------------------+--------------------+--------------------+-------------------+\n",
      "|      [0,1]|POLYGON ((431902....|Map(AREA_OR_POINT...|geotrellis.raster...|2777272668632429122|\n",
      "|      [1,1]|POLYGON ((434805 ...|Map(AREA_OR_POINT...|geotrellis.raster...|2777272733439207797|\n",
      "|      [0,0]|POLYGON ((431902....|Map(AREA_OR_POINT...|geotrellis.raster...|2777272837976870952|\n",
      "|      [1,0]|POLYGON ((434805 ...|Map(AREA_OR_POINT...|geotrellis.raster...|2777272905362233268|\n",
      "|      [2,1]|POLYGON ((437707....|Map(AREA_OR_POINT...|geotrellis.raster...|2777273476482717026|\n",
      "|      [3,1]|POLYGON ((440610 ...|Map(AREA_OR_POINT...|geotrellis.raster...|2777273540982528781|\n",
      "|      [2,0]|POLYGON ((437707....|Map(AREA_OR_POINT...|geotrellis.raster...|2777273648438972158|\n",
      "|      [3,0]|POLYGON ((440610 ...|Map(AREA_OR_POINT...|geotrellis.raster...|2777273712919526976|\n",
      "+-----------+--------------------+--------------------+--------------------+-------------------+\n",
      "\n"
     ]
    }
   ],
   "source": [
    "rf.withSpatialIndex().show()"
   ]
  },
  {
   "cell_type": "markdown",
   "metadata": {},
   "source": [
    "This is a plot of the histograms that were just computer across several of the tiles. While not particularly meaningful, this is an example of how one would create a basic scatterplot."
   ]
  },
  {
   "cell_type": "code",
   "execution_count": 55,
   "metadata": {},
   "outputs": [
    {
     "data": {
      "image/png": "[encoded data removed]",
      "text/plain": [
       "<matplotlib.figure.Figure at 0x7f25780d44a8>"
      ]
     },
     "metadata": {},
     "output_type": "display_data"
    }
   ],
   "source": [
    "unzipped = list(zip(*binList))\n",
    "\n",
    "fig, ax = plt.subplots()\n",
    "plt.scatter(unzipped[0], unzipped[1], s=.75)\n",
    "plt.xlabel(\"Intensity\")\n",
    "plt.ylabel(\"Bin Counts\")\n",
    "plt.title('Histogram graph')\n",
    "plt.show()"
   ]
  },
  {
   "cell_type": "markdown",
   "metadata": {},
   "source": [
    "## Aggregate Statistics\n",
    "\n",
    "The `aggStats` function computes the same summary statistics as `tileStats`, but aggregates them over the whole \n",
    "RasterFrame."
   ]
  },
  {
   "cell_type": "code",
   "execution_count": 47,
   "metadata": {},
   "outputs": [
    {
     "name": "stdout",
     "output_type": "stream",
     "text": [
      "+---------------------------------------------------------------+\n",
      "|aggStats(tile)                                                 |\n",
      "+---------------------------------------------------------------+\n",
      "|[388000,0,7209.0,39217.0,10160.657951030928,3315112.9759380817]|\n",
      "+---------------------------------------------------------------+\n",
      "\n"
     ]
    }
   ],
   "source": [
    "rf.select(aggStats(\"tile\")).show(truncate=False)"
   ]
  },
  {
   "cell_type": "code",
   "execution_count": null,
   "metadata": {},
   "outputs": [],
   "source": []
  }
 ],
 "metadata": {
  "kernelspec": {
   "display_name": "Python 3",
   "language": "python",
   "name": "python3"
  },
  "language_info": {
   "codemirror_mode": {
    "name": "ipython",
    "version": 3
   },
   "file_extension": ".py",
   "mimetype": "text/x-python",
   "name": "python",
   "nbconvert_exporter": "python",
   "pygments_lexer": "ipython3",
   "version": "3.6.3"
  }
 },
 "nbformat": 4,
 "nbformat_minor": 2
}
