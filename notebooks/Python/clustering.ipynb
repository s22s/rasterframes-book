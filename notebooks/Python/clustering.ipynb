{
 "cells": [
  {
   "cell_type": "markdown",
   "metadata": {},
   "source": [
    "# Clustering\n",
    "\n",
    "In this example we will do some simple cell clustering based on multiband imagery.\n",
    "\n",
    "## Setup \n",
    "\n",
    "First some setup:"
   ]
  },
  {
   "cell_type": "code",
   "execution_count": 147,
   "metadata": {},
   "outputs": [],
   "source": [
    "from pyrasterframes import *\n",
    "from pyrasterframes.rasterfunctions import *\n",
    "import pyspark\n",
    "from pyspark.sql import SparkSession\n",
    "from pyspark.ml.feature import VectorAssembler\n",
    "from pyspark.ml.clustering import KMeans\n",
    "from pyspark.ml import Pipeline\n",
    "from pathlib import Path\n",
    "import numpy as np\n",
    "import matplotlib as mpl\n",
    "import matplotlib.pyplot as plt\n",
    "import matplotlib.image as mpimg\n",
    "\n",
    "spark = SparkSession.builder. \\\n",
    "    master(\"local[*]\"). \\\n",
    "    appName(\"RasterFrames\"). \\\n",
    "    config(\"spark.ui.enabled\", \"false\"). \\\n",
    "    getOrCreate(). \\\n",
    "    withRasterFrames()\n",
    "    \n",
    "resource_dir = Path('./samples').resolve()\n",
    "# Utility for reading imagery from our test data set\n",
    "filenamePattern = \"L8-B{}-Elkton-VA.tiff\"\n",
    "bandNumbers = range(1, 5)\n",
    "bandColNames = list(map(lambda n: 'band_{}'.format(n), bandNumbers))\n",
    "\n",
    "def readTiff(name):\n",
    "    return resource_dir.joinpath(filenamePattern.format(name)).as_uri()"
   ]
  },
  {
   "cell_type": "markdown",
   "metadata": {},
   "source": [
    "## Loading Data\n",
    "\n",
    "The first step is to load multiple bands of imagery and construct a single RasterFrame from them."
   ]
  },
  {
   "cell_type": "code",
   "execution_count": 148,
   "metadata": {},
   "outputs": [],
   "source": [
    "from functools import reduce\n",
    "joinedRF = reduce(lambda rf1, rf2: rf1.asRF().spatialJoin(rf2.drop('bounds').drop('metadata')),\n",
    "                  map(lambda bf: spark.read.geotiff(bf[1]) \\\n",
    "                      .withColumnRenamed('tile', 'band_{}'.format(bf[0])),\n",
    "                  map(lambda b: (b, readTiff(b)), bandNumbers)))"
   ]
  },
  {
   "cell_type": "markdown",
   "metadata": {},
   "source": [
    "We should see a `spatial_key` column, `bounds`, `metadata`, and 4 columns of tiles, representing our four bands."
   ]
  },
  {
   "cell_type": "code",
   "execution_count": 149,
   "metadata": {},
   "outputs": [
    {
     "name": "stdout",
     "output_type": "stream",
     "text": [
      "root\n",
      " |-- spatial_key: struct (nullable = false)\n",
      " |    |-- col: integer (nullable = false)\n",
      " |    |-- row: integer (nullable = false)\n",
      " |-- bounds: polygon (nullable = true)\n",
      " |-- metadata: map (nullable = true)\n",
      " |    |-- key: string\n",
      " |    |-- value: string (valueContainsNull = false)\n",
      " |-- band_1: rf_tile (nullable = false)\n",
      " |-- band_2: rf_tile (nullable = false)\n",
      " |-- band_3: rf_tile (nullable = false)\n",
      " |-- band_4: rf_tile (nullable = false)\n",
      "\n"
     ]
    }
   ],
   "source": [
    "joinedRF.printSchema()"
   ]
  },
  {
   "cell_type": "markdown",
   "metadata": {},
   "source": [
    "## ML Pipeline \n",
    "\n",
    "SparkML requires that each observation be in its own row, and those\n",
    "observations be packed into a single `Vector`. The first step is to\n",
    "\"explode\" the tiles into a single row per cell/pixel."
   ]
  },
  {
   "cell_type": "code",
   "execution_count": 80,
   "metadata": {},
   "outputs": [],
   "source": [
    "exploder = TileExploder()"
   ]
  },
  {
   "cell_type": "markdown",
   "metadata": {},
   "source": [
    "To \"vectorize\" the the band columns, as required by SparkML, we use the SparkML \n",
    "`VectorAssembler`. We then configure our algorithm, create the transformation pipeline,\n",
    "and train our model. (Note: the selected value of *K* below is arbitrary.) "
   ]
  },
  {
   "cell_type": "code",
   "execution_count": 91,
   "metadata": {},
   "outputs": [],
   "source": [
    "assembler = VectorAssembler() \\\n",
    "    .setInputCols(bandColNames) \\\n",
    "    .setOutputCol(\"features\")\n",
    "\n",
    "# Configure our clustering algorithm\n",
    "k = 5\n",
    "kmeans = KMeans().setK(k)\n",
    "\n",
    "# Combine the two stages\n",
    "pipeline = Pipeline().setStages([exploder, assembler, kmeans])\n",
    "\n",
    "# Compute clusters\n",
    "model = pipeline.fit(joinedRF)"
   ]
  },
  {
   "cell_type": "markdown",
   "metadata": {},
   "source": [
    "## Model Evaluation\n",
    "\n",
    "Once trained, the model can be saved off for later use, or used immediately on the same\n",
    "data we used to compute the model. First we run the data through the model to assign \n",
    "cluster IDs to each cell."
   ]
  },
  {
   "cell_type": "code",
   "execution_count": 92,
   "metadata": {},
   "outputs": [
    {
     "name": "stdout",
     "output_type": "stream",
     "text": [
      "+-----------+--------------------+--------------------+------------+---------+-------+------+------+------+--------------------+----------+\n",
      "|spatial_key|              bounds|            metadata|column_index|row_index| band_1|band_2|band_3|band_4|            features|prediction|\n",
      "+-----------+--------------------+--------------------+------------+---------+-------+------+------+------+--------------------+----------+\n",
      "|      [0,0]|POLYGON ((703986....|Map(AREA_OR_POINT...|           0|        0| 9470.0|8491.0|7805.0|6697.0|[9470.0,8491.0,78...|         1|\n",
      "|      [0,0]|POLYGON ((703986....|Map(AREA_OR_POINT...|           1|        0| 9566.0|8607.0|8046.0|6898.0|[9566.0,8607.0,80...|         1|\n",
      "|      [0,0]|POLYGON ((703986....|Map(AREA_OR_POINT...|           2|        0| 9703.0|8808.0|8377.0|7222.0|[9703.0,8808.0,83...|         2|\n",
      "|      [0,0]|POLYGON ((703986....|Map(AREA_OR_POINT...|           3|        0| 9856.0|8983.0|8565.0|7557.0|[9856.0,8983.0,85...|         2|\n",
      "|      [0,0]|POLYGON ((703986....|Map(AREA_OR_POINT...|           4|        0|10105.0|9270.0|8851.0|7912.0|[10105.0,9270.0,8...|         2|\n",
      "|      [0,0]|POLYGON ((703986....|Map(AREA_OR_POINT...|           5|        0| 9920.0|9077.0|8480.0|7534.0|[9920.0,9077.0,84...|         2|\n",
      "|      [0,0]|POLYGON ((703986....|Map(AREA_OR_POINT...|           6|        0| 9559.0|8603.0|7847.0|6829.0|[9559.0,8603.0,78...|         1|\n",
      "|      [0,0]|POLYGON ((703986....|Map(AREA_OR_POINT...|           7|        0| 9485.0|8543.0|7725.0|6731.0|[9485.0,8543.0,77...|         1|\n",
      "+-----------+--------------------+--------------------+------------+---------+-------+------+------+------+--------------------+----------+\n",
      "only showing top 8 rows\n",
      "\n"
     ]
    }
   ],
   "source": [
    "clustered = model.transform(joinedRF)\n",
    "clustered.show(5)"
   ]
  },
  {
   "cell_type": "markdown",
   "metadata": {},
   "source": [
    "If we want to inspect the model statistics, the SparkML API requires us to go\n",
    "through this unfortunate contortion:"
   ]
  },
  {
   "cell_type": "code",
   "execution_count": 93,
   "metadata": {},
   "outputs": [],
   "source": [
    "clusterResults = list(filter(lambda x: str(x).startswith('KMeans'), model.stages))[0]"
   ]
  },
  {
   "cell_type": "markdown",
   "metadata": {},
   "source": [
    "Compute sum of squared distances of points to their nearest center:"
   ]
  },
  {
   "cell_type": "code",
   "execution_count": 94,
   "metadata": {},
   "outputs": [
    {
     "name": "stdout",
     "output_type": "stream",
     "text": [
      "Within set sum of squared errors: 9512346591.983616\n"
     ]
    }
   ],
   "source": [
    "metric = clusterResults.computeCost(clustered)\n",
    "print(\"Within set sum of squared errors: %s\" % metric)"
   ]
  },
  {
   "cell_type": "markdown",
   "metadata": {},
   "source": [
    "## Visualizing Results\n",
    "\n",
    "The predictions are in a DataFrame with each row representing a separate pixel. \n",
    "To assemble a raster to visualize the cluster assignments, we have to go through a\n",
    "multi-stage process to get the data back in tile form, and from there to combined\n",
    "raster form.\n",
    "\n",
    "First, we get the DataFrame back into RasterFrame form:"
   ]
  },
  {
   "cell_type": "code",
   "execution_count": 95,
   "metadata": {},
   "outputs": [],
   "source": [
    "tlm = joinedRF.tileLayerMetadata()\n",
    "layout = tlm['layoutDefinition']['tileLayout']\n",
    "\n",
    "retiled = clustered.groupBy('spatial_key').agg(\n",
    "    assembleTile('column_index', 'row_index', 'prediction',\n",
    "        layout['tileCols'], layout['tileRows'], 'int8')\n",
    ")"
   ]
  },
  {
   "cell_type": "code",
   "execution_count": null,
   "metadata": {},
   "outputs": [],
   "source": [
    "rf = retiled.asRF('spatial_key', tlm)\n",
    "rf.printSchema()\n",
    "rf.show()"
   ]
  },
  {
   "cell_type": "markdown",
   "metadata": {},
   "source": [
    "To render our visualization, we convert to a raster first, which gives us a 1-D array with all the cell values. We then reshape the raster into a 2d array and use an\n",
    "matplotlib colormap to assign each discrete cluster a different color."
   ]
  },
  {
   "cell_type": "code",
   "execution_count": 143,
   "metadata": {},
   "outputs": [],
   "source": [
    "# takes a while\n",
    "raster = np.asarray(list(rf.toIntRaster('prediction', 186, 169)))"
   ]
  },
  {
   "cell_type": "code",
   "execution_count": 141,
   "metadata": {},
   "outputs": [],
   "source": [
    "pixels = np.reshape(raster, (169, 186))"
   ]
  },
  {
   "cell_type": "code",
   "execution_count": 145,
   "metadata": {},
   "outputs": [
    {
     "data": {
      "image/png": "[encoded data removed]",
      "text/plain": [
       "<matplotlib.figure.Figure at 0x7f56b0a1c940>"
      ]
     },
     "metadata": {},
     "output_type": "display_data"
    }
   ],
   "source": [
    "imgplot = plt.imshow(pixels)\n",
    "imgplot.set_cmap('viridis')"
   ]
  },
  {
   "cell_type": "code",
   "execution_count": null,
   "metadata": {},
   "outputs": [],
   "source": [
    "spark.stop()"
   ]
  }
 ],
 "metadata": {
  "kernelspec": {
   "display_name": "Python 3",
   "language": "python",
   "name": "python3"
  },
  "language_info": {
   "codemirror_mode": {
    "name": "ipython",
    "version": 3
   },
   "file_extension": ".py",
   "mimetype": "text/x-python",
   "name": "python",
   "nbconvert_exporter": "python",
   "pygments_lexer": "ipython3",
   "version": "3.6.3"
  }
 },
 "nbformat": 4,
 "nbformat_minor": 2
}
