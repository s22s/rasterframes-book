{
 "cells": [
  {
   "cell_type": "markdown",
   "metadata": {},
   "source": [
    "# Creating&nbsp;RasterFrames\n",
    "\n",
    "## Initialization\n",
    "\n",
    "There are a couple of setup steps necessary anytime you want to work with RasterFrames. the first is to import the API symbols into scope. Next, initialize the `SparkSession`, and call the `withRasterFrames` method on it:"
   ]
  },
  {
   "cell_type": "code",
   "execution_count": 1,
   "metadata": {},
   "outputs": [
    {
     "data": {
      "text/plain": [
       "Intitializing Scala interpreter ..."
      ]
     },
     "metadata": {},
     "output_type": "display_data"
    },
    {
     "data": {
      "text/plain": [
       "Spark Web UI available at http://172.18.0.2:4040\n",
       "SparkContext available as 'sc' (version = 2.2.0, master = local[*], app id = local-1531509407982)\n",
       "SparkSession available as 'spark'\n"
      ]
     },
     "metadata": {},
     "output_type": "display_data"
    },
    {
     "data": {
      "text/plain": [
       "import astraea.spark.rasterframes._\n",
       "import org.apache.spark.sql._\n",
       "spark: org.apache.spark.sql.SparkSession = org.apache.spark.sql.SparkSession@70bf7a68\n"
      ]
     },
     "execution_count": 1,
     "metadata": {},
     "output_type": "execute_result"
    }
   ],
   "source": [
    "import astraea.spark.rasterframes._\n",
    "import org.apache.spark.sql._\n",
    "\n",
    "implicit val spark = SparkSession.builder().\n",
    "  master(\"local\").appName(\"RasterFrames\").\n",
    "  config(\"spark.ui.enabled\", \"false\").\n",
    "  getOrCreate().\n",
    "  withRasterFrames"
   ]
  },
  {
   "cell_type": "markdown",
   "metadata": {},
   "source": [
    "And, as is standard Spark SQL practice, we import additional DataFrame support:"
   ]
  },
  {
   "cell_type": "code",
   "execution_count": 2,
   "metadata": {},
   "outputs": [
    {
     "data": {
      "text/plain": [
       "import spark.implicits._\n"
      ]
     },
     "execution_count": 2,
     "metadata": {},
     "output_type": "execute_result"
    }
   ],
   "source": [
    "import spark.implicits._\n",
    "\n",
    "spark.sparkContext.setLogLevel(\"ERROR\")"
   ]
  },
  {
   "cell_type": "markdown",
   "metadata": {},
   "source": [
    "Now we are ready to create a RasterFrame.\n",
    "\n",
    "## Reading a GeoTIFF\n",
    "\n",
    "The most straightforward way to create a `RasterFrame` is to read a [GeoTIFF](https://en.wikipedia.org/wiki/GeoTIFF)\n",
    "file using a RasterFrame [`DataSource`](https://spark.apache.org/docs/latest/sql-programming-guide.html#data-sources)\n",
    "designed for this purpose.\n",
    "\n",
    "First add the following imports:"
   ]
  },
  {
   "cell_type": "code",
   "execution_count": 3,
   "metadata": {},
   "outputs": [
    {
     "data": {
      "text/plain": [
       "import astraea.spark.rasterframes.datasource.geotiff._\n",
       "import java.io.File\n"
      ]
     },
     "execution_count": 3,
     "metadata": {},
     "output_type": "execute_result"
    }
   ],
   "source": [
    "import astraea.spark.rasterframes.datasource.geotiff._\n",
    "import java.io.File"
   ]
  },
  {
   "cell_type": "markdown",
   "metadata": {},
   "source": [
    "(This is what adds the `.geotiff` method to `spark.read` below.)\n",
    "\n",
    "Then we use the `DataFrameReader` provided by `spark.read` to read the GeoTIFF:"
   ]
  },
  {
   "cell_type": "code",
   "execution_count": 7,
   "metadata": {},
   "outputs": [
    {
     "data": {
      "text/plain": [
       "samplePath: java.io.File = ../samples/LC08_RGB_Norfolk_COG.tiff\n",
       "tiffRF: astraea.spark.rasterframes.RasterFrame = [spatial_key: struct<col: int, row: int>, bounds: polygon ... 4 more fields]\n"
      ]
     },
     "execution_count": 7,
     "metadata": {},
     "output_type": "execute_result"
    }
   ],
   "source": [
    "val samplePath = new File(\"../samples/LC08_RGB_Norfolk_COG.tiff\")\n",
    "val tiffRF = spark.read.\n",
    "  geotiff.\n",
    "  loadRF(samplePath.toURI)"
   ]
  },
  {
   "cell_type": "markdown",
   "metadata": {},
   "source": [
    "Let's inspect the structure of what we get back:"
   ]
  },
  {
   "cell_type": "code",
   "execution_count": 8,
   "metadata": {},
   "outputs": [
    {
     "name": "stdout",
     "output_type": "stream",
     "text": [
      "root\n",
      " |-- spatial_key: struct (nullable = false)\n",
      " |    |-- col: integer (nullable = false)\n",
      " |    |-- row: integer (nullable = false)\n",
      " |-- bounds: polygon (nullable = true)\n",
      " |-- metadata: map (nullable = true)\n",
      " |    |-- key: string\n",
      " |    |-- value: string (valueContainsNull = false)\n",
      " |-- tile_1: rf_tile (nullable = false)\n",
      " |-- tile_2: rf_tile (nullable = false)\n",
      " |-- tile_3: rf_tile (nullable = false)\n",
      "\n"
     ]
    }
   ],
   "source": [
    "tiffRF.printSchema()"
   ]
  },
  {
   "cell_type": "markdown",
   "metadata": {},
   "source": [
    "As reported by Spark, RasterFrames extracts 6 columns from the GeoTIFF we selected. Some of these columns are dependent\n",
    "on the contents of the source data, and some are are always available. Let's take a look at these in more detail.\n",
    "\n",
    "* `spatial_key`: GeoTrellis assigns a `SpatialKey` or a `SpaceTimeKey` to each tile, mapping it to the layer grid from\n",
    "which it came. If it has a `SpaceTimeKey`, RasterFrames will split it into a `SpatialKey` and a `TemporalKey` (the\n",
    "latter with column name `temporal_key`).\n",
    "* `bounds`: The bounding box of the tile in the tile's native CRS.\n",
    "* `metadata`: The TIFF format header tags found in the file.\n",
    "* `tile` or `tile_n` (where `n` is a band number): For singleband GeoTIFF files, the `tile` column contains the cell\n",
    "data split into tiles. For multiband tiles, each column with `tile_` prefix contains each of the sources bands,\n",
    "in the order they were stored.\n",
    "\n",
    "See the section [Inspecting a `RasterFrame`](#inspecting-a--code-rasterframe--code-) (below) for more details on accessing the RasterFrame's metadata.\n",
    "\n",
    "## Reading a GeoTrellis Layer\n",
    "\n",
    "If your imagery is already ingested into a [GeoTrellis layer](https://docs.geotrellis.io/en/latest/guide/spark.html#writing-layers),\n",
    "you can use the RasterFrames GeoTrellis DataSource. There are two parts to this GeoTrellis Layer support. The first\n",
    "is the GeoTrellis Catalog DataSource, which lists the GeoTrellis layers available at a URI. The second part is the actual\n",
    "RasterFrame reader for pulling a layer into a RasterFrame.\n",
    "\n",
    "Before we show how all of this works we need to have a GeoTrellis layer to work with. We can create one with the RasterFrame we constructed above."
   ]
  },
  {
   "cell_type": "code",
   "execution_count": 9,
   "metadata": {},
   "outputs": [
    {
     "data": {
      "text/plain": [
       "import astraea.spark.rasterframes.datasource.geotrellis._\n",
       "import java.nio.file.Files\n",
       "base: java.net.URI = file:///tmp/rf-426423267263801253/\n",
       "layer: astraea.spark.rasterframes.datasource.geotrellis.Layer = Layer(file:///tmp/rf-426423267263801253/,Layer(name = \"sample\", zoom = 0))\n"
      ]
     },
     "execution_count": 9,
     "metadata": {},
     "output_type": "execute_result"
    }
   ],
   "source": [
    "import astraea.spark.rasterframes.datasource.geotrellis._\n",
    "import java.nio.file.Files\n",
    "\n",
    "val base = Files.createTempDirectory(\"rf-\").toUri\n",
    "val layer = Layer(base, \"sample\", 0)\n",
    "tiffRF.write.geotrellis.asLayer(layer).save()"
   ]
  },
  {
   "cell_type": "markdown",
   "metadata": {},
   "source": [
    "Now we can point our catalog reader at the base directory and see what was saved:"
   ]
  },
  {
   "cell_type": "code",
   "execution_count": 10,
   "metadata": {},
   "outputs": [
    {
     "name": "stdout",
     "output_type": "stream",
     "text": [
      "root\n",
      " |-- index: integer (nullable = false)\n",
      " |-- layer: struct (nullable = true)\n",
      " |    |-- base: struct (nullable = false)\n",
      " |    |    |-- uri: string (nullable = false)\n",
      " |    |-- id: struct (nullable = false)\n",
      " |    |    |-- name: string (nullable = true)\n",
      " |    |    |-- zoom: integer (nullable = false)\n",
      " |-- format: string (nullable = true)\n",
      " |-- keyClass: string (nullable = true)\n",
      " |-- path: string (nullable = true)\n",
      " |-- valueClass: string (nullable = true)\n",
      " |-- bounds: struct (nullable = true)\n",
      " |    |-- maxKey: struct (nullable = true)\n",
      " |    |    |-- col: long (nullable = true)\n",
      " |    |    |-- row: long (nullable = true)\n",
      " |    |-- minKey: struct (nullable = true)\n",
      " |    |    |-- col: long (nullable = true)\n",
      " |    |    |-- row: long (nullable = true)\n",
      " |-- cellType: string (nullable = true)\n",
      " |-- crs: string (nullable = true)\n",
      " |-- extent: struct (nullable = true)\n",
      " |    |-- xmax: double (nullable = true)\n",
      " |    |-- xmin: double (nullable = true)\n",
      " |    |-- ymax: double (nullable = true)\n",
      " |    |-- ymin: double (nullable = true)\n",
      " |-- layoutDefinition: struct (nullable = true)\n",
      " |    |-- extent: struct (nullable = true)\n",
      " |    |    |-- xmax: double (nullable = true)\n",
      " |    |    |-- xmin: double (nullable = true)\n",
      " |    |    |-- ymax: double (nullable = true)\n",
      " |    |    |-- ymin: double (nullable = true)\n",
      " |    |-- tileLayout: struct (nullable = true)\n",
      " |    |    |-- layoutCols: long (nullable = true)\n",
      " |    |    |-- layoutRows: long (nullable = true)\n",
      " |    |    |-- tileCols: long (nullable = true)\n",
      " |    |    |-- tileRows: long (nullable = true)\n",
      "\n",
      "+-----+--------------------+------+--------------------+--------+--------------------+-------------+--------+--------------------+--------------------+--------------------+\n",
      "|index|               layer|format|            keyClass|    path|          valueClass|       bounds|cellType|                 crs|              extent|    layoutDefinition|\n",
      "+-----+--------------------+------+--------------------+--------+--------------------+-------------+--------+--------------------+--------------------+--------------------+\n",
      "|    0|[[file:///tmp/rf-...|  file|geotrellis.spark....|sample/0|geotrellis.raster...|[[4,3],[0,0]]|  uint16|+proj=utm +zone=1...|[395295.0,364455....|[[395295.0,364455...|\n",
      "+-----+--------------------+------+--------------------+--------+--------------------+-------------+--------+--------------------+--------------------+--------------------+\n",
      "\n"
     ]
    },
    {
     "data": {
      "text/plain": [
       "cat: org.apache.spark.sql.DataFrame = [index: int, layer: struct<base: struct<uri: string>, id: struct<name: string, zoom: int>> ... 9 more fields]\n"
      ]
     },
     "execution_count": 10,
     "metadata": {},
     "output_type": "execute_result"
    }
   ],
   "source": [
    "val cat = spark.read.geotrellisCatalog(base)\n",
    "cat.printSchema\n",
    "cat.show()"
   ]
  },
  {
   "cell_type": "markdown",
   "metadata": {},
   "source": [
    "As you can see, there's a lot of information stored in each row of the catalog. Most of this is associated with how the\n",
    "layer is discretized. However, there may be other application specific metadata serialized with a layer that can be use\n",
    "to filter the catalog entries or select a specific one. But for now, we're just going to load a RasterFrame in from the\n",
    "catalog using a convenience function."
   ]
  },
  {
   "cell_type": "code",
   "execution_count": 11,
   "metadata": {},
   "outputs": [
    {
     "name": "stdout",
     "output_type": "stream",
     "text": [
      "+-----------+--------------------+--------------------+--------------------+--------------------+\n",
      "|spatial_key|              bounds|              tile_1|              tile_2|              tile_3|\n",
      "+-----------+--------------------+--------------------+--------------------+--------------------+\n",
      "|      [0,1]|POLYGON ((364455 ...|geotrellis.raster...|geotrellis.raster...|geotrellis.raster...|\n",
      "|      [2,0]|POLYGON ((376791 ...|geotrellis.raster...|geotrellis.raster...|geotrellis.raster...|\n",
      "|      [1,0]|POLYGON ((370623 ...|geotrellis.raster...|geotrellis.raster...|geotrellis.raster...|\n",
      "|      [0,0]|POLYGON ((364455 ...|geotrellis.raster...|geotrellis.raster...|geotrellis.raster...|\n",
      "|      [1,1]|POLYGON ((370623 ...|geotrellis.raster...|geotrellis.raster...|geotrellis.raster...|\n",
      "|      [3,0]|POLYGON ((382959 ...|geotrellis.raster...|geotrellis.raster...|geotrellis.raster...|\n",
      "|      [3,1]|POLYGON ((382959 ...|geotrellis.raster...|geotrellis.raster...|geotrellis.raster...|\n",
      "|      [1,2]|POLYGON ((370623 ...|geotrellis.raster...|geotrellis.raster...|geotrellis.raster...|\n",
      "|      [2,1]|POLYGON ((376791 ...|geotrellis.raster...|geotrellis.raster...|geotrellis.raster...|\n",
      "|      [0,2]|POLYGON ((364455 ...|geotrellis.raster...|geotrellis.raster...|geotrellis.raster...|\n",
      "|      [0,3]|POLYGON ((364455 ...|geotrellis.raster...|geotrellis.raster...|geotrellis.raster...|\n",
      "|      [1,3]|POLYGON ((370623 ...|geotrellis.raster...|geotrellis.raster...|geotrellis.raster...|\n",
      "|      [4,1]|POLYGON ((389127 ...|geotrellis.raster...|geotrellis.raster...|geotrellis.raster...|\n",
      "|      [2,2]|POLYGON ((376791 ...|geotrellis.raster...|geotrellis.raster...|geotrellis.raster...|\n",
      "|      [2,3]|POLYGON ((376791 ...|geotrellis.raster...|geotrellis.raster...|geotrellis.raster...|\n",
      "|      [3,3]|POLYGON ((382959 ...|geotrellis.raster...|geotrellis.raster...|geotrellis.raster...|\n",
      "|      [3,2]|POLYGON ((382959 ...|geotrellis.raster...|geotrellis.raster...|geotrellis.raster...|\n",
      "|      [4,0]|POLYGON ((389127 ...|geotrellis.raster...|geotrellis.raster...|geotrellis.raster...|\n",
      "|      [4,2]|POLYGON ((389127 ...|geotrellis.raster...|geotrellis.raster...|geotrellis.raster...|\n",
      "|      [4,3]|POLYGON ((389127 ...|geotrellis.raster...|geotrellis.raster...|geotrellis.raster...|\n",
      "+-----------+--------------------+--------------------+--------------------+--------------------+\n",
      "\n"
     ]
    },
    {
     "data": {
      "text/plain": [
       "firstLayer: astraea.spark.rasterframes.datasource.geotrellis.Layer = Layer(file:///tmp/rf-426423267263801253/,Layer(name = \"sample\", zoom = 0))\n",
       "rfAgain: astraea.spark.rasterframes.RasterFrame = [spatial_key: struct<col: int, row: int>, bounds: polygon ... 3 more fields]\n"
      ]
     },
     "execution_count": 11,
     "metadata": {},
     "output_type": "execute_result"
    }
   ],
   "source": [
    "val firstLayer = cat.select(geotrellis_layer).first\n",
    "val rfAgain = spark.read.geotrellis.loadRF(firstLayer)\n",
    "rfAgain.show()"
   ]
  },
  {
   "cell_type": "markdown",
   "metadata": {},
   "source": [
    "If you already know the `LayerId` of what you're wanting to read, you can bypass working with the catalog:"
   ]
  },
  {
   "cell_type": "code",
   "execution_count": 12,
   "metadata": {},
   "outputs": [
    {
     "data": {
      "text/plain": [
       "anotherRF: astraea.spark.rasterframes.RasterFrame = [spatial_key: struct<col: int, row: int>, bounds: polygon ... 3 more fields]\n"
      ]
     },
     "execution_count": 12,
     "metadata": {},
     "output_type": "execute_result"
    }
   ],
   "source": [
    "val anotherRF = spark.read.geotrellis.loadRF(layer)"
   ]
  },
  {
   "cell_type": "markdown",
   "metadata": {},
   "source": [
    "## Using GeoTrellis APIs\n",
    "\n",
    "If you are used to working directly with the GeoTrellis APIs, there are a number of additional ways to create a `RasterFrame`, as enumerated in the sections below.\n",
    "\n",
    "First, some more `import`s:"
   ]
  },
  {
   "cell_type": "code",
   "execution_count": 4,
   "metadata": {},
   "outputs": [
    {
     "data": {
      "text/plain": [
       "import geotrellis.raster.io.geotiff.SinglebandGeoTiff\n",
       "import geotrellis.spark.io._\n"
      ]
     },
     "execution_count": 4,
     "metadata": {},
     "output_type": "execute_result"
    }
   ],
   "source": [
    "import geotrellis.raster.io.geotiff.SinglebandGeoTiff\n",
    "import geotrellis.spark.io._"
   ]
  },
  {
   "cell_type": "markdown",
   "metadata": {},
   "source": [
    "### From `ProjectedExtent`\n",
    "\n",
    "The simplest mechanism for getting a RasterFrame is to use the `toRF(tileCols, tileRows)` extension method on `ProjectedRaster`."
   ]
  },
  {
   "cell_type": "code",
   "execution_count": null,
   "metadata": {},
   "outputs": [],
   "source": [
    "val scene = SinglebandGeoTiff(\"../samples/L8-B8-Robinson-IL.tiff\")\n",
    "val rf = scene.projectedRaster.toRF(128, 128)\n",
    "rf.show(5, false)"
   ]
  },
  {
   "cell_type": "code",
   "execution_count": 8,
   "metadata": {},
   "outputs": [
    {
     "data": {
      "text/plain": [
       "res4: geotrellis.raster.io.geotiff.SinglebandGeoTiff = SinglebandGeoTiff(geotrellis.raster.UShortConstantNoDataArrayTile@1c49fd8d,Extent(431902.5, 4313647.5, 443512.5, 4321147.5),EPSG:32616,Tags(Map(AREA_OR_POINT -> POINT),List(Map())),GeoTiffOptions(geotrellis.raster.io.geotiff.Striped@20fb483f,geotrellis.raster.io.geotiff.compression.DeflateCompression$@30c85a91,1,None))\n"
      ]
     },
     "execution_count": 8,
     "metadata": {},
     "output_type": "execute_result"
    }
   ],
   "source": [
    "scene"
   ]
  },
  {
   "cell_type": "markdown",
   "metadata": {},
   "source": [
    "### From `TileLayerRDD`\n",
    "\n",
    "Another option is to use a GeoTrellis [`LayerReader`](https://docs.geotrellis.io/en/latest/guide/tile-backends.html),\n",
    "to get a `TileLayerRDD` for which there's also a `toRF` extension method."
   ]
  },
  {
   "cell_type": "code",
   "execution_count": 16,
   "metadata": {},
   "outputs": [
    {
     "ename": "scala.NotImplementedError",
     "evalue": " an implementation is missing",
     "output_type": "error",
     "traceback": [
      "scala.NotImplementedError: an implementation is missing",
      "  at scala.Predef$.$qmark$qmark$qmark(Predef.scala:230)",
      "  ... 49 elided",
      ""
     ]
    }
   ],
   "source": [
    "import geotrellis.spark._\n",
    "val tiledLayer: TileLayerRDD[SpatialKey] = \n",
    "    val catalogPath: String = \"../catalog\"\n",
    "    val store: AttributeStore = FileAttributeStore(catalogPath)\n",
    "    val reader = FileLayerReader(store)\n",
    "\n",
    "val rf = tiledLayer.toRF"
   ]
  },
  {
   "cell_type": "markdown",
   "metadata": {},
   "source": [
    "## Inspecting a `RasterFrame`\n",
    "\n",
    "`RasterFrame` has a number of methods providing access to metadata about the contents of the RasterFrame.\n",
    "\n",
    "### Tile Column Names"
   ]
  },
  {
   "cell_type": "code",
   "execution_count": 18,
   "metadata": {},
   "outputs": [
    {
     "name": "stdout",
     "output_type": "stream",
     "text": [
      "ArraySeq(tile)"
     ]
    }
   ],
   "source": [
    "rf.tileColumns.map(_.toString)"
   ]
  },
  {
   "cell_type": "markdown",
   "metadata": {},
   "source": [
    "### Spatial Key Column Name"
   ]
  },
  {
   "cell_type": "code",
   "execution_count": 19,
   "metadata": {},
   "outputs": [
    {
     "data": {
      "text/plain": [
       "res9: String = spatial_key\n"
      ]
     },
     "execution_count": 19,
     "metadata": {},
     "output_type": "execute_result"
    }
   ],
   "source": [
    "rf.spatialKeyColumn.toString"
   ]
  },
  {
   "cell_type": "markdown",
   "metadata": {},
   "source": [
    "### Temporal Key Column\n",
    "\n",
    "Returns an `Option[Column]` since not all RasterFrames have an explicit temporal dimension."
   ]
  },
  {
   "cell_type": "code",
   "execution_count": 20,
   "metadata": {},
   "outputs": [
    {
     "data": {
      "text/plain": [
       "res10: Option[String] = None\n"
      ]
     },
     "execution_count": 20,
     "metadata": {},
     "output_type": "execute_result"
    }
   ],
   "source": [
    "rf.temporalKeyColumn.map(_.toString)"
   ]
  },
  {
   "cell_type": "markdown",
   "metadata": {},
   "source": [
    "### Tile Layer Metadata\n",
    "\n",
    "The Tile Layer Metadata defines how the spatial/spatiotemporal domain is discretized into tiles, and what the key bounds are."
   ]
  },
  {
   "cell_type": "code",
   "execution_count": 21,
   "metadata": {},
   "outputs": [
    {
     "data": {
      "text/plain": [
       "import spray.json._\n",
       "res11: String =\n",
       "{\n",
       "  \"extent\": {\n",
       "    \"xmin\": 431902.5,\n",
       "    \"ymin\": 4313647.5,\n",
       "    \"xmax\": 443512.5,\n",
       "    \"ymax\": 4321147.5\n",
       "  },\n",
       "  \"layoutDefinition\": {\n",
       "    \"extent\": {\n",
       "      \"xmin\": 431902.5,\n",
       "      \"ymin\": 4313467.5,\n",
       "      \"xmax\": 445342.5,\n",
       "      \"ymax\": 4321147.5\n",
       "    },\n",
       "    \"tileLayout\": {\n",
       "      \"layoutCols\": 7,\n",
       "      \"layoutRows\": 4,\n",
       "      \"tileCols\": 128,\n",
       "      \"tileRows\": 128\n",
       "    }\n",
       "  },\n",
       "  \"bounds\": {\n",
       "    \"minKey\": {\n",
       "      \"col\": 0,\n",
       "      \"row\": 0\n",
       "    },\n",
       "    \"maxKey\": {\n",
       "      \"col\": 6,\n",
       "      \"row\": 3\n",
       "    }\n",
       "  },\n",
       "  \"cellType\": \"uint16\",\n",
       "  \"crs\": \"+proj=utm +zone=16 +datum=WGS84 +units=m +no_defs \"\n",
       "}\n"
      ]
     },
     "execution_count": 21,
     "metadata": {},
     "output_type": "execute_result"
    }
   ],
   "source": [
    "import spray.json._\n",
    "// NB: The `fold` is required because an `Either` is returned, depending on the key type.\n",
    "rf.tileLayerMetadata.fold(_.toJson, _.toJson).prettyPrint"
   ]
  },
  {
   "cell_type": "code",
   "execution_count": null,
   "metadata": {},
   "outputs": [],
   "source": []
  }
 ],
 "metadata": {
  "kernelspec": {
   "display_name": "spylon-kernel",
   "language": "scala",
   "name": "spylon-kernel"
  },
  "language_info": {
   "codemirror_mode": "text/x-scala",
   "file_extension": ".scala",
   "help_links": [
    {
     "text": "MetaKernel Magics",
     "url": "https://github.com/calysto/metakernel/blob/master/metakernel/magics/README.md"
    }
   ],
   "mimetype": "text/x-scala",
   "name": "scala",
   "pygments_lexer": "scala",
   "version": "0.4.1"
  }
 },
 "nbformat": 4,
 "nbformat_minor": 2
}
